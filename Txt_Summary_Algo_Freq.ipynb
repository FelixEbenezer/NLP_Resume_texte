{
  "nbformat": 4,
  "nbformat_minor": 0,
  "metadata": {
    "colab": {
      "name": "Txt_Summary_Algo_Freq.ipynb",
      "provenance": [],
      "authorship_tag": "ABX9TyO2zYNWwYGrQlhURa60Gx+X",
      "include_colab_link": true
    },
    "kernelspec": {
      "name": "python3",
      "display_name": "Python 3"
    },
    "language_info": {
      "name": "python"
    }
  },
  "cells": [
    {
      "cell_type": "markdown",
      "metadata": {
        "id": "view-in-github",
        "colab_type": "text"
      },
      "source": [
        "<a href=\"https://colab.research.google.com/github/FelixEbenezer/NLP_Resume_texte/blob/main/Txt_Summary_Algo_Freq.ipynb\" target=\"_parent\"><img src=\"https://colab.research.google.com/assets/colab-badge.svg\" alt=\"Open In Colab\"/></a>"
      ]
    },
    {
      "cell_type": "markdown",
      "source": [
        "#CHAP1: ALGO DE TEXT SUMMARIZATION BASÉ SUR LA FREQUENCE DE MOTS"
      ],
      "metadata": {
        "id": "eH2mgQKjQXJc"
      }
    },
    {
      "cell_type": "markdown",
      "source": [
        "LES ETAPES A SUIVRE:\n",
        "- Pre-traitement de texte\n",
        "- Frequence des mots\n",
        "- frequence proportionnelle de mots (Poids)\n",
        "- Tokenization des phrases\n",
        "- Notes pour les phrases\n",
        "- Ordre de meilleures phrases\n",
        "- Generation of summary "
      ],
      "metadata": {
        "id": "2OiF7TgERDym"
      }
    },
    {
      "cell_type": "markdown",
      "source": [
        "#1. Pre-traitement de texte"
      ],
      "metadata": {
        "id": "aqD5nWFCTFK4"
      }
    },
    {
      "cell_type": "code",
      "source": [
        "import re\n",
        "import nltk\n",
        "import string"
      ],
      "metadata": {
        "id": "EclND2vjTEe3"
      },
      "execution_count": 1,
      "outputs": []
    },
    {
      "cell_type": "code",
      "execution_count": 2,
      "metadata": {
        "id": "LZjvcME_5zZs"
      },
      "outputs": [],
      "source": [
        "texto1 = \"\"\"L ' intelligence artificielle est une intelligence de type humain. \n",
        "                    Ils la définissent comme l'étude d'un agent artificiel doté d ' intelligence. \n",
        "                    Science et ingénierie de la production de machines dotées d ' intelligence. \n",
        "                    Résoudre des problèmes et faire preuve d ' intelligence. \n",
        "                    En rapport avec le comportement intelligent. \n",
        "                    Construire des machines pour raisonner. \n",
        "                    Apprendre des erreurs et des réussites. \n",
        "                    L ' intelligence artificielle consiste à raisonner dans des situations #####de la vie quotidienne.\"\"\"\n"
      ]
    },
    {
      "cell_type": "code",
      "source": [
        "texto1"
      ],
      "metadata": {
        "colab": {
          "base_uri": "https://localhost:8080/",
          "height": 105
        },
        "id": "TnltWsnZYh3h",
        "outputId": "3885dcf4-3ae8-4916-de0b-311a59e6c53a"
      },
      "execution_count": null,
      "outputs": [
        {
          "output_type": "execute_result",
          "data": {
            "text/plain": [
              "\"L ' intelligence artificielle est une intelligence de type humain. \\n                    Ils la définissent comme l'étude d'un agent artificiel doté d ' intelligence. \\n                    Science et ingénierie de la production de machines dotées d ' intelligence. \\n                    Résoudre des problèmes et faire preuve d ' intelligence. \\n                    En rapport avec le comportement intelligent. \\n                    Construire des machines pour raisonner. \\n                    Apprendre des erreurs et des réussites. \\n                    L ' intelligence artificielle consiste à raisonner dans des situations #####de la vie quotidienne.\""
            ],
            "application/vnd.google.colaboratory.intrinsic+json": {
              "type": "string"
            }
          },
          "metadata": {},
          "execution_count": 25
        }
      ]
    },
    {
      "cell_type": "code",
      "source": [
        "nltk.download('punkt')"
      ],
      "metadata": {
        "colab": {
          "base_uri": "https://localhost:8080/"
        },
        "id": "LvDbHMGTZShn",
        "outputId": "84d7bf28-4f0a-4105-ab61-04c548de4868"
      },
      "execution_count": 3,
      "outputs": [
        {
          "output_type": "stream",
          "name": "stdout",
          "text": [
            "[nltk_data] Downloading package punkt to /root/nltk_data...\n",
            "[nltk_data]   Unzipping tokenizers/punkt.zip.\n"
          ]
        },
        {
          "output_type": "execute_result",
          "data": {
            "text/plain": [
              "True"
            ]
          },
          "metadata": {},
          "execution_count": 3
        }
      ]
    },
    {
      "cell_type": "code",
      "source": [
        "nltk.download('stopwords')"
      ],
      "metadata": {
        "colab": {
          "base_uri": "https://localhost:8080/"
        },
        "id": "MBaCD_CEZtov",
        "outputId": "fa794c6c-fee2-4828-9c82-d2bb902cd1b3"
      },
      "execution_count": 4,
      "outputs": [
        {
          "output_type": "stream",
          "name": "stdout",
          "text": [
            "[nltk_data] Downloading package stopwords to /root/nltk_data...\n",
            "[nltk_data]   Unzipping corpora/stopwords.zip.\n"
          ]
        },
        {
          "output_type": "execute_result",
          "data": {
            "text/plain": [
              "True"
            ]
          },
          "metadata": {},
          "execution_count": 4
        }
      ]
    },
    {
      "cell_type": "code",
      "source": [
        "stopwords = nltk.corpus.stopwords.words('french')\n",
        "print(stopwords)"
      ],
      "metadata": {
        "colab": {
          "base_uri": "https://localhost:8080/"
        },
        "id": "7D-JsHRtaCSJ",
        "outputId": "c64a141d-3c84-4134-fa48-93e4c4d55053"
      },
      "execution_count": 5,
      "outputs": [
        {
          "output_type": "stream",
          "name": "stdout",
          "text": [
            "['au', 'aux', 'avec', 'ce', 'ces', 'dans', 'de', 'des', 'du', 'elle', 'en', 'et', 'eux', 'il', 'ils', 'je', 'la', 'le', 'les', 'leur', 'lui', 'ma', 'mais', 'me', 'même', 'mes', 'moi', 'mon', 'ne', 'nos', 'notre', 'nous', 'on', 'ou', 'par', 'pas', 'pour', 'qu', 'que', 'qui', 'sa', 'se', 'ses', 'son', 'sur', 'ta', 'te', 'tes', 'toi', 'ton', 'tu', 'un', 'une', 'vos', 'votre', 'vous', 'c', 'd', 'j', 'l', 'à', 'm', 'n', 's', 't', 'y', 'été', 'étée', 'étées', 'étés', 'étant', 'étante', 'étants', 'étantes', 'suis', 'es', 'est', 'sommes', 'êtes', 'sont', 'serai', 'seras', 'sera', 'serons', 'serez', 'seront', 'serais', 'serait', 'serions', 'seriez', 'seraient', 'étais', 'était', 'étions', 'étiez', 'étaient', 'fus', 'fut', 'fûmes', 'fûtes', 'furent', 'sois', 'soit', 'soyons', 'soyez', 'soient', 'fusse', 'fusses', 'fût', 'fussions', 'fussiez', 'fussent', 'ayant', 'ayante', 'ayantes', 'ayants', 'eu', 'eue', 'eues', 'eus', 'ai', 'as', 'avons', 'avez', 'ont', 'aurai', 'auras', 'aura', 'aurons', 'aurez', 'auront', 'aurais', 'aurait', 'aurions', 'auriez', 'auraient', 'avais', 'avait', 'avions', 'aviez', 'avaient', 'eut', 'eûmes', 'eûtes', 'eurent', 'aie', 'aies', 'ait', 'ayons', 'ayez', 'aient', 'eusse', 'eusses', 'eût', 'eussions', 'eussiez', 'eussent']\n"
          ]
        }
      ]
    },
    {
      "cell_type": "code",
      "source": [
        "def pre_traitement(texto):\n",
        "  texto = texto.lower()\n",
        "  texto = re.sub(r'\\s+', ' ', texto) #\\s veut dire espace et + pour qu il trouve tous les espaces, et les remplacer par ' ' \n",
        "  #tojenization\n",
        "  texto = [mot for mot in nltk.word_tokenize(texto)] #pareil si on ne voulait pas utliser nltj, on aurait du faire simplement m for m in texto.split()\n",
        "  #Remotion de stopwords\n",
        "  texto = [mot for mot in texto if mot not in stopwords ]\n",
        "  #Remotion de ponctuation\n",
        "  texto = [mot for mot in texto if mot not in string.punctuation]\n",
        "  return ' '.join(texto) "
      ],
      "metadata": {
        "id": "TKDuusywYRId"
      },
      "execution_count": 6,
      "outputs": []
    },
    {
      "cell_type": "code",
      "source": [
        "pre_traitement(texto1)"
      ],
      "metadata": {
        "colab": {
          "base_uri": "https://localhost:8080/",
          "height": 70
        },
        "id": "8vHP_9CtYlrh",
        "outputId": "303ad05d-497a-4520-ba76-e76302ef7e12"
      },
      "execution_count": null,
      "outputs": [
        {
          "output_type": "execute_result",
          "data": {
            "text/plain": [
              "\"intelligence artificielle intelligence type humain définissent comme l'étude d'un agent artificiel doté intelligence science ingénierie production machines dotées intelligence résoudre problèmes faire preuve intelligence rapport comportement intelligent construire machines raisonner apprendre erreurs réussites intelligence artificielle consiste raisonner situations vie quotidienne\""
            ],
            "application/vnd.google.colaboratory.intrinsic+json": {
              "type": "string"
            }
          },
          "metadata": {},
          "execution_count": 26
        }
      ]
    },
    {
      "cell_type": "markdown",
      "source": [
        "#2. Frequece de mots"
      ],
      "metadata": {
        "id": "CRlVrE9e6Vcf"
      }
    },
    {
      "cell_type": "code",
      "source": [
        "freq_mots = nltk.FreqDist(pre_traitement(texto1).split())\n",
        "freq_mots"
      ],
      "metadata": {
        "colab": {
          "base_uri": "https://localhost:8080/"
        },
        "id": "3DRfLJbl-NXp",
        "outputId": "eee27cfe-e4ca-49b9-d705-79b70d1b409a"
      },
      "execution_count": 7,
      "outputs": [
        {
          "output_type": "execute_result",
          "data": {
            "text/plain": [
              "FreqDist({'agent': 1,\n",
              "          'apprendre': 1,\n",
              "          'artificiel': 1,\n",
              "          'artificielle': 2,\n",
              "          'comme': 1,\n",
              "          'comportement': 1,\n",
              "          'consiste': 1,\n",
              "          'construire': 1,\n",
              "          \"d'un\": 1,\n",
              "          'doté': 1,\n",
              "          'dotées': 1,\n",
              "          'définissent': 1,\n",
              "          'erreurs': 1,\n",
              "          'faire': 1,\n",
              "          'humain': 1,\n",
              "          'ingénierie': 1,\n",
              "          'intelligence': 6,\n",
              "          'intelligent': 1,\n",
              "          \"l'étude\": 1,\n",
              "          'machines': 2,\n",
              "          'preuve': 1,\n",
              "          'problèmes': 1,\n",
              "          'production': 1,\n",
              "          'quotidienne': 1,\n",
              "          'raisonner': 2,\n",
              "          'rapport': 1,\n",
              "          'résoudre': 1,\n",
              "          'réussites': 1,\n",
              "          'science': 1,\n",
              "          'situations': 1,\n",
              "          'type': 1,\n",
              "          'vie': 1})"
            ]
          },
          "metadata": {},
          "execution_count": 7
        }
      ]
    },
    {
      "cell_type": "code",
      "source": [
        "#. FREQUENCE PROPORTIONNELLE DE MOTS\n",
        "max(freq_mots.values())"
      ],
      "metadata": {
        "colab": {
          "base_uri": "https://localhost:8080/"
        },
        "id": "4UF5uREN_qI7",
        "outputId": "9b05e014-883b-4bbe-d2c5-aed3caa38cbf"
      },
      "execution_count": null,
      "outputs": [
        {
          "output_type": "execute_result",
          "data": {
            "text/plain": [
              "6"
            ]
          },
          "metadata": {},
          "execution_count": 28
        }
      ]
    },
    {
      "cell_type": "code",
      "source": [
        "freq_prop_mots = {}\n",
        "for mot, freq in freq_mots.items():\n",
        "  freq_prop_mots[mot] = freq/max(freq_mots.values())\n",
        "\n",
        "freq_prop_mots"
      ],
      "metadata": {
        "colab": {
          "base_uri": "https://localhost:8080/"
        },
        "id": "C7vueoSj_1Uu",
        "outputId": "b43de590-2fd7-4a5d-83fe-a5dd44af6eaf"
      },
      "execution_count": 8,
      "outputs": [
        {
          "output_type": "execute_result",
          "data": {
            "text/plain": [
              "{'agent': 0.16666666666666666,\n",
              " 'apprendre': 0.16666666666666666,\n",
              " 'artificiel': 0.16666666666666666,\n",
              " 'artificielle': 0.3333333333333333,\n",
              " 'comme': 0.16666666666666666,\n",
              " 'comportement': 0.16666666666666666,\n",
              " 'consiste': 0.16666666666666666,\n",
              " 'construire': 0.16666666666666666,\n",
              " \"d'un\": 0.16666666666666666,\n",
              " 'doté': 0.16666666666666666,\n",
              " 'dotées': 0.16666666666666666,\n",
              " 'définissent': 0.16666666666666666,\n",
              " 'erreurs': 0.16666666666666666,\n",
              " 'faire': 0.16666666666666666,\n",
              " 'humain': 0.16666666666666666,\n",
              " 'ingénierie': 0.16666666666666666,\n",
              " 'intelligence': 1.0,\n",
              " 'intelligent': 0.16666666666666666,\n",
              " \"l'étude\": 0.16666666666666666,\n",
              " 'machines': 0.3333333333333333,\n",
              " 'preuve': 0.16666666666666666,\n",
              " 'problèmes': 0.16666666666666666,\n",
              " 'production': 0.16666666666666666,\n",
              " 'quotidienne': 0.16666666666666666,\n",
              " 'raisonner': 0.3333333333333333,\n",
              " 'rapport': 0.16666666666666666,\n",
              " 'résoudre': 0.16666666666666666,\n",
              " 'réussites': 0.16666666666666666,\n",
              " 'science': 0.16666666666666666,\n",
              " 'situations': 0.16666666666666666,\n",
              " 'type': 0.16666666666666666,\n",
              " 'vie': 0.16666666666666666}"
            ]
          },
          "metadata": {},
          "execution_count": 8
        }
      ]
    },
    {
      "cell_type": "code",
      "source": [
        "#TOKENIZATION DE PHRASES"
      ],
      "metadata": {
        "id": "wYin8L0TA7VR"
      },
      "execution_count": null,
      "outputs": []
    },
    {
      "cell_type": "code",
      "source": [
        "exemple = 'Mr. Felix est déjà rentré. Il va encore demain'\n",
        "exemple.split()  #Split fait la tokenization par mots alors que nous on veut le faire par phrase"
      ],
      "metadata": {
        "colab": {
          "base_uri": "https://localhost:8080/"
        },
        "id": "luAW0qCUA9rP",
        "outputId": "0530c5e7-a421-41ce-8a2e-10d2d93009f8"
      },
      "execution_count": null,
      "outputs": [
        {
          "output_type": "execute_result",
          "data": {
            "text/plain": [
              "['Mr.', 'Felix', 'est', 'déjà', 'rentré.', 'Il', 'va', 'encore', 'demain']"
            ]
          },
          "metadata": {},
          "execution_count": 34
        }
      ]
    },
    {
      "cell_type": "code",
      "source": [
        "#comme on souhaite faire la tokenization des phrases et pas de mots on peut mettre le caractere de separation dans split\n",
        "exemple.split('.') #split ne tient pas compte de que Mr. fait bien partie de la premiere phrase d ou il ne doit pas le separer"
      ],
      "metadata": {
        "colab": {
          "base_uri": "https://localhost:8080/"
        },
        "id": "ct9SUUeJBtPL",
        "outputId": "29d63c8c-e42b-414e-a99d-ec700ae79bd0"
      },
      "execution_count": null,
      "outputs": [
        {
          "output_type": "execute_result",
          "data": {
            "text/plain": [
              "['Mr', ' Felix est déjà rentré', ' Il va encore demain']"
            ]
          },
          "metadata": {},
          "execution_count": 35
        }
      ]
    },
    {
      "cell_type": "code",
      "source": [
        "#Pour resoudre ce probleme, on utlise la methode sent_tokenize de nltk\n",
        "nltk.sent_tokenize(exemple)"
      ],
      "metadata": {
        "colab": {
          "base_uri": "https://localhost:8080/"
        },
        "id": "N5x2GzbeCCY6",
        "outputId": "8ff21334-1594-45ff-a898-d3846405eb0c"
      },
      "execution_count": null,
      "outputs": [
        {
          "output_type": "execute_result",
          "data": {
            "text/plain": [
              "['Mr. Felix est déjà rentré.', 'Il va encore demain']"
            ]
          },
          "metadata": {},
          "execution_count": 36
        }
      ]
    },
    {
      "cell_type": "code",
      "source": [
        "#on va donc l appliquer sur le texte original texto1 qui contient les . e non le pretraitement(texto1) qui n en contient pas\n",
        "nltk.sent_tokenize(texto1)"
      ],
      "metadata": {
        "colab": {
          "base_uri": "https://localhost:8080/"
        },
        "id": "SEf-t1jEClnv",
        "outputId": "87f9fdc1-11b0-4060-f0a2-ba79c5c95936"
      },
      "execution_count": 9,
      "outputs": [
        {
          "output_type": "execute_result",
          "data": {
            "text/plain": [
              "[\"L ' intelligence artificielle est une intelligence de type humain.\",\n",
              " \"Ils la définissent comme l'étude d'un agent artificiel doté d ' intelligence.\",\n",
              " \"Science et ingénierie de la production de machines dotées d ' intelligence.\",\n",
              " \"Résoudre des problèmes et faire preuve d ' intelligence.\",\n",
              " 'En rapport avec le comportement intelligent.',\n",
              " 'Construire des machines pour raisonner.',\n",
              " 'Apprendre des erreurs et des réussites.',\n",
              " \"L ' intelligence artificielle consiste à raisonner dans des situations #####de la vie quotidienne.\"]"
            ]
          },
          "metadata": {},
          "execution_count": 9
        }
      ]
    },
    {
      "cell_type": "code",
      "source": [
        "#On va faire LES NOTES POUR LES PHRASES"
      ],
      "metadata": {
        "id": "-Zeqy62PEIk5"
      },
      "execution_count": null,
      "outputs": []
    },
    {
      "cell_type": "code",
      "source": [
        "#Le but est de voir chque mot constutuant la phrase si il a une freq de combien pour pouvoir caclucler la freg totale d une phrase"
      ],
      "metadata": {
        "id": "aaohTh1fELb9"
      },
      "execution_count": null,
      "outputs": []
    },
    {
      "cell_type": "code",
      "source": [
        "liste_phrase = nltk.sent_tokenize(texto1)\n",
        "freq_prop_mots"
      ],
      "metadata": {
        "colab": {
          "base_uri": "https://localhost:8080/"
        },
        "id": "8yUP1wu0EsRd",
        "outputId": "3e0ec101-937d-4ec5-d3cf-63a85dd74245"
      },
      "execution_count": 10,
      "outputs": [
        {
          "output_type": "execute_result",
          "data": {
            "text/plain": [
              "{'agent': 0.16666666666666666,\n",
              " 'apprendre': 0.16666666666666666,\n",
              " 'artificiel': 0.16666666666666666,\n",
              " 'artificielle': 0.3333333333333333,\n",
              " 'comme': 0.16666666666666666,\n",
              " 'comportement': 0.16666666666666666,\n",
              " 'consiste': 0.16666666666666666,\n",
              " 'construire': 0.16666666666666666,\n",
              " \"d'un\": 0.16666666666666666,\n",
              " 'doté': 0.16666666666666666,\n",
              " 'dotées': 0.16666666666666666,\n",
              " 'définissent': 0.16666666666666666,\n",
              " 'erreurs': 0.16666666666666666,\n",
              " 'faire': 0.16666666666666666,\n",
              " 'humain': 0.16666666666666666,\n",
              " 'ingénierie': 0.16666666666666666,\n",
              " 'intelligence': 1.0,\n",
              " 'intelligent': 0.16666666666666666,\n",
              " \"l'étude\": 0.16666666666666666,\n",
              " 'machines': 0.3333333333333333,\n",
              " 'preuve': 0.16666666666666666,\n",
              " 'problèmes': 0.16666666666666666,\n",
              " 'production': 0.16666666666666666,\n",
              " 'quotidienne': 0.16666666666666666,\n",
              " 'raisonner': 0.3333333333333333,\n",
              " 'rapport': 0.16666666666666666,\n",
              " 'résoudre': 0.16666666666666666,\n",
              " 'réussites': 0.16666666666666666,\n",
              " 'science': 0.16666666666666666,\n",
              " 'situations': 0.16666666666666666,\n",
              " 'type': 0.16666666666666666,\n",
              " 'vie': 0.16666666666666666}"
            ]
          },
          "metadata": {},
          "execution_count": 10
        }
      ]
    },
    {
      "cell_type": "code",
      "source": [
        "notes_phrase = {}\n",
        "freqs = 0.0\n",
        "for phrase in liste_phrase:\n",
        "  for mot, freq in freq_prop_mots.items():\n",
        "    if mot in nltk.word_tokenize(phrase.lower()):\n",
        "      freqs = freqs + freq  \n",
        "      notes_phrase[phrase]=(freqs)\n",
        "\n",
        "notes_phrase"
      ],
      "metadata": {
        "id": "BzuAFf9bEi5-"
      },
      "execution_count": null,
      "outputs": []
    },
    {
      "cell_type": "code",
      "source": [
        "nota_sentencas = {}\n",
        "for sentenca in liste_phrase:\n",
        "  #print(sentenca)\n",
        "  for palavra in nltk.word_tokenize(sentenca.lower()):\n",
        "    #print(palavra)\n",
        "    if palavra in freq_prop_mots.keys():\n",
        "      if sentenca not in nota_sentencas.keys():\n",
        "        nota_sentencas[sentenca] = freq_prop_mots[palavra]\n",
        "      else:\n",
        "        nota_sentencas[sentenca] += freq_prop_mots[palavra]\n",
        "\n",
        "nota_sentencas"
      ],
      "metadata": {
        "colab": {
          "base_uri": "https://localhost:8080/"
        },
        "id": "S73TWlqwLxg4",
        "outputId": "3b371da8-b805-40d2-923f-5d30b9eefba0"
      },
      "execution_count": 11,
      "outputs": [
        {
          "output_type": "execute_result",
          "data": {
            "text/plain": [
              "{'Apprendre des erreurs et des réussites.': 0.5,\n",
              " 'Construire des machines pour raisonner.': 0.8333333333333333,\n",
              " 'En rapport avec le comportement intelligent.': 0.5,\n",
              " \"Ils la définissent comme l'étude d'un agent artificiel doté d ' intelligence.\": 2.1666666666666665,\n",
              " \"L ' intelligence artificielle consiste à raisonner dans des situations #####de la vie quotidienne.\": 2.333333333333333,\n",
              " \"L ' intelligence artificielle est une intelligence de type humain.\": 2.666666666666666,\n",
              " \"Résoudre des problèmes et faire preuve d ' intelligence.\": 1.6666666666666665,\n",
              " \"Science et ingénierie de la production de machines dotées d ' intelligence.\": 2.0}"
            ]
          },
          "metadata": {},
          "execution_count": 11
        }
      ]
    },
    {
      "cell_type": "code",
      "source": [
        "#ORDONER LES PHRASES PAR LEURS MEILLEURS NOTES POUR NE CHOISIR QUE LES 3 PREMIERES"
      ],
      "metadata": {
        "id": "hRj80bMdBU5o"
      },
      "execution_count": null,
      "outputs": []
    },
    {
      "cell_type": "code",
      "source": [
        "import heapq\n",
        "melhores_sentencas = heapq.nlargest(3, nota_sentencas, key=nota_sentencas.get)"
      ],
      "metadata": {
        "id": "o4BdWdBfBghY"
      },
      "execution_count": 12,
      "outputs": []
    },
    {
      "cell_type": "code",
      "source": [
        "melhores_sentencas"
      ],
      "metadata": {
        "colab": {
          "base_uri": "https://localhost:8080/"
        },
        "id": "s65QMPe2Biy7",
        "outputId": "2db8c538-a14b-4a0d-c4c6-d52d705a3f4d"
      },
      "execution_count": 13,
      "outputs": [
        {
          "output_type": "execute_result",
          "data": {
            "text/plain": [
              "[\"L ' intelligence artificielle est une intelligence de type humain.\",\n",
              " \"L ' intelligence artificielle consiste à raisonner dans des situations #####de la vie quotidienne.\",\n",
              " \"Ils la définissent comme l'étude d'un agent artificiel doté d ' intelligence.\"]"
            ]
          },
          "metadata": {},
          "execution_count": 13
        }
      ]
    },
    {
      "cell_type": "code",
      "source": [
        "#GENERER LE RESUMÉ"
      ],
      "metadata": {
        "id": "5-57sgeTBomp"
      },
      "execution_count": null,
      "outputs": []
    },
    {
      "cell_type": "code",
      "source": [
        "resumo = ' '.join(melhores_sentencas)\n",
        "resumo"
      ],
      "metadata": {
        "colab": {
          "base_uri": "https://localhost:8080/",
          "height": 53
        },
        "id": "BQpyCtZwBsEK",
        "outputId": "2a6cca9f-eac9-44aa-fed1-7ccf7d97e51c"
      },
      "execution_count": 14,
      "outputs": [
        {
          "output_type": "execute_result",
          "data": {
            "text/plain": [
              "\"L ' intelligence artificielle est une intelligence de type humain. L ' intelligence artificielle consiste à raisonner dans des situations #####de la vie quotidienne. Ils la définissent comme l'étude d'un agent artificiel doté d ' intelligence.\""
            ],
            "application/vnd.google.colaboratory.intrinsic+json": {
              "type": "string"
            }
          },
          "metadata": {},
          "execution_count": 14
        }
      ]
    },
    {
      "cell_type": "code",
      "source": [
        "#VISUALIZER LE RESUMÉ DANS UN HTML"
      ],
      "metadata": {
        "id": "c1XVjoU5B2ZY"
      },
      "execution_count": null,
      "outputs": []
    },
    {
      "cell_type": "code",
      "source": [
        "from IPython.core.display import HTML\n",
        "texto = ''\n",
        "\n",
        "display(HTML(f'<h1>Resumo do texto</h1>'))\n",
        "for sentenca in liste_phrase:\n",
        "  #texto += sentenca\n",
        "  if sentenca in melhores_sentencas:\n",
        "    texto += str(sentenca).replace(sentenca, f\"<mark>{sentenca}</mark>\")  #Donc ici on met en destque tout texte ou phrase contenue dans melhores_sentencas e liste_phrase\n",
        "  else:\n",
        "    texto += sentenca\n",
        "display(HTML(f\"\"\"{texto}\"\"\"))"
      ],
      "metadata": {
        "colab": {
          "base_uri": "https://localhost:8080/",
          "height": 127
        },
        "id": "XAwbvt6iB7FP",
        "outputId": "46eace30-17ac-4db3-b5ae-896e5244f419"
      },
      "execution_count": 16,
      "outputs": [
        {
          "output_type": "display_data",
          "data": {
            "text/plain": [
              "<IPython.core.display.HTML object>"
            ],
            "text/html": [
              "<h1>Resumo do texto</h1>"
            ]
          },
          "metadata": {}
        },
        {
          "output_type": "display_data",
          "data": {
            "text/plain": [
              "<IPython.core.display.HTML object>"
            ],
            "text/html": [
              "<mark>L ' intelligence artificielle est une intelligence de type humain.</mark><mark>Ils la définissent comme l'étude d'un agent artificiel doté d ' intelligence.</mark>Science et ingénierie de la production de machines dotées d ' intelligence.Résoudre des problèmes et faire preuve d ' intelligence.En rapport avec le comportement intelligent.Construire des machines pour raisonner.Apprendre des erreurs et des réussites.<mark>L ' intelligence artificielle consiste à raisonner dans des situations #####de la vie quotidienne.</mark>"
            ]
          },
          "metadata": {}
        }
      ]
    },
    {
      "cell_type": "code",
      "source": [
        "#EXTRACTION DE TEXTE SUR INTERNET"
      ],
      "metadata": {
        "id": "ZPil73ijDDiw"
      },
      "execution_count": null,
      "outputs": []
    },
    {
      "cell_type": "code",
      "source": [
        "#On va utiliser une autre biblio que j ai trouvée sympa et facile pourr l extraction de données sur internet\n",
        "#Car il retourne les données sous forme d un dic permettant un acces facile a ses données "
      ],
      "metadata": {
        "id": "g2mEeM-3DHKw"
      },
      "execution_count": null,
      "outputs": []
    },
    {
      "cell_type": "code",
      "source": [
        "!pip install goose3"
      ],
      "metadata": {
        "id": "ggtLage4EM6M"
      },
      "execution_count": null,
      "outputs": []
    },
    {
      "cell_type": "code",
      "metadata": {
        "id": "tieDeYNJZC06"
      },
      "source": [
        "from goose3 import Goose"
      ],
      "execution_count": 18,
      "outputs": []
    },
    {
      "cell_type": "code",
      "metadata": {
        "id": "UTS2OxXCZFy6"
      },
      "source": [
        "g = Goose()\n",
        "url = 'https://iaexpert.academy/2020/11/09/ia-preve-resultado-das-eleicoes-americanas/'\n",
        "artigo = g.extract(url)"
      ],
      "execution_count": 19,
      "outputs": []
    },
    {
      "cell_type": "code",
      "metadata": {
        "colab": {
          "base_uri": "https://localhost:8080/"
        },
        "id": "2pNEH9YaZTva",
        "outputId": "ed1aba3a-67ec-4e74-e97a-98b90a126c51"
      },
      "source": [
        "artigo.infos"
      ],
      "execution_count": 20,
      "outputs": [
        {
          "output_type": "execute_result",
          "data": {
            "text/plain": [
              "{'authors': ['Denny Ceccon'],\n",
              " 'cleaned_text': 'Nas eleições presidenciais americanas de 2016, a maioria das predições apontavam para a vitória de Hillary Clinton. Entretanto, a história nos mostrou o resultado oposto, e Donald Trump foi o presidente nos últimos 4 anos. Desta vez, os estatísticos reexaminaram seus modelos, para aumentar o grau de confiabilidade nos seus resultados. Nesta tentativa de otimização das predições, a inteligência artificial certamente não ficou de fora.\\n\\nO modelo desenvolvido pelo Dr. Hernan Makse, físico estatístico da Universidade da Cidade de Nova York, baseou suas predições em uma rede neural treinada para processar os sentimentos expressos nas redes sociais. O algoritmo fez a análise de cerca de 1 bilhão de tweets para chegar a uma estimativa dos resultados do pleito. No dia da eleição, 3 de novembro, o modelo estava indicando a vitória de Joe Biden.\\n\\nO Dr. Makse disse que seu trabalho começou já na eleição de 2016, e foi testado novamente nas eleições na Argentina ano passado. Desta vez, o modelo está treinando com cerca de 5 vezes mais dados que nas eleições americanas anteriores. O trabalho não depende apenas da coleta dos dados, mas também de um tratamento estatístico adequado para levar em consideração duas variáveis externas: o viés de amostragem e a taxa de comparecimento. O primeiro fator se refere ao fato de que as redes sociais não necessariamente representam a população americana. A participação em redes sociais costuma ser maior nas cidades grandes, que de fato têm preferência por um dos candidatos, e o modelo deve ser corrigido para levar em consideração também a opinião das pessoas que não são ativas neste ambiente virtual. O segundo fator se deve à não-obrigatoriedade de votação nos Estados Unidos, ou seja, por mais que uma pessoa tenha sua preferência, pode ser que ela não compareça aos locais de votação para efetivá-la. Segundo o Dr. Makse, integrar estas duas variáveis em seu modelo é a parte mais importante do trabalho. Ele acredita ser esta uma das razões para que as estimativas da última eleição, baseadas em métodos tradicionais de coleta de informação, terem falhado. Sua equipe acompanhou as tendências apresentadas nas últimas eleições na Europa, e os modelos estão se revelando cada vez melhores.\\n\\nQuando seu modelo foi usado para predizer os resultados da eleição corrente usando dados brutos, Joe Biden apareceu como vencedor com larga vantagem. Após aplicar os mecanismos de correção para os dois vieses identificados, a vantagem diminuiu, mas Biden ainda é indicado como favorito.\\n\\nParece que, desta vez, os algoritmos estão de fato contribuindo para que as predições sejam mais precisas.',\n",
              " 'domain': 'iaexpert.academy',\n",
              " 'image': None,\n",
              " 'links': ['https://www.ccny.cuny.edu/profiles/hernan-makse',\n",
              "  'https://www.express.co.uk/news/science/1355192/artificial-intelligence-ai-news-twitter-us-election-2020-prediction-trump-biden-evg'],\n",
              " 'meta': {'canonical': 'https://iaexpert.academy/2020/11/09/ia-preve-resultado-das-eleicoes-americanas/',\n",
              "  'description': '',\n",
              "  'encoding': 'UTF-8',\n",
              "  'favicon': 'https://cdn.shortpixel.ai/spai/q_+ret_img+to_webp/https://iaexpert.academy/wp-content/uploads/2020/06/cropped-favicon-1-32x32.png',\n",
              "  'keywords': '',\n",
              "  'lang': 'pt'},\n",
              " 'movies': [],\n",
              " 'opengraph': {},\n",
              " 'publish_date': None,\n",
              " 'tags': [],\n",
              " 'title': 'IA prevê resultado das eleições americanas – IA Expert Academy',\n",
              " 'tweets': []}"
            ]
          },
          "metadata": {},
          "execution_count": 20
        }
      ]
    },
    {
      "cell_type": "code",
      "source": [
        ""
      ],
      "metadata": {
        "id": "WBxoPzMtFx5j"
      },
      "execution_count": null,
      "outputs": []
    },
    {
      "cell_type": "code",
      "source": [
        "url2 = 'https://fr.wikipedia.org/wiki/Programmation_informatique'\n",
        "art = g.extract(url2)"
      ],
      "metadata": {
        "id": "_WkGpjp7FxtX"
      },
      "execution_count": 22,
      "outputs": []
    },
    {
      "cell_type": "code",
      "source": [
        "art.infos"
      ],
      "metadata": {
        "colab": {
          "base_uri": "https://localhost:8080/"
        },
        "id": "Pf8xfadmF702",
        "outputId": "47ed948d-b27d-4946-d763-8b26949414c4"
      },
      "execution_count": 23,
      "outputs": [
        {
          "output_type": "execute_result",
          "data": {
            "text/plain": [
              "{'authors': [],\n",
              " 'cleaned_text': 'La programmation, appelée aussi codage dans le domaine informatique[1], désigne l\\'ensemble des activités qui permettent l\\'écriture des programmes informatiques. C\\'est une étape importante du développement de logiciels (voire de matériel).\\n\\nL\\'écriture d\\'un programme se fait dans un langage de programmation. Un logiciel est un ensemble de programmes (qui peuvent être écrits dans des langages de programmation différents) dédié à la réalisation de certaines tâches par un (ou plusieurs) utilisateurs du logiciel.\\n\\nLa programmation représente donc ici la rédaction du code source d\\'un logiciel. On utilise plutôt le terme développement pour dénoter l\\'ensemble des activités liées à la création d\\'un logiciel et des programmes qui le composent. Cela inclut la spécification du logiciel, sa conception, puis son implémentation proprement dite au sens de l\\'écriture des programmes dans un langage de programmation bien défini, ainsi que la vérification de sa correction, etc.\\n\\nLa première machine programmable (c’est-à-dire machine dont les possibilités changent quand on modifie son programme) est probablement le métier à tisser de Jacquard, qui a été réalisé en 1801. La machine utilisait une suite de cartons perforés. Les trous indiquaient le motif que le métier suivait pour réaliser un tissage ; avec des cartes différentes le métier produisait des tissages différents[2]. Cette innovation a été ensuite améliorée par Herman Hollerith d\\'IBM pour le développement de la fameuse carte perforée d\\'IBM[3].\\n\\nEn 1936, la publication de l\\'article fondateur de la science informatique On Computable Numbers with an Application to the Entscheidungsproblem[4] par Alan Turing allait donner le coup d\\'envoi à la création de l\\'ordinateur programmable. Il y présente sa machine de Turing, le premier calculateur universel programmable, et invente les concepts et les termes de programmation et de programme.\\n\\nLes premiers programmes d\\'ordinateur étaient réalisés avec un fer à souder et un grand nombre de tubes à vide (plus tard, des transistors). Les programmes devenant plus complexes, cela est devenu presque impossible, parce qu\\'une seule erreur rendait le programme entier inutilisable. Avec les progrès des supports de données, il devint possible de charger le programme à partir de cartes perforées, contenant la liste des instructions en code binaire spécifique à un type d\\'ordinateur particulier. La puissance des ordinateurs augmentant, on les utilisa pour faire les programmes, les programmeurs préférant naturellement rédiger du texte plutôt que des suites de 0 et de 1, à charge pour l\\'ordinateur d\\'en faire la traduction lui-même.\\n\\nAvec le temps, de nouveaux langages de programmation sont apparus, faisant de plus en plus abstraction du matériel sur lequel devraient tourner les programmes. Ceci apporte plusieurs facteurs de gain : ces langages sont plus faciles à apprendre, un programmeur peut produire du code plus rapidement, et les programmes produits peuvent tourner sur différents types de machines.\\n• C#, C ou C++\\n\\nL\\'immense majorité des programmes qui s\\'exécutent sur nos ordinateurs, téléphones et autres outils électroniques sont écrits dans des langages de programmation dits impératifs : les lignes du programme sont exécutées les unes après les autres. Chaque ligne du programme effectue soit une opération simple, soit exécute une fonction qui est elle-même une suite d\\'opérations simples.\\n\\nLe programme « Hello World! » est par tradition le premier programme écrit par tout programmeur, censé illustrer la syntaxe du langage de programmation. Le programme a pour unique fonction d\\'afficher le texte \"Hello World!\" dans la console ou dans une fenêtre de l\\'interface graphique.\\n\\nLe programme suivant écrit en langage simplifié et avec des commentaires, demande simplement à l\\'utilisateur d\\'entrer au clavier deux nombres entiers, et affiche leur quotient.\\n\\n// fonction \\'main\\' : c\\'est toujours ici qu\\'un programme commence // \\'int\\' signifie integer : nombre entier en anglais // on déclare deux variables A et B qui sont des nombres entiers // on attend que l\\'utilisateur tape un entier au clavier, // et on l\\'enregistre dans A // puis on fait la même chose pour B // on exécute la fonction \\'CalculerDivision\\' // que l\\'on a programmée ci-dessous, // et on enregistre le résultat dans C qui est un \\'float\\' : un nombre à virgule // U et V sont les paramètres de notre fonction \\'CalculerDivision\\' : ce sont des nombres à virgules (float). // et celle-ci renvoie un \\'float\\' : un nombre à virgule flottante // dans la fonction \\'main\\', A et B étaient des nombres entiers, // U et V sont des copies des valeurs de A et B, // et qui ont été converties en nombres à virgule (22 deviendrait simplement 22.0000000) // on effectue la division /// on renvoie le résultat\\n\\nDans ce programme, les principales fonctionnalités de la programmation impérative sont utilisées : des variables de type nombre entier, nombre à virgule, chaîne de caractère, fonction calculant un résultat à partir de paramètres, fonction effectuant une tâche telle qu\\'afficher un message à l\\'écran, instruction permettant d\\'exécuter un code ou un autre en fonction de la valeur de telle ou telle variable.\\n\\nDans un programme informatique typique, on trouvera suivant les langages des boucles ou qui permettent d\\'exécuter un morceau de code en boucle ou simplement un certain nombre de fois, des pour l\\'allocation dynamique de données (par exemple des tableaux), et très souvent des éléments de programmation objet permettant de structurer différemment le code et de créer des types de données personnalisés, ou encore des exceptions pour gérer certains cas d\\'erreurs plus facilement.\\n\\nOn remarque que pour effectuer une tâche très simple, le code informatique peut être très laborieux, et encore ici on ne traite pas les erreurs (si l\\'utilisateur tape un mot au lieu d\\'un nombre), et l\\'affichage est minimaliste. C\\'est pourquoi les langages de programmation n\\'ont jamais cessé d\\'évoluer, dans le but d\\'aider le programmeur qui souhaite réaliser des programmes rapides à s\\'exécuter, sans dysfonctionnements, et surtout simples à écrire, du moins le plus possible.\\n\\nLa phase de conception définit le but du programme. Si on fait une rapide analyse fonctionnelle d\\'un programme, on détermine essentiellement les données qu\\'il va traiter (données d\\'entrée), la méthode employée (appelée l\\'algorithme), et le résultat (données de sortie). Les données d\\'entrée et de sortie peuvent être de nature très diverse. On peut décrire la méthode employée pour accomplir le but d\\'un programme à l\\'aide d\\'un algorithme. La programmation procédurale et fonctionnelle est basée sur l\\'algorithmique. On retrouve en général les mêmes fonctionnalités de base.\\n\\nUne fois l\\'algorithme défini, l\\'étape suivante est de coder le programme. Le codage dépend de l\\'architecture sur laquelle va s\\'exécuter le programme, de compromis temps-mémoire, et d\\'autres contraintes. Ces contraintes vont déterminer quel langage de programmation utiliser pour « convertir » l\\'algorithme en code source.\\n\\nLe code source n\\'est (presque) jamais utilisable tel quel. Il est généralement écrit dans un langage \"de haut niveau\", compréhensible pour l\\'homme, mais pas pour la machine.\\n\\nCertains langages sont ce qu\\'on appelle des langages compilés. En toute généralité, la compilation est l\\'opération qui consiste à transformer un langage source en un langage cible. Dans le cas d\\'un programme, le compilateur va transformer tout le texte représentant le code source du programme, en code compréhensible pour la machine, appelé code machine.\\n\\nDans le cas de langages dits compilés, ce qui est exécuté est le résultat de la compilation. Une fois effectuée, l\\'exécutable obtenu peut être utilisé sans le code source.\\n\\nIl faut également noter que le résultat de la compilation n\\'est pas forcément du code machine correspondant à la machine réelle, mais peut être du code compris par une machine virtuelle (c\\'est-à-dire un programme simulant une machine), auquel cas on parlera de bytecode. C\\'est par exemple le cas en Java. L\\'avantage est que, de cette façon, un programme peut fonctionner sur n\\'importe quelle machine réelle, du moment que la machine virtuelle existe pour celle-ci.\\n\\nDans le cas d\\'une requête SQL, la requête est compilée en une expression utilisant les opérateurs de l\\'algèbre relationnelle. C\\'est cette expression qui est évaluée par le système de gestion de bases de données.\\n\\nD\\'autres langages ne nécessitent pas de phase spéciale de compilation. La méthode employée pour exécuter le programme est alors différente. La phase de compilation est la plupart du temps incluse dans celle d’exécution. On dit de ce programme qu\\'il interprète le code source. Par exemple, Python ou Perl sont des langages interprétés.\\n\\nLes avantages généralement retenus pour l\\'utilisation de langages « compilés », est qu\\'ils sont plus rapides à l\\'exécution que des langages interprétés, car l\\'interprète doit être lancé à chaque exécution du programme, ce qui mobilise systématiquement les ressources.\\n\\nTraditionnellement, les langages interprétés offrent en revanche une certaine portabilité (la capacité à utiliser le code source sur différentes plates-formes), ainsi qu\\'une facilité pour l\\'écriture du code. En effet, il n\\'est pas nécessaire de passer par la phase de compilation pour tester le code source. Il n\\'est pas non plus nécessaire de disposer d\\'un autre programme (debugger) afin d’ôter les bugs du programme, c\\'est l’interpréteur qui permet d\\'afficher directement le contenu des variables du programme.\\n\\nIl faut noter qu\\'on parle abusivement de langages compilés ou interprétés. En effet, le caractère compilé ou interprété ne dépend pas du langage, qui n\\'est finalement qu\\'une grammaire et une certaine sémantique. D\\'ailleurs, certains langages peuvent être utilisés interprétés ou compilés. Par exemple, il est très courant d\\'utiliser Ruby avec un interprète, mais il existe également des compilateurs pour ce langage[5]. On notera toutefois, qu\\'il peut être important de préciser comment le code source est exécuté. En effet, rares sont les organismes qui proposent à la fois un compilateur et un interpréteur, les résultats du programme peuvent différer à l\\'exécution, même si la norme du langage est clairement définie.\\n\\nC\\'est l\\'une des étapes les plus importantes de la création d\\'un programme. En principe, tout programmeur se doit de vérifier chaque partie d\\'un programme, de le tester. Il existe différents types de test. On peut citer en particulier :\\n\\nIl convient de noter qu\\'il est parfois possible de vérifier un programme informatique, c\\'est-à-dire prouver, de manière plus ou moins automatique, qu\\'il assure certaines propriétés.\\n\\nUn paradigme est un style fondamental de programmation, définissant la manière dont les programmes doivent être formulés.\\n\\nUn paradigme est la façon dont sont traitées les solutions aux problèmes et un style fondamental de programmation, définissant la manière dont les programmes doivent être formulés. Chaque paradigme amène sa philosophie de la programmation ; une fois qu\\'une solution a été imaginée par un programmeur selon un certain paradigme, un langage de programmation qui suit ce paradigme permettra de l\\'exprimer.\\n\\nLe paradigme impératif est le plus répandu, les opérations sont une suite d’instructions exécutées par l\\'ordinateur pour modifier l\\'état du programme.\\n\\nLa programmation procédurale est un sous-ensemble de la programmation impérative. Elle introduit la notion de routine ou fonction qui est une sorte de factorisation de code, chaque procédure peut être appelée à n’importe quelle étape du programme. Ce paradigme permet aussi de supprimer les instructions goto[6],[7],[8]\\n\\nCe paradigme est très répandu, il est présent dans des langages comme le C, le COBOL ou le FORTRAN.\\n\\nApparu dans les années 70, la programmation structurée est un sous-ensemble de la programmation impérative. Elle née avec les travaux de Nicklaus Wirth pour son Algol W et l\\'article fondateur de Dijkstra dans Communications of the ACM, visant à supprimer l’instruction goto.\\n\\nTous les langages procéduraux peuvent faire de la programmation structurée, mais certains comme le FORTRAN s\\'y prêtent très mal.\\n\\nEn programmation déclarative, le programme est indépendant de l’état de la machine, il s’affranchit donc de tout effet de bord et un appel à une même fonction produira toujours le même résultat.\\n\\nLe programme s’écrit non pas comme une suite d’instruction pour résoudre un problème mais (contrairement à la programmation impérative) comme la solution au problème.\\n\\nLa programmation fonctionnelle se base sur plusieurs principes comme : l’immutabilité, les fonctions pures (qui ne dépendent pas de l’état de la machine) et les lambda-calcul.\\n\\nAujourd’hui, nombreux sont les langages qui offrent une approche fonctionnelle au programmeur. Certains comme LISP ou Scala sont intrinsèquement fonctionnels. D’autres comme JavaScript, Java ou PHP ont ajouté cette possibilité par la suite.\\n\\nLa programmation logique consiste à exprimer les problèmes et les algorithmes sous forme de prédicats à l’aide d\\'une base de faits, d\\'une base de règles et d\\'un moteur d\\'inférence.\\n\\nLa programmation orientée objet (abrégé POO) consiste en la définition et l\\'interaction de briques logicielles appelées objets ; ces objets représentes un concept, une idée. Chaque objet contient des attributs et des méthodes en rapport avec un sujet.\\n\\nLa programmation orientée prototype est un sous ensemble de la programmation orientée objet. Dans ce paradigme, chaque objet est créé à partir d’un prototype qui est lui-même un objet. Le prototype a donc une existence physique en mémoire et est mutable contrairement aux classes.\\n\\nLe JavaScript, le Lua ou le Self sont des exemples de langages utilisant ce paradigme.\\n\\nLa programmation orientée classe est basée sur la notion de classes. Une classe est statique, c’est la représentation abstraite de l’objet, c’est à ce niveau que se passe l’héritage. Tout objet est donc l’instance d’une classe.\\n\\nLes langages à classes peuvent être sous forme fonctionnelle (CLOS) comme sous forme impérative (C++, Java), voir les deux (Python, OCaml).\\n• Forme de Backus-Naur (BNF), une grammaire de description de langage\\n• Google Code Jam, un concours international annuel de programmation très prisé des mordus d\\'algorithmique et de programmation\\n• None Notice dans un dictionnaire ou une encyclopédie généraliste :',\n",
              " 'domain': 'fr.wikipedia.org',\n",
              " 'image': None,\n",
              " 'links': ['/wiki/Aide:Homonymie',\n",
              "  '/wiki/Programmation_(homonymie)',\n",
              "  '/wiki/Mod%C3%A8le:%C3%80_sourcer',\n",
              "  '/wiki/Fichier:2017-fr.wp-orange-source.svg',\n",
              "  '/wiki/Wikip%C3%A9dia:Citez_vos_sources',\n",
              "  '/wiki/Wikip%C3%A9dia:V%C3%A9rifiabilit%C3%A9',\n",
              "  '/wiki/Aide:Ins%C3%A9rer_une_r%C3%A9f%C3%A9rence',\n",
              "  '/wiki/Wikip%C3%A9dia:Citez_vos_sources#Qualité_des_sources',\n",
              "  '/wiki/Aide:Ins%C3%A9rer_une_r%C3%A9f%C3%A9rence_(%C3%89diteur_visuel)',\n",
              "  '#Introduction',\n",
              "  '#Histoire',\n",
              "  '#Différents_Langages',\n",
              "  '#Exemple_de_programme',\n",
              "  '#Phases',\n",
              "  '#Conception',\n",
              "  '#Programmation_impérative',\n",
              "  '#Implémentation',\n",
              "  '#Transformation_du_code_source',\n",
              "  '#Compilation',\n",
              "  '#Interprétation',\n",
              "  '#Avantages,_inconvénients',\n",
              "  '#Appellation_impropre',\n",
              "  '#Test_du_programme',\n",
              "  '#Pratiques',\n",
              "  '#Paradigmes',\n",
              "  '#Programmation_impérative_2',\n",
              "  '#Programmation_procédurale',\n",
              "  '#Programmation_structurée',\n",
              "  '#Programmation_déclarative',\n",
              "  '#Programmation_fonctionnelle',\n",
              "  '#Programmation_logique',\n",
              "  '#Programmation_orientée_objet',\n",
              "  '#Programmation_orientée_prototype',\n",
              "  '#Programmation_orientée_classe',\n",
              "  '#Autres_paradigmes',\n",
              "  '#Notes_et_références',\n",
              "  '#Voir_aussi',\n",
              "  '#Articles_connexes',\n",
              "  '#Liens_externes',\n",
              "  '/w/index.php?title=Programmation_informatique&veaction=edit&section=1',\n",
              "  '/w/index.php?title=Programmation_informatique&action=edit&section=1',\n",
              "  '/wiki/Fichier:Listing1.jpg',\n",
              "  '/wiki/Fichier:Listing1.jpg',\n",
              "  '/wiki/Commodore_64',\n",
              "  '#cite_note-1',\n",
              "  '/wiki/Programme_informatique',\n",
              "  '/wiki/D%C3%A9veloppement_de_logiciel',\n",
              "  '/wiki/VHDL',\n",
              "  '/wiki/Langage_de_programmation',\n",
              "  '/wiki/Code_source',\n",
              "  '/wiki/D%C3%A9veloppement_de_logiciel',\n",
              "  '/w/index.php?title=Programmation_informatique&veaction=edit&section=2',\n",
              "  '/w/index.php?title=Programmation_informatique&action=edit&section=2',\n",
              "  '/wiki/Histoire_de_l%27informatique',\n",
              "  '/wiki/M%C3%A9tier_%C3%A0_tisser',\n",
              "  '/wiki/Joseph_Marie_Jacquard',\n",
              "  '/wiki/1801',\n",
              "  '/wiki/Tissage',\n",
              "  '#cite_note-2',\n",
              "  '/wiki/Herman_Hollerith',\n",
              "  '/wiki/International_Business_Machines_Corporation',\n",
              "  '/wiki/Carte_perfor%C3%A9e',\n",
              "  '/wiki/IBM',\n",
              "  '#cite_note-3',\n",
              "  '/wiki/Informatique',\n",
              "  '#cite_note-on_computable_numbers-4',\n",
              "  '/wiki/Alan_Turing',\n",
              "  '/wiki/Machine_de_Turing',\n",
              "  '/wiki/Programme_informatique',\n",
              "  '/wiki/Programme_informatique',\n",
              "  '/wiki/Ordinateur',\n",
              "  '/wiki/Fer_%C3%A0_souder',\n",
              "  '/wiki/Tube_%C3%A9lectronique',\n",
              "  '/wiki/Transistor',\n",
              "  '/wiki/Bug_(informatique)',\n",
              "  '/wiki/Stockage_d%27information',\n",
              "  '/wiki/Carte_perfor%C3%A9e',\n",
              "  '/wiki/Instruction_informatique',\n",
              "  '/wiki/Code_binaire',\n",
              "  '/wiki/FLOPS',\n",
              "  '/wiki/D%C3%A9veloppeur',\n",
              "  '/wiki/Langage_de_programmation',\n",
              "  '/wiki/Mat%C3%A9riel_informatique',\n",
              "  '/wiki/Programme_informatique',\n",
              "  '/wiki/D%C3%A9veloppeur',\n",
              "  '/wiki/Code_source',\n",
              "  '/wiki/Ordinateur',\n",
              "  'https://i1.wp.com/le-m-verbatem.fr/wp-content/uploads/2020/05/99436813_490859398281340_2840617577741287424_n-scaled.jpg?fit=2560%2C1706',\n",
              "  '/w/index.php?title=Programmation_informatique&veaction=edit&section=3',\n",
              "  '/w/index.php?title=Programmation_informatique&action=edit&section=3',\n",
              "  '/wiki/Hypertext_Markup_Language',\n",
              "  '/wiki/Feuilles_de_style_en_cascade',\n",
              "  '/wiki/JavaScript',\n",
              "  '/wiki/PHP',\n",
              "  '/wiki/Ruby',\n",
              "  '/wiki/Java_(langage)',\n",
              "  '/wiki/Swift_(langage_de_script_parall%C3%A8le)',\n",
              "  '/wiki/C_sharp',\n",
              "  '/wiki/C_(langage)',\n",
              "  '/wiki/C%2B%2B',\n",
              "  '/wiki/Python_(langage)',\n",
              "  '/wiki/Julia_(langage)',\n",
              "  '/wiki/Scala_(langage)',\n",
              "  '/wiki/R_(langage)',\n",
              "  '/w/index.php?title=Programmation_informatique&veaction=edit&section=4',\n",
              "  '/w/index.php?title=Programmation_informatique&action=edit&section=4',\n",
              "  '/wiki/Hello_World',\n",
              "  '/wiki/Console_syst%C3%A8me',\n",
              "  '/wiki/Interface_graphique',\n",
              "  '/wiki/Fichier:HelloJava.png',\n",
              "  '/wiki/Fichier:HelloJava.png',\n",
              "  '/wiki/Entier_naturel',\n",
              "  '/wiki/Virgule_flottante',\n",
              "  '/wiki/Cha%C3%AEne_de_caract%C3%A8res',\n",
              "  '/wiki/Programmation_orient%C3%A9e_objet',\n",
              "  '/w/index.php?title=Programmation_informatique&veaction=edit&section=5',\n",
              "  '/w/index.php?title=Programmation_informatique&action=edit&section=5',\n",
              "  '/w/index.php?title=Programmation_informatique&veaction=edit&section=6',\n",
              "  '/w/index.php?title=Programmation_informatique&action=edit&section=6',\n",
              "  '/wiki/Conception_de_logiciel',\n",
              "  '/wiki/Algorithmique',\n",
              "  '/wiki/Conception_de_logiciel',\n",
              "  '/wiki/Algorithme',\n",
              "  '/wiki/Entr%C3%A9es-sorties',\n",
              "  '/wiki/Algorithmique',\n",
              "  '/w/index.php?title=Programmation_informatique&veaction=edit&section=7',\n",
              "  '/w/index.php?title=Programmation_informatique&action=edit&section=7',\n",
              "  '/wiki/Programmation_imp%C3%A9rative',\n",
              "  '/w/index.php?title=Programmation_informatique&veaction=edit&section=8',\n",
              "  '/w/index.php?title=Programmation_informatique&action=edit&section=8',\n",
              "  '/wiki/Langage_de_programmation',\n",
              "  '/wiki/Compromis_temps-m%C3%A9moire',\n",
              "  '/w/index.php?title=Programmation_informatique&veaction=edit&section=9',\n",
              "  '/w/index.php?title=Programmation_informatique&action=edit&section=9',\n",
              "  '/w/index.php?title=Programmation_informatique&veaction=edit&section=10',\n",
              "  '/w/index.php?title=Programmation_informatique&action=edit&section=10',\n",
              "  '/wiki/Compilation_(informatique)',\n",
              "  '/wiki/Machine_virtuelle',\n",
              "  '/wiki/Code_machine',\n",
              "  '/wiki/Machine_virtuelle',\n",
              "  '/wiki/Bytecode',\n",
              "  '/wiki/Java_(langage)',\n",
              "  '/wiki/Structured_Query_Language',\n",
              "  '/w/index.php?title=Programmation_informatique&veaction=edit&section=11',\n",
              "  '/w/index.php?title=Programmation_informatique&action=edit&section=11',\n",
              "  '/wiki/Interpr%C3%A8te_(informatique)',\n",
              "  '/wiki/Python_(langage)',\n",
              "  '/wiki/Perl_(langage)',\n",
              "  '/w/index.php?title=Programmation_informatique&veaction=edit&section=12',\n",
              "  '/w/index.php?title=Programmation_informatique&action=edit&section=12',\n",
              "  '/w/index.php?title=Programmation_informatique&veaction=edit&section=13',\n",
              "  '/w/index.php?title=Programmation_informatique&action=edit&section=13',\n",
              "  '/wiki/Ruby',\n",
              "  '#cite_note-5',\n",
              "  '/w/index.php?title=Programmation_informatique&veaction=edit&section=14',\n",
              "  '/w/index.php?title=Programmation_informatique&action=edit&section=14',\n",
              "  '/wiki/Test_(informatique)',\n",
              "  '/wiki/Test_unitaire',\n",
              "  '/wiki/Test_d%27int%C3%A9gration',\n",
              "  '/wiki/Test_de_performance',\n",
              "  '/wiki/V%C3%A9rification_formelle',\n",
              "  '/w/index.php?title=Programmation_informatique&veaction=edit&section=15',\n",
              "  '/w/index.php?title=Programmation_informatique&action=edit&section=15',\n",
              "  '/wiki/Algorithmique',\n",
              "  '/wiki/Gestion_de_versions',\n",
              "  '/wiki/Optimisation_du_code',\n",
              "  '/wiki/Programmation_syst%C3%A8me',\n",
              "  '/wiki/Refactoring',\n",
              "  '/wiki/Test_d%27int%C3%A9gration',\n",
              "  '/wiki/Test_unitaire',\n",
              "  '/w/index.php?title=Programmation_informatique&veaction=edit&section=16',\n",
              "  '/w/index.php?title=Programmation_informatique&action=edit&section=16',\n",
              "  '/wiki/Paradigme_(programmation)',\n",
              "  '/wiki/Style_de_programmation',\n",
              "  '/w/index.php?title=Programmation_informatique&veaction=edit&section=17',\n",
              "  '/w/index.php?title=Programmation_informatique&action=edit&section=17',\n",
              "  '/wiki/Programmation_imp%C3%A9rative',\n",
              "  '/wiki/Ordinateur',\n",
              "  '/wiki/Programme_informatique',\n",
              "  '/w/index.php?title=Programmation_informatique&veaction=edit&section=18',\n",
              "  '/w/index.php?title=Programmation_informatique&action=edit&section=18',\n",
              "  '/wiki/Programmation_proc%C3%A9durale',\n",
              "  '/wiki/Routine_(informatique)',\n",
              "  '/wiki/Programme_informatique',\n",
              "  '/wiki/Goto_(informatique)',\n",
              "  '#cite_note-6',\n",
              "  '/wiki/Goto_(informatique)',\n",
              "  '#cite_note-7',\n",
              "  '#cite_note-8',\n",
              "  '/wiki/C_(langage)',\n",
              "  '/wiki/Cobol',\n",
              "  '/wiki/Fortran',\n",
              "  '/w/index.php?title=Programmation_informatique&veaction=edit&section=19',\n",
              "  '/w/index.php?title=Programmation_informatique&action=edit&section=19',\n",
              "  '/wiki/Programmation_structur%C3%A9e',\n",
              "  '/wiki/Ann%C3%A9es_1970',\n",
              "  '/wiki/Niklaus_Wirth',\n",
              "  '/wiki/Algol_W',\n",
              "  '/wiki/Edsger_Dijkstra',\n",
              "  '/wiki/Communications_of_the_ACM',\n",
              "  '/wiki/Goto',\n",
              "  '/wiki/Fortran',\n",
              "  '/w/index.php?title=Programmation_informatique&veaction=edit&section=20',\n",
              "  '/w/index.php?title=Programmation_informatique&action=edit&section=20',\n",
              "  '/wiki/Programmation_d%C3%A9clarative',\n",
              "  '/wiki/Programme_informatique',\n",
              "  '/wiki/Ordinateur',\n",
              "  '/wiki/Effet_de_bord_(informatique)',\n",
              "  '/wiki/Fonction_informatique',\n",
              "  '/wiki/Programmation_imp%C3%A9rative',\n",
              "  '/w/index.php?title=Programmation_informatique&veaction=edit&section=21',\n",
              "  '/w/index.php?title=Programmation_informatique&action=edit&section=21',\n",
              "  '/wiki/Programmation_fonctionnelle',\n",
              "  '/wiki/Objet_immuable',\n",
              "  '/wiki/Fonction_pure',\n",
              "  '/wiki/Lambda-calcul',\n",
              "  '/wiki/Langage_de_programmation',\n",
              "  '/wiki/Lisp',\n",
              "  '/wiki/Scala_(langage)',\n",
              "  '/wiki/JavaScript',\n",
              "  '/wiki/Java_(langage)',\n",
              "  '/wiki/PHP',\n",
              "  '/w/index.php?title=Programmation_informatique&veaction=edit&section=22',\n",
              "  '/w/index.php?title=Programmation_informatique&action=edit&section=22',\n",
              "  '/wiki/Programmation_logique',\n",
              "  '/wiki/Base_de_faits',\n",
              "  '/wiki/Moteur_d%27inf%C3%A9rence',\n",
              "  '/w/index.php?title=Programmation_informatique&veaction=edit&section=23',\n",
              "  '/w/index.php?title=Programmation_informatique&action=edit&section=23',\n",
              "  '/wiki/Programmation_orient%C3%A9e_objet',\n",
              "  '/wiki/Objet_(informatique)',\n",
              "  '/wiki/M%C3%A9thode_(informatique)',\n",
              "  '/w/index.php?title=Programmation_informatique&veaction=edit&section=24',\n",
              "  '/w/index.php?title=Programmation_informatique&action=edit&section=24',\n",
              "  '/wiki/Programmation_orient%C3%A9e_prototype',\n",
              "  '/wiki/Objet_(informatique)',\n",
              "  '/wiki/Prototype_(patron_de_conception)',\n",
              "  '/wiki/M%C3%A9moire_vive',\n",
              "  '/wiki/JavaScript',\n",
              "  '/wiki/Lua',\n",
              "  '/wiki/Self_(langage)',\n",
              "  '/w/index.php?title=Programmation_informatique&veaction=edit&section=25',\n",
              "  '/w/index.php?title=Programmation_informatique&action=edit&section=25',\n",
              "  '/wiki/Classe_(informatique)',\n",
              "  '/wiki/Objet_(informatique)',\n",
              "  '/wiki/H%C3%A9ritage_(informatique)',\n",
              "  '/wiki/Programmation_fonctionnelle',\n",
              "  '/wiki/Common_Lisp_Object_System',\n",
              "  '/wiki/Programmation_imp%C3%A9rative',\n",
              "  '/wiki/C%2B%2B',\n",
              "  '/wiki/Java_(langage)',\n",
              "  '/wiki/Python_(langage)',\n",
              "  '/wiki/OCaml',\n",
              "  '/w/index.php?title=Programmation_informatique&veaction=edit&section=26',\n",
              "  '/w/index.php?title=Programmation_informatique&action=edit&section=26',\n",
              "  '/wiki/Programmation_concurrente',\n",
              "  '/wiki/Programmation_orient%C3%A9e_aspect',\n",
              "  '/wiki/Programmation_orient%C3%A9e_composant',\n",
              "  '/wiki/Programmation_par_contrat',\n",
              "  '/wiki/Programmation_par_contraintes',\n",
              "  '/wiki/Programmation_par_intention',\n",
              "  '/wiki/Programmation_r%C3%A9active',\n",
              "  '/w/index.php?title=Programmation_informatique&veaction=edit&section=27',\n",
              "  '/w/index.php?title=Programmation_informatique&action=edit&section=27',\n",
              "  '#cite_ref-1',\n",
              "  '//books.google.com/books?id=hHs2DwAAQBAJ',\n",
              "  '#cite_ref-2',\n",
              "  'https://www.arts-et-metiers.net/musee/modele-metier-original-de-jacquard',\n",
              "  '#cite_ref-3',\n",
              "  'http://www-03.ibm.com/ibm/history/ibm100/us/en/icons/punchcard/',\n",
              "  '#cite_ref-on_computable_numbers_4-0',\n",
              "  '/wiki/Digital_Object_Identifier',\n",
              "  'https://dx.doi.org/10.1112/PLMS/S2-42.1.230',\n",
              "  'https://www.cs.virginia.edu/~robins/Turing_Paper_1936.pdf',\n",
              "  '/wiki/Digital_Object_Identifier',\n",
              "  'https://dx.doi.org/10.1112/plms/s2-43.6.544',\n",
              "  'http://www.thocp.net/biographies/papers/turing_oncomputablenumbers_1936.pdf',\n",
              "  '#cite_ref-5',\n",
              "  'http://xruby.com/default.aspx',\n",
              "  '#cite_ref-6',\n",
              "  'http://www.u.arizona.edu/~rubinson/copyright_violations/Go_To_Considered_Harmful.html',\n",
              "  '#cite_ref-7',\n",
              "  'http://www.cs.utexas.edu/users/EWD/ewd02xx/EWD215.PDF',\n",
              "  '#cite_ref-8',\n",
              "  'https://www.enib.fr/~desmeulles/ipi/procedural.html',\n",
              "  '/w/index.php?title=Programmation_informatique&veaction=edit&section=28',\n",
              "  '/w/index.php?title=Programmation_informatique&action=edit&section=28',\n",
              "  'https://fr.wikiversity.org/wiki/D%C3%A9partement:Programmation_informatique',\n",
              "  'https://fr.wikibooks.org/wiki/Programmation',\n",
              "  '/w/index.php?title=Programmation_informatique&veaction=edit&section=29',\n",
              "  '/w/index.php?title=Programmation_informatique&action=edit&section=29',\n",
              "  '/wiki/%C3%89conomie_d%27%C3%A9nergie_d%27un_programme_informatique',\n",
              "  '/wiki/Paradigme_(programmation)',\n",
              "  '/wiki/Style_de_programmation',\n",
              "  '/wiki/Chronologie_des_langages_de_programmation',\n",
              "  '/wiki/Liste_des_langages_de_programmation',\n",
              "  '/wiki/Programmation_web',\n",
              "  '/wiki/Forme_de_Backus-Naur',\n",
              "  '/wiki/Google_Code_Jam',\n",
              "  '/wiki/Kata_(programmation)',\n",
              "  '/wiki/%C3%89diteur_de_texte',\n",
              "  '/wiki/Code_cr%C3%A9atif',\n",
              "  '/w/index.php?title=Programmation_informatique&veaction=edit&section=30',\n",
              "  '/w/index.php?title=Programmation_informatique&action=edit&section=30',\n",
              "  '/wiki/Autorit%C3%A9_(sciences_de_l%27information)',\n",
              "  'https://www.wikidata.org/wiki/Q80006?uselang=fr#identifiers',\n",
              "  'http://catalogue.bnf.fr/ark:/12148/cb11932648m',\n",
              "  'http://data.bnf.fr/ark:/12148/cb11932648m',\n",
              "  'http://id.loc.gov/authorities/sh85107310',\n",
              "  'http://d-nb.info/gnd/4076370-5',\n",
              "  'http://id.ndl.go.jp/auth/ndlna/00569223',\n",
              "  'http://catalogo.bne.es/uhtbin/authoritybrowse.cgi?action=display&authority_id=XX526555',\n",
              "  'https://www.wikidata.org/wiki/Q80006?uselang=fr#identifiers',\n",
              "  'https://www.universalis.fr/encyclopedie/programmation/',\n",
              "  '/wiki/Langage_de_programmation',\n",
              "  '/wiki/Programmation_concurrente',\n",
              "  '/wiki/Ada_(langage)',\n",
              "  '/wiki/Erlang_(langage)',\n",
              "  '/wiki/Go_(langage)',\n",
              "  '/wiki/Modula-2',\n",
              "  '/wiki/Programmation_d%C3%A9clarative',\n",
              "  '/wiki/Clips_(langage)',\n",
              "  '/wiki/Prolog',\n",
              "  '/wiki/Mercury_(langage)',\n",
              "  '/wiki/Programmation_fonctionnelle',\n",
              "  '/wiki/Common_Lisp',\n",
              "  '/wiki/Erlang_(langage)',\n",
              "  '/wiki/F_sharp',\n",
              "  '/wiki/Gallina',\n",
              "  '/wiki/Haskell',\n",
              "  '/wiki/Lisp',\n",
              "  '/wiki/ML_(langage)',\n",
              "  '/wiki/OCaml',\n",
              "  '/wiki/Opa_(logiciel)',\n",
              "  '/wiki/Scheme',\n",
              "  '/wiki/Standard_ML',\n",
              "  '/wiki/Programmation_imp%C3%A9rative',\n",
              "  '/wiki/Algol_(langage)',\n",
              "  '/wiki/APL_(langage)',\n",
              "  '/wiki/Assembleur',\n",
              "  '/wiki/Basic_(langage)',\n",
              "  '/wiki/BCPL',\n",
              "  '/wiki/C_(langage)',\n",
              "  '/wiki/Cobol',\n",
              "  '/wiki/DOPE_(langage)',\n",
              "  '/wiki/Forth_(langage)',\n",
              "  '/wiki/Fortran',\n",
              "  '/wiki/Julia_(langage)',\n",
              "  '/wiki/Limbo_(langage)',\n",
              "  '/wiki/Lua',\n",
              "  '/wiki/Modula-2',\n",
              "  '/wiki/Natural',\n",
              "  '/wiki/Not_Quite_C',\n",
              "  '/wiki/Not_eXactly_C',\n",
              "  '/wiki/Open_Programming_Language',\n",
              "  '/wiki/Pascal_(langage)',\n",
              "  '/wiki/Perl_(langage)',\n",
              "  '/wiki/PL/I',\n",
              "  '/wiki/Windows_PowerShell',\n",
              "  '/wiki/Rust_(langage)',\n",
              "  '/wiki/Tool_Command_Language',\n",
              "  '/wiki/WLangage',\n",
              "  '/wiki/Programmation_orient%C3%A9e_objet',\n",
              "  '/wiki/ActionScript',\n",
              "  '/wiki/AppleScript',\n",
              "  '/wiki/C%2B%2B',\n",
              "  '/wiki/C_sharp',\n",
              "  '/wiki/CoffeeScript',\n",
              "  '/wiki/D_(langage)',\n",
              "  '/wiki/Delphi_(langage)',\n",
              "  '/wiki/Eiffel_(langage)',\n",
              "  '/wiki/Groovy_(langage)',\n",
              "  '/wiki/Haxe',\n",
              "  '/wiki/Java_(langage)',\n",
              "  '/wiki/JavaScript',\n",
              "  '/wiki/Lisaac',\n",
              "  '/wiki/Logo_(langage)',\n",
              "  '/wiki/Objective-C',\n",
              "  '/wiki/PHP',\n",
              "  '/wiki/Python_(langage)',\n",
              "  '/wiki/Ruby',\n",
              "  '/wiki/Scala_(langage)',\n",
              "  '/wiki/Simula',\n",
              "  '/wiki/Smalltalk',\n",
              "  '/wiki/Swift_(langage_d%27Apple)',\n",
              "  '/wiki/Kotlin_(langage)',\n",
              "  '/wiki/Visual_Basic',\n",
              "  '/wiki/Liste_de_langages_de_programmation',\n",
              "  '/wiki/Robotique',\n",
              "  '/wiki/Capteur',\n",
              "  '/wiki/Intelligence_artificielle',\n",
              "  '/wiki/Actionneur',\n",
              "  '/wiki/Source_d%27%C3%A9nergie',\n",
              "  '/wiki/Comp%C3%A9tition_de_robotique',\n",
              "  '/wiki/Communication_s%C3%A9rie',\n",
              "  '/wiki/Communication_parall%C3%A8le',\n",
              "  '/wiki/Transmission_sans_fil',\n",
              "  '/wiki/Automatique',\n",
              "  '/wiki/%C3%89lectricit%C3%A9',\n",
              "  '/wiki/%C3%89lectrochimie',\n",
              "  '/wiki/%C3%89lectromagn%C3%A9tisme',\n",
              "  '/wiki/%C3%89lectronique_(technique)',\n",
              "  '/wiki/%C3%89lectrotechnique',\n",
              "  '/wiki/Traitement_du_signal',\n",
              "  '/wiki/Portail:Programmation_informatique',\n",
              "  '/wiki/Portail:Programmation_informatique'],\n",
              " 'meta': {'canonical': 'https://fr.wikipedia.org/wiki/Programmation_informatique',\n",
              "  'description': '',\n",
              "  'encoding': 'UTF-8',\n",
              "  'favicon': '/static/apple-touch/wikipedia.png',\n",
              "  'keywords': '',\n",
              "  'lang': 'fr'},\n",
              " 'movies': [],\n",
              " 'opengraph': {'title': 'Programmation informatique — Wikipédia',\n",
              "  'type': 'website'},\n",
              " 'publish_date': 'août 2016',\n",
              " 'tags': [],\n",
              " 'title': 'Programmation informatique — Wikipédia',\n",
              " 'tweets': []}"
            ]
          },
          "metadata": {},
          "execution_count": 23
        }
      ]
    },
    {
      "cell_type": "code",
      "source": [
        "art.cleaned_text"
      ],
      "metadata": {
        "colab": {
          "base_uri": "https://localhost:8080/",
          "height": 140
        },
        "id": "B7Y4oiHAGnUz",
        "outputId": "e7050fca-9b56-4a2a-c95b-0dc3b7990e75"
      },
      "execution_count": 24,
      "outputs": [
        {
          "output_type": "execute_result",
          "data": {
            "text/plain": [
              "'La programmation, appelée aussi codage dans le domaine informatique[1], désigne l\\'ensemble des activités qui permettent l\\'écriture des programmes informatiques. C\\'est une étape importante du développement de logiciels (voire de matériel).\\n\\nL\\'écriture d\\'un programme se fait dans un langage de programmation. Un logiciel est un ensemble de programmes (qui peuvent être écrits dans des langages de programmation différents) dédié à la réalisation de certaines tâches par un (ou plusieurs) utilisateurs du logiciel.\\n\\nLa programmation représente donc ici la rédaction du code source d\\'un logiciel. On utilise plutôt le terme développement pour dénoter l\\'ensemble des activités liées à la création d\\'un logiciel et des programmes qui le composent. Cela inclut la spécification du logiciel, sa conception, puis son implémentation proprement dite au sens de l\\'écriture des programmes dans un langage de programmation bien défini, ainsi que la vérification de sa correction, etc.\\n\\nLa première machine programmable (c’est-à-dire machine dont les possibilités changent quand on modifie son programme) est probablement le métier à tisser de Jacquard, qui a été réalisé en 1801. La machine utilisait une suite de cartons perforés. Les trous indiquaient le motif que le métier suivait pour réaliser un tissage ; avec des cartes différentes le métier produisait des tissages différents[2]. Cette innovation a été ensuite améliorée par Herman Hollerith d\\'IBM pour le développement de la fameuse carte perforée d\\'IBM[3].\\n\\nEn 1936, la publication de l\\'article fondateur de la science informatique On Computable Numbers with an Application to the Entscheidungsproblem[4] par Alan Turing allait donner le coup d\\'envoi à la création de l\\'ordinateur programmable. Il y présente sa machine de Turing, le premier calculateur universel programmable, et invente les concepts et les termes de programmation et de programme.\\n\\nLes premiers programmes d\\'ordinateur étaient réalisés avec un fer à souder et un grand nombre de tubes à vide (plus tard, des transistors). Les programmes devenant plus complexes, cela est devenu presque impossible, parce qu\\'une seule erreur rendait le programme entier inutilisable. Avec les progrès des supports de données, il devint possible de charger le programme à partir de cartes perforées, contenant la liste des instructions en code binaire spécifique à un type d\\'ordinateur particulier. La puissance des ordinateurs augmentant, on les utilisa pour faire les programmes, les programmeurs préférant naturellement rédiger du texte plutôt que des suites de 0 et de 1, à charge pour l\\'ordinateur d\\'en faire la traduction lui-même.\\n\\nAvec le temps, de nouveaux langages de programmation sont apparus, faisant de plus en plus abstraction du matériel sur lequel devraient tourner les programmes. Ceci apporte plusieurs facteurs de gain : ces langages sont plus faciles à apprendre, un programmeur peut produire du code plus rapidement, et les programmes produits peuvent tourner sur différents types de machines.\\n• C#, C ou C++\\n\\nL\\'immense majorité des programmes qui s\\'exécutent sur nos ordinateurs, téléphones et autres outils électroniques sont écrits dans des langages de programmation dits impératifs : les lignes du programme sont exécutées les unes après les autres. Chaque ligne du programme effectue soit une opération simple, soit exécute une fonction qui est elle-même une suite d\\'opérations simples.\\n\\nLe programme « Hello World! » est par tradition le premier programme écrit par tout programmeur, censé illustrer la syntaxe du langage de programmation. Le programme a pour unique fonction d\\'afficher le texte \"Hello World!\" dans la console ou dans une fenêtre de l\\'interface graphique.\\n\\nLe programme suivant écrit en langage simplifié et avec des commentaires, demande simplement à l\\'utilisateur d\\'entrer au clavier deux nombres entiers, et affiche leur quotient.\\n\\n// fonction \\'main\\' : c\\'est toujours ici qu\\'un programme commence // \\'int\\' signifie integer : nombre entier en anglais // on déclare deux variables A et B qui sont des nombres entiers // on attend que l\\'utilisateur tape un entier au clavier, // et on l\\'enregistre dans A // puis on fait la même chose pour B // on exécute la fonction \\'CalculerDivision\\' // que l\\'on a programmée ci-dessous, // et on enregistre le résultat dans C qui est un \\'float\\' : un nombre à virgule // U et V sont les paramètres de notre fonction \\'CalculerDivision\\' : ce sont des nombres à virgules (float). // et celle-ci renvoie un \\'float\\' : un nombre à virgule flottante // dans la fonction \\'main\\', A et B étaient des nombres entiers, // U et V sont des copies des valeurs de A et B, // et qui ont été converties en nombres à virgule (22 deviendrait simplement 22.0000000) // on effectue la division /// on renvoie le résultat\\n\\nDans ce programme, les principales fonctionnalités de la programmation impérative sont utilisées : des variables de type nombre entier, nombre à virgule, chaîne de caractère, fonction calculant un résultat à partir de paramètres, fonction effectuant une tâche telle qu\\'afficher un message à l\\'écran, instruction permettant d\\'exécuter un code ou un autre en fonction de la valeur de telle ou telle variable.\\n\\nDans un programme informatique typique, on trouvera suivant les langages des boucles ou qui permettent d\\'exécuter un morceau de code en boucle ou simplement un certain nombre de fois, des pour l\\'allocation dynamique de données (par exemple des tableaux), et très souvent des éléments de programmation objet permettant de structurer différemment le code et de créer des types de données personnalisés, ou encore des exceptions pour gérer certains cas d\\'erreurs plus facilement.\\n\\nOn remarque que pour effectuer une tâche très simple, le code informatique peut être très laborieux, et encore ici on ne traite pas les erreurs (si l\\'utilisateur tape un mot au lieu d\\'un nombre), et l\\'affichage est minimaliste. C\\'est pourquoi les langages de programmation n\\'ont jamais cessé d\\'évoluer, dans le but d\\'aider le programmeur qui souhaite réaliser des programmes rapides à s\\'exécuter, sans dysfonctionnements, et surtout simples à écrire, du moins le plus possible.\\n\\nLa phase de conception définit le but du programme. Si on fait une rapide analyse fonctionnelle d\\'un programme, on détermine essentiellement les données qu\\'il va traiter (données d\\'entrée), la méthode employée (appelée l\\'algorithme), et le résultat (données de sortie). Les données d\\'entrée et de sortie peuvent être de nature très diverse. On peut décrire la méthode employée pour accomplir le but d\\'un programme à l\\'aide d\\'un algorithme. La programmation procédurale et fonctionnelle est basée sur l\\'algorithmique. On retrouve en général les mêmes fonctionnalités de base.\\n\\nUne fois l\\'algorithme défini, l\\'étape suivante est de coder le programme. Le codage dépend de l\\'architecture sur laquelle va s\\'exécuter le programme, de compromis temps-mémoire, et d\\'autres contraintes. Ces contraintes vont déterminer quel langage de programmation utiliser pour « convertir » l\\'algorithme en code source.\\n\\nLe code source n\\'est (presque) jamais utilisable tel quel. Il est généralement écrit dans un langage \"de haut niveau\", compréhensible pour l\\'homme, mais pas pour la machine.\\n\\nCertains langages sont ce qu\\'on appelle des langages compilés. En toute généralité, la compilation est l\\'opération qui consiste à transformer un langage source en un langage cible. Dans le cas d\\'un programme, le compilateur va transformer tout le texte représentant le code source du programme, en code compréhensible pour la machine, appelé code machine.\\n\\nDans le cas de langages dits compilés, ce qui est exécuté est le résultat de la compilation. Une fois effectuée, l\\'exécutable obtenu peut être utilisé sans le code source.\\n\\nIl faut également noter que le résultat de la compilation n\\'est pas forcément du code machine correspondant à la machine réelle, mais peut être du code compris par une machine virtuelle (c\\'est-à-dire un programme simulant une machine), auquel cas on parlera de bytecode. C\\'est par exemple le cas en Java. L\\'avantage est que, de cette façon, un programme peut fonctionner sur n\\'importe quelle machine réelle, du moment que la machine virtuelle existe pour celle-ci.\\n\\nDans le cas d\\'une requête SQL, la requête est compilée en une expression utilisant les opérateurs de l\\'algèbre relationnelle. C\\'est cette expression qui est évaluée par le système de gestion de bases de données.\\n\\nD\\'autres langages ne nécessitent pas de phase spéciale de compilation. La méthode employée pour exécuter le programme est alors différente. La phase de compilation est la plupart du temps incluse dans celle d’exécution. On dit de ce programme qu\\'il interprète le code source. Par exemple, Python ou Perl sont des langages interprétés.\\n\\nLes avantages généralement retenus pour l\\'utilisation de langages « compilés », est qu\\'ils sont plus rapides à l\\'exécution que des langages interprétés, car l\\'interprète doit être lancé à chaque exécution du programme, ce qui mobilise systématiquement les ressources.\\n\\nTraditionnellement, les langages interprétés offrent en revanche une certaine portabilité (la capacité à utiliser le code source sur différentes plates-formes), ainsi qu\\'une facilité pour l\\'écriture du code. En effet, il n\\'est pas nécessaire de passer par la phase de compilation pour tester le code source. Il n\\'est pas non plus nécessaire de disposer d\\'un autre programme (debugger) afin d’ôter les bugs du programme, c\\'est l’interpréteur qui permet d\\'afficher directement le contenu des variables du programme.\\n\\nIl faut noter qu\\'on parle abusivement de langages compilés ou interprétés. En effet, le caractère compilé ou interprété ne dépend pas du langage, qui n\\'est finalement qu\\'une grammaire et une certaine sémantique. D\\'ailleurs, certains langages peuvent être utilisés interprétés ou compilés. Par exemple, il est très courant d\\'utiliser Ruby avec un interprète, mais il existe également des compilateurs pour ce langage[5]. On notera toutefois, qu\\'il peut être important de préciser comment le code source est exécuté. En effet, rares sont les organismes qui proposent à la fois un compilateur et un interpréteur, les résultats du programme peuvent différer à l\\'exécution, même si la norme du langage est clairement définie.\\n\\nC\\'est l\\'une des étapes les plus importantes de la création d\\'un programme. En principe, tout programmeur se doit de vérifier chaque partie d\\'un programme, de le tester. Il existe différents types de test. On peut citer en particulier :\\n\\nIl convient de noter qu\\'il est parfois possible de vérifier un programme informatique, c\\'est-à-dire prouver, de manière plus ou moins automatique, qu\\'il assure certaines propriétés.\\n\\nUn paradigme est un style fondamental de programmation, définissant la manière dont les programmes doivent être formulés.\\n\\nUn paradigme est la façon dont sont traitées les solutions aux problèmes et un style fondamental de programmation, définissant la manière dont les programmes doivent être formulés. Chaque paradigme amène sa philosophie de la programmation ; une fois qu\\'une solution a été imaginée par un programmeur selon un certain paradigme, un langage de programmation qui suit ce paradigme permettra de l\\'exprimer.\\n\\nLe paradigme impératif est le plus répandu, les opérations sont une suite d’instructions exécutées par l\\'ordinateur pour modifier l\\'état du programme.\\n\\nLa programmation procédurale est un sous-ensemble de la programmation impérative. Elle introduit la notion de routine ou fonction qui est une sorte de factorisation de code, chaque procédure peut être appelée à n’importe quelle étape du programme. Ce paradigme permet aussi de supprimer les instructions goto[6],[7],[8]\\n\\nCe paradigme est très répandu, il est présent dans des langages comme le C, le COBOL ou le FORTRAN.\\n\\nApparu dans les années 70, la programmation structurée est un sous-ensemble de la programmation impérative. Elle née avec les travaux de Nicklaus Wirth pour son Algol W et l\\'article fondateur de Dijkstra dans Communications of the ACM, visant à supprimer l’instruction goto.\\n\\nTous les langages procéduraux peuvent faire de la programmation structurée, mais certains comme le FORTRAN s\\'y prêtent très mal.\\n\\nEn programmation déclarative, le programme est indépendant de l’état de la machine, il s’affranchit donc de tout effet de bord et un appel à une même fonction produira toujours le même résultat.\\n\\nLe programme s’écrit non pas comme une suite d’instruction pour résoudre un problème mais (contrairement à la programmation impérative) comme la solution au problème.\\n\\nLa programmation fonctionnelle se base sur plusieurs principes comme : l’immutabilité, les fonctions pures (qui ne dépendent pas de l’état de la machine) et les lambda-calcul.\\n\\nAujourd’hui, nombreux sont les langages qui offrent une approche fonctionnelle au programmeur. Certains comme LISP ou Scala sont intrinsèquement fonctionnels. D’autres comme JavaScript, Java ou PHP ont ajouté cette possibilité par la suite.\\n\\nLa programmation logique consiste à exprimer les problèmes et les algorithmes sous forme de prédicats à l’aide d\\'une base de faits, d\\'une base de règles et d\\'un moteur d\\'inférence.\\n\\nLa programmation orientée objet (abrégé POO) consiste en la définition et l\\'interaction de briques logicielles appelées objets ; ces objets représentes un concept, une idée. Chaque objet contient des attributs et des méthodes en rapport avec un sujet.\\n\\nLa programmation orientée prototype est un sous ensemble de la programmation orientée objet. Dans ce paradigme, chaque objet est créé à partir d’un prototype qui est lui-même un objet. Le prototype a donc une existence physique en mémoire et est mutable contrairement aux classes.\\n\\nLe JavaScript, le Lua ou le Self sont des exemples de langages utilisant ce paradigme.\\n\\nLa programmation orientée classe est basée sur la notion de classes. Une classe est statique, c’est la représentation abstraite de l’objet, c’est à ce niveau que se passe l’héritage. Tout objet est donc l’instance d’une classe.\\n\\nLes langages à classes peuvent être sous forme fonctionnelle (CLOS) comme sous forme impérative (C++, Java), voir les deux (Python, OCaml).\\n• Forme de Backus-Naur (BNF), une grammaire de description de langage\\n• Google Code Jam, un concours international annuel de programmation très prisé des mordus d\\'algorithmique et de programmation\\n• None Notice dans un dictionnaire ou une encyclopédie généraliste :'"
            ],
            "application/vnd.google.colaboratory.intrinsic+json": {
              "type": "string"
            }
          },
          "metadata": {},
          "execution_count": 24
        }
      ]
    },
    {
      "cell_type": "code",
      "source": [
        "len(art.cleaned_text)"
      ],
      "metadata": {
        "colab": {
          "base_uri": "https://localhost:8080/"
        },
        "id": "ZbjCx5jSGrwo",
        "outputId": "20334c25-0c14-4c1a-9661-a9b803fd0d0e"
      },
      "execution_count": 25,
      "outputs": [
        {
          "output_type": "execute_result",
          "data": {
            "text/plain": [
              "14418"
            ]
          },
          "metadata": {},
          "execution_count": 25
        }
      ]
    },
    {
      "cell_type": "code",
      "source": [
        "art_cleaned = art.cleaned_text"
      ],
      "metadata": {
        "id": "1R_CP5VmGyS7"
      },
      "execution_count": 26,
      "outputs": []
    },
    {
      "cell_type": "code",
      "source": [
        "art_nettoye = pre_traitement(art_cleaned)\n",
        "art_nettoye"
      ],
      "metadata": {
        "colab": {
          "base_uri": "https://localhost:8080/",
          "height": 140
        },
        "id": "Og5ou9x2Gvg8",
        "outputId": "7035104f-9403-4265-830e-28e88fa3d92b"
      },
      "execution_count": 28,
      "outputs": [
        {
          "output_type": "execute_result",
          "data": {
            "text/plain": [
              "\"programmation appelée aussi codage domaine informatique 1 désigne l'ensemble activités permettent l'écriture programmes informatiques c'est étape importante développement logiciels voire matériel l'écriture d'un programme fait langage programmation logiciel ensemble programmes peuvent être écrits langages programmation différents dédié réalisation certaines tâches plusieurs utilisateurs logiciel programmation représente donc ici rédaction code source d'un logiciel utilise plutôt terme développement dénoter l'ensemble activités liées création d'un logiciel programmes composent cela inclut spécification logiciel conception puis implémentation proprement dite sens l'écriture programmes langage programmation bien défini ainsi vérification correction etc première machine programmable ’ est-à-dire machine dont possibilités changent quand modifie programme probablement métier tisser jacquard a réalisé 1801. machine utilisait suite cartons perforés trous indiquaient motif métier suivait réaliser tissage cartes différentes métier produisait tissages différents 2 cette innovation a ensuite améliorée herman hollerith d'ibm développement fameuse carte perforée d'ibm 3 1936 publication l'article fondateur science informatique computable numbers with an application to the entscheidungsproblem 4 alan turing allait donner coup d'envoi création l'ordinateur programmable présente machine turing premier calculateur universel programmable invente concepts termes programmation programme premiers programmes d'ordinateur réalisés fer souder grand nombre tubes vide plus tard transistors programmes devenant plus complexes cela devenu presque impossible parce qu'une seule erreur rendait programme entier inutilisable progrès supports données devint possible charger programme partir cartes perforées contenant liste instructions code binaire spécifique type d'ordinateur particulier puissance ordinateurs augmentant utilisa faire programmes programmeurs préférant naturellement rédiger texte plutôt suites 0 1 charge l'ordinateur d'en faire traduction lui-même temps nouveaux langages programmation apparus faisant plus plus abstraction matériel lequel devraient tourner programmes ceci apporte plusieurs facteurs gain langages plus faciles apprendre programmeur peut produire code plus rapidement programmes produits peuvent tourner différents types machines • c++ l'immense majorité programmes s'exécutent ordinateurs téléphones autres outils électroniques écrits langages programmation dits impératifs lignes programme exécutées unes après autres chaque ligne programme effectue opération simple exécute fonction elle-même suite d'opérations simples programme « hello world » tradition premier programme écrit tout programmeur censé illustrer syntaxe langage programmation programme a unique fonction d'afficher texte `` hello world '' console fenêtre l'interface graphique programme suivant écrit langage simplifié commentaires demande simplement l'utilisateur d'entrer clavier deux nombres entiers affiche quotient // fonction 'main c'est toujours ici qu'un programme commence // 'int signifie integer nombre entier anglais // déclare deux variables a b nombres entiers // attend l'utilisateur tape entier clavier // l'enregistre a // puis fait chose b // exécute fonction 'calculerdivision // l'on a programmée ci-dessous // enregistre résultat 'float nombre virgule // u v paramètres fonction 'calculerdivision nombres virgules float // celle-ci renvoie 'float nombre virgule flottante // fonction 'main a b nombres entiers // u v copies valeurs a b // converties nombres virgule 22 deviendrait simplement 22.0000000 // effectue division /// renvoie résultat programme principales fonctionnalités programmation impérative utilisées variables type nombre entier nombre virgule chaîne caractère fonction calculant résultat partir paramètres fonction effectuant tâche telle qu'afficher message l'écran instruction permettant d'exécuter code autre fonction valeur telle telle variable programme informatique typique trouvera suivant langages boucles permettent d'exécuter morceau code boucle simplement certain nombre fois l'allocation dynamique données exemple tableaux très souvent éléments programmation objet permettant structurer différemment code créer types données personnalisés encore exceptions gérer certains cas d'erreurs plus facilement remarque effectuer tâche très simple code informatique peut être très laborieux encore ici traite erreurs si l'utilisateur tape mot lieu d'un nombre l'affichage minimaliste c'est pourquoi langages programmation n'ont jamais cessé d'évoluer but d'aider programmeur souhaite réaliser programmes rapides s'exécuter sans dysfonctionnements surtout simples écrire moins plus possible phase conception définit but programme si fait rapide analyse fonctionnelle d'un programme détermine essentiellement données qu'il va traiter données d'entrée méthode employée appelée l'algorithme résultat données sortie données d'entrée sortie peuvent être nature très diverse peut décrire méthode employée accomplir but d'un programme l'aide d'un algorithme programmation procédurale fonctionnelle basée l'algorithmique retrouve général mêmes fonctionnalités base fois l'algorithme défini l'étape suivante coder programme codage dépend l'architecture laquelle va s'exécuter programme compromis temps-mémoire d'autres contraintes contraintes vont déterminer quel langage programmation utiliser « convertir » l'algorithme code source code source n'est presque jamais utilisable tel quel généralement écrit langage `` haut niveau '' compréhensible l'homme machine certains langages qu'on appelle langages compilés toute généralité compilation l'opération consiste transformer langage source langage cible cas d'un programme compilateur va transformer tout texte représentant code source programme code compréhensible machine appelé code machine cas langages dits compilés exécuté résultat compilation fois effectuée l'exécutable obtenu peut être utilisé sans code source faut également noter résultat compilation n'est forcément code machine correspondant machine réelle peut être code compris machine virtuelle c'est-à-dire programme simulant machine auquel cas parlera bytecode c'est exemple cas java l'avantage cette façon programme peut fonctionner n'importe quelle machine réelle moment machine virtuelle existe celle-ci cas d'une requête sql requête compilée expression utilisant opérateurs l'algèbre relationnelle c'est cette expression évaluée système gestion bases données d'autres langages nécessitent phase spéciale compilation méthode employée exécuter programme alors différente phase compilation plupart temps incluse celle ’ exécution dit programme qu'il interprète code source exemple python perl langages interprétés avantages généralement retenus l'utilisation langages « compilés » qu'ils plus rapides l'exécution langages interprétés car l'interprète doit être lancé chaque exécution programme mobilise systématiquement ressources traditionnellement langages interprétés offrent revanche certaine portabilité capacité utiliser code source différentes plates-formes ainsi qu'une facilité l'écriture code effet n'est nécessaire passer phase compilation tester code source n'est non plus nécessaire disposer d'un autre programme debugger afin ’ ôter bugs programme c'est ’ interpréteur permet d'afficher directement contenu variables programme faut noter qu'on parle abusivement langages compilés interprétés effet caractère compilé interprété dépend langage n'est finalement qu'une grammaire certaine sémantique d'ailleurs certains langages peuvent être utilisés interprétés compilés exemple très courant d'utiliser ruby interprète existe également compilateurs langage 5 notera toutefois qu'il peut être important préciser comment code source exécuté effet rares organismes proposent fois compilateur interpréteur résultats programme peuvent différer l'exécution si norme langage clairement définie c'est l'une étapes plus importantes création d'un programme principe tout programmeur doit vérifier chaque partie d'un programme tester existe différents types test peut citer particulier convient noter qu'il parfois possible vérifier programme informatique c'est-à-dire prouver manière plus moins automatique qu'il assure certaines propriétés paradigme style fondamental programmation définissant manière dont programmes doivent être formulés paradigme façon dont traitées solutions problèmes style fondamental programmation définissant manière dont programmes doivent être formulés chaque paradigme amène philosophie programmation fois qu'une solution a imaginée programmeur selon certain paradigme langage programmation suit paradigme permettra l'exprimer paradigme impératif plus répandu opérations suite ’ instructions exécutées l'ordinateur modifier l'état programme programmation procédurale sous-ensemble programmation impérative introduit notion routine fonction sorte factorisation code chaque procédure peut être appelée ’ importe quelle étape programme paradigme permet aussi supprimer instructions goto 6 7 8 paradigme très répandu présent langages comme cobol fortran apparu années 70 programmation structurée sous-ensemble programmation impérative née travaux nicklaus wirth algol w l'article fondateur dijkstra communications of the acm visant supprimer ’ instruction goto tous langages procéduraux peuvent faire programmation structurée certains comme fortran s'y prêtent très mal programmation déclarative programme indépendant ’ état machine ’ affranchit donc tout effet bord appel fonction produira toujours résultat programme ’ écrit non comme suite ’ instruction résoudre problème contrairement programmation impérative comme solution problème programmation fonctionnelle base plusieurs principes comme ’ immutabilité fonctions pures dépendent ’ état machine lambda-calcul aujourd ’ hui nombreux langages offrent approche fonctionnelle programmeur certains comme lisp scala intrinsèquement fonctionnels ’ autres comme javascript java php ajouté cette possibilité suite programmation logique consiste exprimer problèmes algorithmes sous forme prédicats ’ aide d'une base faits d'une base règles d'un moteur d'inférence programmation orientée objet abrégé poo consiste définition l'interaction briques logicielles appelées objets objets représentes concept idée chaque objet contient attributs méthodes rapport sujet programmation orientée prototype sous ensemble programmation orientée objet paradigme chaque objet créé partir ’ prototype lui-même objet prototype a donc existence physique mémoire mutable contrairement classes javascript lua self exemples langages utilisant paradigme programmation orientée classe basée notion classes classe statique ’ représentation abstraite ’ objet ’ niveau passe ’ héritage tout objet donc ’ instance ’ classe langages classes peuvent être sous forme fonctionnelle clos comme sous forme impérative c++ java voir deux python ocaml • forme backus-naur bnf grammaire description langage • google code jam concours international annuel programmation très prisé mordus d'algorithmique programmation • none notice dictionnaire encyclopédie généraliste\""
            ],
            "application/vnd.google.colaboratory.intrinsic+json": {
              "type": "string"
            }
          },
          "metadata": {},
          "execution_count": 28
        }
      ]
    },
    {
      "cell_type": "code",
      "source": [
        "len(art_nettoye)"
      ],
      "metadata": {
        "colab": {
          "base_uri": "https://localhost:8080/"
        },
        "id": "4WEqWKhUHDMC",
        "outputId": "13cb3fa1-68c8-4289-9bbe-cb3a39c191e6"
      },
      "execution_count": 29,
      "outputs": [
        {
          "output_type": "execute_result",
          "data": {
            "text/plain": [
              "11158"
            ]
          },
          "metadata": {},
          "execution_count": 29
        }
      ]
    },
    {
      "cell_type": "code",
      "source": [
        "freq_mots = nltk.FreqDist(art_nettoye.split())\n",
        "freq_mots"
      ],
      "metadata": {
        "colab": {
          "base_uri": "https://localhost:8080/"
        },
        "id": "z6qlSXECHaFO",
        "outputId": "c20f35a7-9ae5-4cf7-d4e8-385cf1d024a1"
      },
      "execution_count": 30,
      "outputs": [
        {
          "output_type": "execute_result",
          "data": {
            "text/plain": [
              "FreqDist({\"''\": 2,\n",
              "          \"'calculerdivision\": 2,\n",
              "          \"'float\": 2,\n",
              "          \"'int\": 1,\n",
              "          \"'main\": 2,\n",
              "          '//': 15,\n",
              "          '///': 1,\n",
              "          '0': 1,\n",
              "          '1': 2,\n",
              "          '1801.': 1,\n",
              "          '1936': 1,\n",
              "          '2': 1,\n",
              "          '22': 1,\n",
              "          '22.0000000': 1,\n",
              "          '3': 1,\n",
              "          '4': 1,\n",
              "          '5': 1,\n",
              "          '6': 1,\n",
              "          '7': 1,\n",
              "          '70': 1,\n",
              "          '8': 1,\n",
              "          '``': 2,\n",
              "          'a': 10,\n",
              "          'abrégé': 1,\n",
              "          'abstraction': 1,\n",
              "          'abstraite': 1,\n",
              "          'abusivement': 1,\n",
              "          'accomplir': 1,\n",
              "          'acm': 1,\n",
              "          'activités': 2,\n",
              "          'affiche': 1,\n",
              "          'affranchit': 1,\n",
              "          'afin': 1,\n",
              "          'aide': 1,\n",
              "          'ainsi': 2,\n",
              "          'ajouté': 1,\n",
              "          'alan': 1,\n",
              "          'algol': 1,\n",
              "          'algorithme': 1,\n",
              "          'algorithmes': 1,\n",
              "          'allait': 1,\n",
              "          'alors': 1,\n",
              "          'amène': 1,\n",
              "          'améliorée': 1,\n",
              "          'an': 1,\n",
              "          'analyse': 1,\n",
              "          'anglais': 1,\n",
              "          'annuel': 1,\n",
              "          'années': 1,\n",
              "          'apparu': 1,\n",
              "          'apparus': 1,\n",
              "          'appel': 1,\n",
              "          'appelle': 1,\n",
              "          'appelé': 1,\n",
              "          'appelée': 3,\n",
              "          'appelées': 1,\n",
              "          'application': 1,\n",
              "          'apporte': 1,\n",
              "          'apprendre': 1,\n",
              "          'approche': 1,\n",
              "          'après': 1,\n",
              "          'assure': 1,\n",
              "          'attend': 1,\n",
              "          'attributs': 1,\n",
              "          'augmentant': 1,\n",
              "          'aujourd': 1,\n",
              "          'auquel': 1,\n",
              "          'aussi': 2,\n",
              "          'automatique': 1,\n",
              "          'autre': 2,\n",
              "          'autres': 3,\n",
              "          'avantages': 1,\n",
              "          'b': 4,\n",
              "          'backus-naur': 1,\n",
              "          'base': 4,\n",
              "          'bases': 1,\n",
              "          'basée': 2,\n",
              "          'bien': 1,\n",
              "          'binaire': 1,\n",
              "          'bnf': 1,\n",
              "          'bord': 1,\n",
              "          'boucle': 1,\n",
              "          'boucles': 1,\n",
              "          'briques': 1,\n",
              "          'bugs': 1,\n",
              "          'but': 3,\n",
              "          'bytecode': 1,\n",
              "          \"c'est\": 7,\n",
              "          \"c'est-à-dire\": 2,\n",
              "          'c++': 2,\n",
              "          'calculant': 1,\n",
              "          'calculateur': 1,\n",
              "          'capacité': 1,\n",
              "          'car': 1,\n",
              "          'caractère': 2,\n",
              "          'carte': 1,\n",
              "          'cartes': 2,\n",
              "          'cartons': 1,\n",
              "          'cas': 6,\n",
              "          'ceci': 1,\n",
              "          'cela': 2,\n",
              "          'celle': 1,\n",
              "          'celle-ci': 2,\n",
              "          'censé': 1,\n",
              "          'certain': 2,\n",
              "          'certaine': 2,\n",
              "          'certaines': 2,\n",
              "          'certains': 5,\n",
              "          'cessé': 1,\n",
              "          'cette': 4,\n",
              "          'changent': 1,\n",
              "          'chaque': 7,\n",
              "          'charge': 1,\n",
              "          'charger': 1,\n",
              "          'chaîne': 1,\n",
              "          'chose': 1,\n",
              "          'ci-dessous': 1,\n",
              "          'cible': 1,\n",
              "          'citer': 1,\n",
              "          'clairement': 1,\n",
              "          'classe': 3,\n",
              "          'classes': 3,\n",
              "          'clavier': 2,\n",
              "          'clos': 1,\n",
              "          'cobol': 1,\n",
              "          'codage': 2,\n",
              "          'code': 22,\n",
              "          'coder': 1,\n",
              "          'comme': 8,\n",
              "          'commence': 1,\n",
              "          'comment': 1,\n",
              "          'commentaires': 1,\n",
              "          'communications': 1,\n",
              "          'compilateur': 2,\n",
              "          'compilateurs': 1,\n",
              "          'compilation': 6,\n",
              "          'compilé': 1,\n",
              "          'compilée': 1,\n",
              "          'compilés': 5,\n",
              "          'complexes': 1,\n",
              "          'composent': 1,\n",
              "          'compris': 1,\n",
              "          'compromis': 1,\n",
              "          'compréhensible': 2,\n",
              "          'computable': 1,\n",
              "          'concept': 1,\n",
              "          'conception': 2,\n",
              "          'concepts': 1,\n",
              "          'concours': 1,\n",
              "          'consiste': 3,\n",
              "          'console': 1,\n",
              "          'contenant': 1,\n",
              "          'contenu': 1,\n",
              "          'contient': 1,\n",
              "          'contraintes': 2,\n",
              "          'contrairement': 2,\n",
              "          'converties': 1,\n",
              "          'convertir': 1,\n",
              "          'convient': 1,\n",
              "          'copies': 1,\n",
              "          'correction': 1,\n",
              "          'correspondant': 1,\n",
              "          'coup': 1,\n",
              "          'courant': 1,\n",
              "          'création': 3,\n",
              "          'créer': 1,\n",
              "          'créé': 1,\n",
              "          \"d'afficher\": 2,\n",
              "          \"d'aider\": 1,\n",
              "          \"d'ailleurs\": 1,\n",
              "          \"d'algorithmique\": 1,\n",
              "          \"d'autres\": 2,\n",
              "          \"d'en\": 1,\n",
              "          \"d'entrer\": 1,\n",
              "          \"d'entrée\": 2,\n",
              "          \"d'envoi\": 1,\n",
              "          \"d'erreurs\": 1,\n",
              "          \"d'exécuter\": 2,\n",
              "          \"d'ibm\": 2,\n",
              "          \"d'inférence\": 1,\n",
              "          \"d'opérations\": 1,\n",
              "          \"d'ordinateur\": 2,\n",
              "          \"d'un\": 12,\n",
              "          \"d'une\": 3,\n",
              "          \"d'utiliser\": 1,\n",
              "          \"d'évoluer\": 1,\n",
              "          'debugger': 1,\n",
              "          'demande': 1,\n",
              "          'description': 1,\n",
              "          'deux': 3,\n",
              "          'devenant': 1,\n",
              "          'devenu': 1,\n",
              "          'deviendrait': 1,\n",
              "          'devint': 1,\n",
              "          'devraient': 1,\n",
              "          'dictionnaire': 1,\n",
              "          'différemment': 1,\n",
              "          'différente': 1,\n",
              "          'différentes': 2,\n",
              "          'différents': 4,\n",
              "          'différer': 1,\n",
              "          'dijkstra': 1,\n",
              "          'directement': 1,\n",
              "          'disposer': 1,\n",
              "          'dit': 1,\n",
              "          'dite': 1,\n",
              "          'dits': 2,\n",
              "          'diverse': 1,\n",
              "          'division': 1,\n",
              "          'doit': 2,\n",
              "          'doivent': 2,\n",
              "          'domaine': 1,\n",
              "          'donc': 4,\n",
              "          'donner': 1,\n",
              "          'données': 8,\n",
              "          'dont': 4,\n",
              "          'dynamique': 1,\n",
              "          'dysfonctionnements': 1,\n",
              "          'déclarative': 1,\n",
              "          'déclare': 1,\n",
              "          'décrire': 1,\n",
              "          'dédié': 1,\n",
              "          'défini': 2,\n",
              "          'définie': 1,\n",
              "          'définissant': 2,\n",
              "          'définit': 1,\n",
              "          'définition': 1,\n",
              "          'dénoter': 1,\n",
              "          'dépend': 2,\n",
              "          'dépendent': 1,\n",
              "          'désigne': 1,\n",
              "          'détermine': 1,\n",
              "          'déterminer': 1,\n",
              "          'développement': 3,\n",
              "          'effectuant': 1,\n",
              "          'effectue': 2,\n",
              "          'effectuer': 1,\n",
              "          'effectuée': 1,\n",
              "          'effet': 4,\n",
              "          'elle-même': 1,\n",
              "          'employée': 3,\n",
              "          'encore': 2,\n",
              "          'encyclopédie': 1,\n",
              "          'enregistre': 1,\n",
              "          'ensemble': 2,\n",
              "          'ensuite': 1,\n",
              "          'entier': 4,\n",
              "          'entiers': 3,\n",
              "          'entscheidungsproblem': 1,\n",
              "          'erreur': 1,\n",
              "          'erreurs': 1,\n",
              "          'essentiellement': 1,\n",
              "          'est-à-dire': 1,\n",
              "          'etc': 1,\n",
              "          'exceptions': 1,\n",
              "          'exemple': 4,\n",
              "          'exemples': 1,\n",
              "          'existe': 3,\n",
              "          'existence': 1,\n",
              "          'expression': 2,\n",
              "          'exprimer': 1,\n",
              "          'exécute': 2,\n",
              "          'exécuter': 1,\n",
              "          'exécution': 2,\n",
              "          'exécuté': 2,\n",
              "          'exécutées': 2,\n",
              "          'facilement': 1,\n",
              "          'faciles': 1,\n",
              "          'facilité': 1,\n",
              "          'facteurs': 1,\n",
              "          'factorisation': 1,\n",
              "          'faire': 3,\n",
              "          'faisant': 1,\n",
              "          'fait': 3,\n",
              "          'faits': 1,\n",
              "          'fameuse': 1,\n",
              "          'faut': 2,\n",
              "          'façon': 2,\n",
              "          'fenêtre': 1,\n",
              "          'fer': 1,\n",
              "          'finalement': 1,\n",
              "          'float': 1,\n",
              "          'flottante': 1,\n",
              "          'fois': 5,\n",
              "          'fonction': 11,\n",
              "          'fonctionnalités': 2,\n",
              "          'fonctionnelle': 5,\n",
              "          'fonctionnels': 1,\n",
              "          'fonctionner': 1,\n",
              "          'fonctions': 1,\n",
              "          'fondamental': 2,\n",
              "          'fondateur': 2,\n",
              "          'forcément': 1,\n",
              "          'forme': 4,\n",
              "          'formulés': 2,\n",
              "          'fortran': 2,\n",
              "          'gain': 1,\n",
              "          'gestion': 1,\n",
              "          'google': 1,\n",
              "          'goto': 2,\n",
              "          'grammaire': 2,\n",
              "          'grand': 1,\n",
              "          'graphique': 1,\n",
              "          'général': 1,\n",
              "          'généralement': 2,\n",
              "          'généraliste': 1,\n",
              "          'généralité': 1,\n",
              "          'gérer': 1,\n",
              "          'haut': 1,\n",
              "          'hello': 2,\n",
              "          'herman': 1,\n",
              "          'hollerith': 1,\n",
              "          'hui': 1,\n",
              "          'héritage': 1,\n",
              "          'ici': 3,\n",
              "          'idée': 1,\n",
              "          'illustrer': 1,\n",
              "          'imaginée': 1,\n",
              "          'immutabilité': 1,\n",
              "          'implémentation': 1,\n",
              "          'important': 1,\n",
              "          'importante': 1,\n",
              "          'importantes': 1,\n",
              "          'importe': 1,\n",
              "          'impossible': 1,\n",
              "          'impératif': 1,\n",
              "          'impératifs': 1,\n",
              "          'impérative': 5,\n",
              "          'incluse': 1,\n",
              "          'inclut': 1,\n",
              "          'indiquaient': 1,\n",
              "          'indépendant': 1,\n",
              "          'informatique': 5,\n",
              "          'informatiques': 1,\n",
              "          'innovation': 1,\n",
              "          'instance': 1,\n",
              "          'instruction': 3,\n",
              "          'instructions': 3,\n",
              "          'integer': 1,\n",
              "          'international': 1,\n",
              "          'interprète': 2,\n",
              "          'interpréteur': 2,\n",
              "          'interprété': 1,\n",
              "          'interprétés': 5,\n",
              "          'intrinsèquement': 1,\n",
              "          'introduit': 1,\n",
              "          'inutilisable': 1,\n",
              "          'invente': 1,\n",
              "          'jacquard': 1,\n",
              "          'jam': 1,\n",
              "          'jamais': 2,\n",
              "          'java': 3,\n",
              "          'javascript': 2,\n",
              "          \"l'affichage\": 1,\n",
              "          \"l'aide\": 1,\n",
              "          \"l'algorithme\": 3,\n",
              "          \"l'algorithmique\": 1,\n",
              "          \"l'algèbre\": 1,\n",
              "          \"l'allocation\": 1,\n",
              "          \"l'architecture\": 1,\n",
              "          \"l'article\": 2,\n",
              "          \"l'avantage\": 1,\n",
              "          \"l'enregistre\": 1,\n",
              "          \"l'ensemble\": 2,\n",
              "          \"l'exprimer\": 1,\n",
              "          \"l'exécutable\": 1,\n",
              "          \"l'exécution\": 2,\n",
              "          \"l'homme\": 1,\n",
              "          \"l'immense\": 1,\n",
              "          \"l'interaction\": 1,\n",
              "          \"l'interface\": 1,\n",
              "          \"l'interprète\": 1,\n",
              "          \"l'on\": 1,\n",
              "          \"l'opération\": 1,\n",
              "          \"l'ordinateur\": 3,\n",
              "          \"l'une\": 1,\n",
              "          \"l'utilisateur\": 3,\n",
              "          \"l'utilisation\": 1,\n",
              "          \"l'écran\": 1,\n",
              "          \"l'écriture\": 4,\n",
              "          \"l'étape\": 1,\n",
              "          \"l'état\": 1,\n",
              "          'laborieux': 1,\n",
              "          'lambda-calcul': 1,\n",
              "          'lancé': 1,\n",
              "          'langage': 13,\n",
              "          'langages': 21,\n",
              "          'laquelle': 1,\n",
              "          'lequel': 1,\n",
              "          'lieu': 1,\n",
              "          'ligne': 1,\n",
              "          'lignes': 1,\n",
              "          'lisp': 1,\n",
              "          'liste': 1,\n",
              "          'liées': 1,\n",
              "          'logiciel': 5,\n",
              "          'logicielles': 1,\n",
              "          'logiciels': 1,\n",
              "          'logique': 1,\n",
              "          'lua': 1,\n",
              "          'lui-même': 2,\n",
              "          'machine': 15,\n",
              "          'machines': 1,\n",
              "          'majorité': 1,\n",
              "          'mal': 1,\n",
              "          'manière': 3,\n",
              "          'matériel': 2,\n",
              "          'message': 1,\n",
              "          'minimaliste': 1,\n",
              "          'mobilise': 1,\n",
              "          'modifie': 1,\n",
              "          'modifier': 1,\n",
              "          'moins': 2,\n",
              "          'moment': 1,\n",
              "          'morceau': 1,\n",
              "          'mordus': 1,\n",
              "          'mot': 1,\n",
              "          'moteur': 1,\n",
              "          'motif': 1,\n",
              "          'mutable': 1,\n",
              "          'mémoire': 1,\n",
              "          'méthode': 3,\n",
              "          'méthodes': 1,\n",
              "          'métier': 3,\n",
              "          'mêmes': 1,\n",
              "          \"n'est\": 5,\n",
              "          \"n'importe\": 1,\n",
              "          \"n'ont\": 1,\n",
              "          'nature': 1,\n",
              "          'naturellement': 1,\n",
              "          'nicklaus': 1,\n",
              "          'niveau': 2,\n",
              "          'nombre': 8,\n",
              "          'nombres': 5,\n",
              "          'nombreux': 1,\n",
              "          'non': 2,\n",
              "          'none': 1,\n",
              "          'norme': 1,\n",
              "          'noter': 3,\n",
              "          'notera': 1,\n",
              "          'notice': 1,\n",
              "          'notion': 2,\n",
              "          'nouveaux': 1,\n",
              "          'numbers': 1,\n",
              "          'nécessaire': 2,\n",
              "          'nécessitent': 1,\n",
              "          'née': 1,\n",
              "          'objet': 8,\n",
              "          'objets': 2,\n",
              "          'obtenu': 1,\n",
              "          'ocaml': 1,\n",
              "          'of': 1,\n",
              "          'offrent': 2,\n",
              "          'opérateurs': 1,\n",
              "          'opération': 1,\n",
              "          'opérations': 1,\n",
              "          'ordinateurs': 2,\n",
              "          'organismes': 1,\n",
              "          'orientée': 4,\n",
              "          'outils': 1,\n",
              "          'paradigme': 10,\n",
              "          'paramètres': 2,\n",
              "          'parce': 1,\n",
              "          'parfois': 1,\n",
              "          'parle': 1,\n",
              "          'parlera': 1,\n",
              "          'particulier': 2,\n",
              "          'partie': 1,\n",
              "          'partir': 3,\n",
              "          'passe': 1,\n",
              "          'passer': 1,\n",
              "          'perforée': 1,\n",
              "          'perforées': 1,\n",
              "          'perforés': 1,\n",
              "          'perl': 1,\n",
              "          'permet': 2,\n",
              "          'permettant': 2,\n",
              "          'permettent': 2,\n",
              "          'permettra': 1,\n",
              "          'personnalisés': 1,\n",
              "          'peut': 9,\n",
              "          'peuvent': 7,\n",
              "          'phase': 4,\n",
              "          'philosophie': 1,\n",
              "          'php': 1,\n",
              "          'physique': 1,\n",
              "          'plates-formes': 1,\n",
              "          'plupart': 1,\n",
              "          'plus': 13,\n",
              "          'plusieurs': 3,\n",
              "          'plutôt': 2,\n",
              "          'poo': 1,\n",
              "          'portabilité': 1,\n",
              "          'possibilité': 1,\n",
              "          'possibilités': 1,\n",
              "          'possible': 3,\n",
              "          'pourquoi': 1,\n",
              "          'premier': 2,\n",
              "          'premiers': 1,\n",
              "          'première': 1,\n",
              "          'presque': 2,\n",
              "          'principales': 1,\n",
              "          'principe': 1,\n",
              "          'principes': 1,\n",
              "          'prisé': 1,\n",
              "          'probablement': 1,\n",
              "          'problème': 2,\n",
              "          'problèmes': 2,\n",
              "          'procédurale': 2,\n",
              "          'procéduraux': 1,\n",
              "          'procédure': 1,\n",
              "          'produira': 1,\n",
              "          'produire': 1,\n",
              "          'produisait': 1,\n",
              "          'produits': 1,\n",
              "          'programmable': 3,\n",
              "          'programmation': 33,\n",
              "          'programme': 37,\n",
              "          'programmes': 13,\n",
              "          'programmeur': 6,\n",
              "          'programmeurs': 1,\n",
              "          'programmée': 1,\n",
              "          'progrès': 1,\n",
              "          'proposent': 1,\n",
              "          'proprement': 1,\n",
              "          'propriétés': 1,\n",
              "          'prototype': 3,\n",
              "          'prouver': 1,\n",
              "          'préciser': 1,\n",
              "          'prédicats': 1,\n",
              "          'préférant': 1,\n",
              "          'présent': 1,\n",
              "          'présente': 1,\n",
              "          'prêtent': 1,\n",
              "          'publication': 1,\n",
              "          'puis': 2,\n",
              "          'puissance': 1,\n",
              "          'pures': 1,\n",
              "          'python': 2,\n",
              "          \"qu'afficher\": 1,\n",
              "          \"qu'il\": 5,\n",
              "          \"qu'ils\": 1,\n",
              "          \"qu'on\": 2,\n",
              "          \"qu'un\": 1,\n",
              "          \"qu'une\": 4,\n",
              "          'quand': 1,\n",
              "          'quel': 2,\n",
              "          'quelle': 2,\n",
              "          'quotient': 1,\n",
              "          'rapide': 1,\n",
              "          'rapidement': 1,\n",
              "          'rapides': 2,\n",
              "          'rapport': 1,\n",
              "          'rares': 1,\n",
              "          'relationnelle': 1,\n",
              "          'remarque': 1,\n",
              "          'rendait': 1,\n",
              "          'renvoie': 2,\n",
              "          'représentant': 1,\n",
              "          'représentation': 1,\n",
              "          'représente': 1,\n",
              "          'représentes': 1,\n",
              "          'requête': 2,\n",
              "          'ressources': 1,\n",
              "          'retenus': 1,\n",
              "          'retrouve': 1,\n",
              "          'revanche': 1,\n",
              "          'routine': 1,\n",
              "          'ruby': 1,\n",
              "          'règles': 1,\n",
              "          'réalisation': 1,\n",
              "          'réaliser': 2,\n",
              "          'réalisé': 1,\n",
              "          'réalisés': 1,\n",
              "          'rédaction': 1,\n",
              "          'rédiger': 1,\n",
              "          'réelle': 2,\n",
              "          'répandu': 2,\n",
              "          'résoudre': 1,\n",
              "          'résultat': 7,\n",
              "          'résultats': 1,\n",
              "          \"s'exécutent\": 1,\n",
              "          \"s'exécuter\": 2,\n",
              "          \"s'y\": 1,\n",
              "          'sans': 2,\n",
              "          'scala': 1,\n",
              "          'science': 1,\n",
              "          'self': 1,\n",
              "          'selon': 1,\n",
              "          'sens': 1,\n",
              "          'seule': 1,\n",
              "          'si': 3,\n",
              "          'signifie': 1,\n",
              "          'simple': 2,\n",
              "          'simplement': 3,\n",
              "          'simples': 2,\n",
              "          'simplifié': 1,\n",
              "          'simulant': 1,\n",
              "          'solution': 2,\n",
              "          'solutions': 1,\n",
              "          'sorte': 1,\n",
              "          'sortie': 2,\n",
              "          'souder': 1,\n",
              "          'souhaite': 1,\n",
              "          'source': 10,\n",
              "          'sous': 4,\n",
              "          'sous-ensemble': 2,\n",
              "          'souvent': 1,\n",
              "          'spéciale': 1,\n",
              "          'spécification': 1,\n",
              "          'spécifique': 1,\n",
              "          'sql': 1,\n",
              "          'statique': 1,\n",
              "          'structurer': 1,\n",
              "          'structurée': 2,\n",
              "          'style': 2,\n",
              "          'suit': 1,\n",
              "          'suite': 5,\n",
              "          'suites': 1,\n",
              "          'suivait': 1,\n",
              "          'suivant': 2,\n",
              "          'suivante': 1,\n",
              "          'sujet': 1,\n",
              "          'supports': 1,\n",
              "          'supprimer': 2,\n",
              "          'surtout': 1,\n",
              "          'syntaxe': 1,\n",
              "          'système': 1,\n",
              "          'systématiquement': 1,\n",
              "          'sémantique': 1,\n",
              "          'tableaux': 1,\n",
              "          'tape': 2,\n",
              "          'tard': 1,\n",
              "          'tel': 1,\n",
              "          'telle': 3,\n",
              "          'temps': 2,\n",
              "          'temps-mémoire': 1,\n",
              "          'terme': 1,\n",
              "          'termes': 1,\n",
              "          'test': 1,\n",
              "          'tester': 2,\n",
              "          'texte': 3,\n",
              "          'the': 2,\n",
              "          'tissage': 1,\n",
              "          'tissages': 1,\n",
              "          'tisser': 1,\n",
              "          'to': 1,\n",
              "          'toujours': 2,\n",
              "          'tourner': 2,\n",
              "          'tous': 1,\n",
              "          'tout': 5,\n",
              "          'toute': 1,\n",
              "          'toutefois': 1,\n",
              "          'tradition': 1,\n",
              "          'traditionnellement': 1,\n",
              "          'traduction': 1,\n",
              "          'traite': 1,\n",
              "          'traiter': 1,\n",
              "          'traitées': 1,\n",
              "          'transformer': 2,\n",
              "          'transistors': 1,\n",
              "          'travaux': 1,\n",
              "          'trous': 1,\n",
              "          'trouvera': 1,\n",
              "          'très': 8,\n",
              "          'tubes': 1,\n",
              "          'turing': 2,\n",
              "          'type': 2,\n",
              "          'types': 3,\n",
              "          'typique': 1,\n",
              "          'tâche': 2,\n",
              "          'tâches': 1,\n",
              "          'téléphones': 1,\n",
              "          'u': 2,\n",
              "          'unes': 1,\n",
              "          'unique': 1,\n",
              "          'universel': 1,\n",
              "          'utilisa': 1,\n",
              "          'utilisable': 1,\n",
              "          'utilisait': 1,\n",
              "          'utilisant': 2,\n",
              "          'utilisateurs': 1,\n",
              "          'utilise': 1,\n",
              "          'utiliser': 2,\n",
              "          'utilisé': 1,\n",
              "          'utilisées': 1,\n",
              "          'utilisés': 1,\n",
              "          'v': 2,\n",
              "          'va': 3,\n",
              "          'valeur': 1,\n",
              "          'valeurs': 1,\n",
              "          'variable': 1,\n",
              "          'variables': 3,\n",
              "          'vide': 1,\n",
              "          'virgule': 4,\n",
              "          'virgules': 1,\n",
              "          'virtuelle': 2,\n",
              "          'visant': 1,\n",
              "          'voir': 1,\n",
              "          'voire': 1,\n",
              "          'vont': 1,\n",
              "          'vérification': 1,\n",
              "          'vérifier': 2,\n",
              "          'w': 1,\n",
              "          'wirth': 1,\n",
              "          'with': 1,\n",
              "          'world': 2,\n",
              "          '«': 3,\n",
              "          '»': 3,\n",
              "          'écrire': 1,\n",
              "          'écrit': 4,\n",
              "          'écrits': 2,\n",
              "          'également': 2,\n",
              "          'électroniques': 1,\n",
              "          'éléments': 1,\n",
              "          'étape': 2,\n",
              "          'étapes': 1,\n",
              "          'état': 2,\n",
              "          'évaluée': 1,\n",
              "          'être': 12,\n",
              "          'ôter': 1,\n",
              "          '’': 23,\n",
              "          '•': 4})"
            ]
          },
          "metadata": {},
          "execution_count": 30
        }
      ]
    },
    {
      "cell_type": "code",
      "source": [
        "freq_prop_mots = {}\n",
        "for mot, freq in freq_mots.items():\n",
        "  freq_prop_mots[mot] = freq/max(freq_mots.values())\n",
        "\n",
        "freq_prop_mots"
      ],
      "metadata": {
        "colab": {
          "base_uri": "https://localhost:8080/"
        },
        "id": "3z7-hx5rHuBk",
        "outputId": "974e65e4-97ee-4991-eab0-89f46a56f587"
      },
      "execution_count": 35,
      "outputs": [
        {
          "output_type": "execute_result",
          "data": {
            "text/plain": [
              "{\"''\": 0.05405405405405406,\n",
              " \"'calculerdivision\": 0.05405405405405406,\n",
              " \"'float\": 0.05405405405405406,\n",
              " \"'int\": 0.02702702702702703,\n",
              " \"'main\": 0.05405405405405406,\n",
              " '//': 0.40540540540540543,\n",
              " '///': 0.02702702702702703,\n",
              " '0': 0.02702702702702703,\n",
              " '1': 0.05405405405405406,\n",
              " '1801.': 0.02702702702702703,\n",
              " '1936': 0.02702702702702703,\n",
              " '2': 0.02702702702702703,\n",
              " '22': 0.02702702702702703,\n",
              " '22.0000000': 0.02702702702702703,\n",
              " '3': 0.02702702702702703,\n",
              " '4': 0.02702702702702703,\n",
              " '5': 0.02702702702702703,\n",
              " '6': 0.02702702702702703,\n",
              " '7': 0.02702702702702703,\n",
              " '70': 0.02702702702702703,\n",
              " '8': 0.02702702702702703,\n",
              " '``': 0.05405405405405406,\n",
              " 'a': 0.2702702702702703,\n",
              " 'abrégé': 0.02702702702702703,\n",
              " 'abstraction': 0.02702702702702703,\n",
              " 'abstraite': 0.02702702702702703,\n",
              " 'abusivement': 0.02702702702702703,\n",
              " 'accomplir': 0.02702702702702703,\n",
              " 'acm': 0.02702702702702703,\n",
              " 'activités': 0.05405405405405406,\n",
              " 'affiche': 0.02702702702702703,\n",
              " 'affranchit': 0.02702702702702703,\n",
              " 'afin': 0.02702702702702703,\n",
              " 'aide': 0.02702702702702703,\n",
              " 'ainsi': 0.05405405405405406,\n",
              " 'ajouté': 0.02702702702702703,\n",
              " 'alan': 0.02702702702702703,\n",
              " 'algol': 0.02702702702702703,\n",
              " 'algorithme': 0.02702702702702703,\n",
              " 'algorithmes': 0.02702702702702703,\n",
              " 'allait': 0.02702702702702703,\n",
              " 'alors': 0.02702702702702703,\n",
              " 'amène': 0.02702702702702703,\n",
              " 'améliorée': 0.02702702702702703,\n",
              " 'an': 0.02702702702702703,\n",
              " 'analyse': 0.02702702702702703,\n",
              " 'anglais': 0.02702702702702703,\n",
              " 'annuel': 0.02702702702702703,\n",
              " 'années': 0.02702702702702703,\n",
              " 'apparu': 0.02702702702702703,\n",
              " 'apparus': 0.02702702702702703,\n",
              " 'appel': 0.02702702702702703,\n",
              " 'appelle': 0.02702702702702703,\n",
              " 'appelé': 0.02702702702702703,\n",
              " 'appelée': 0.08108108108108109,\n",
              " 'appelées': 0.02702702702702703,\n",
              " 'application': 0.02702702702702703,\n",
              " 'apporte': 0.02702702702702703,\n",
              " 'apprendre': 0.02702702702702703,\n",
              " 'approche': 0.02702702702702703,\n",
              " 'après': 0.02702702702702703,\n",
              " 'assure': 0.02702702702702703,\n",
              " 'attend': 0.02702702702702703,\n",
              " 'attributs': 0.02702702702702703,\n",
              " 'augmentant': 0.02702702702702703,\n",
              " 'aujourd': 0.02702702702702703,\n",
              " 'auquel': 0.02702702702702703,\n",
              " 'aussi': 0.05405405405405406,\n",
              " 'automatique': 0.02702702702702703,\n",
              " 'autre': 0.05405405405405406,\n",
              " 'autres': 0.08108108108108109,\n",
              " 'avantages': 0.02702702702702703,\n",
              " 'b': 0.10810810810810811,\n",
              " 'backus-naur': 0.02702702702702703,\n",
              " 'base': 0.10810810810810811,\n",
              " 'bases': 0.02702702702702703,\n",
              " 'basée': 0.05405405405405406,\n",
              " 'bien': 0.02702702702702703,\n",
              " 'binaire': 0.02702702702702703,\n",
              " 'bnf': 0.02702702702702703,\n",
              " 'bord': 0.02702702702702703,\n",
              " 'boucle': 0.02702702702702703,\n",
              " 'boucles': 0.02702702702702703,\n",
              " 'briques': 0.02702702702702703,\n",
              " 'bugs': 0.02702702702702703,\n",
              " 'but': 0.08108108108108109,\n",
              " 'bytecode': 0.02702702702702703,\n",
              " \"c'est\": 0.1891891891891892,\n",
              " \"c'est-à-dire\": 0.05405405405405406,\n",
              " 'c++': 0.05405405405405406,\n",
              " 'calculant': 0.02702702702702703,\n",
              " 'calculateur': 0.02702702702702703,\n",
              " 'capacité': 0.02702702702702703,\n",
              " 'car': 0.02702702702702703,\n",
              " 'caractère': 0.05405405405405406,\n",
              " 'carte': 0.02702702702702703,\n",
              " 'cartes': 0.05405405405405406,\n",
              " 'cartons': 0.02702702702702703,\n",
              " 'cas': 0.16216216216216217,\n",
              " 'ceci': 0.02702702702702703,\n",
              " 'cela': 0.05405405405405406,\n",
              " 'celle': 0.02702702702702703,\n",
              " 'celle-ci': 0.05405405405405406,\n",
              " 'censé': 0.02702702702702703,\n",
              " 'certain': 0.05405405405405406,\n",
              " 'certaine': 0.05405405405405406,\n",
              " 'certaines': 0.05405405405405406,\n",
              " 'certains': 0.13513513513513514,\n",
              " 'cessé': 0.02702702702702703,\n",
              " 'cette': 0.10810810810810811,\n",
              " 'changent': 0.02702702702702703,\n",
              " 'chaque': 0.1891891891891892,\n",
              " 'charge': 0.02702702702702703,\n",
              " 'charger': 0.02702702702702703,\n",
              " 'chaîne': 0.02702702702702703,\n",
              " 'chose': 0.02702702702702703,\n",
              " 'ci-dessous': 0.02702702702702703,\n",
              " 'cible': 0.02702702702702703,\n",
              " 'citer': 0.02702702702702703,\n",
              " 'clairement': 0.02702702702702703,\n",
              " 'classe': 0.08108108108108109,\n",
              " 'classes': 0.08108108108108109,\n",
              " 'clavier': 0.05405405405405406,\n",
              " 'clos': 0.02702702702702703,\n",
              " 'cobol': 0.02702702702702703,\n",
              " 'codage': 0.05405405405405406,\n",
              " 'code': 0.5945945945945946,\n",
              " 'coder': 0.02702702702702703,\n",
              " 'comme': 0.21621621621621623,\n",
              " 'commence': 0.02702702702702703,\n",
              " 'comment': 0.02702702702702703,\n",
              " 'commentaires': 0.02702702702702703,\n",
              " 'communications': 0.02702702702702703,\n",
              " 'compilateur': 0.05405405405405406,\n",
              " 'compilateurs': 0.02702702702702703,\n",
              " 'compilation': 0.16216216216216217,\n",
              " 'compilé': 0.02702702702702703,\n",
              " 'compilée': 0.02702702702702703,\n",
              " 'compilés': 0.13513513513513514,\n",
              " 'complexes': 0.02702702702702703,\n",
              " 'composent': 0.02702702702702703,\n",
              " 'compris': 0.02702702702702703,\n",
              " 'compromis': 0.02702702702702703,\n",
              " 'compréhensible': 0.05405405405405406,\n",
              " 'computable': 0.02702702702702703,\n",
              " 'concept': 0.02702702702702703,\n",
              " 'conception': 0.05405405405405406,\n",
              " 'concepts': 0.02702702702702703,\n",
              " 'concours': 0.02702702702702703,\n",
              " 'consiste': 0.08108108108108109,\n",
              " 'console': 0.02702702702702703,\n",
              " 'contenant': 0.02702702702702703,\n",
              " 'contenu': 0.02702702702702703,\n",
              " 'contient': 0.02702702702702703,\n",
              " 'contraintes': 0.05405405405405406,\n",
              " 'contrairement': 0.05405405405405406,\n",
              " 'converties': 0.02702702702702703,\n",
              " 'convertir': 0.02702702702702703,\n",
              " 'convient': 0.02702702702702703,\n",
              " 'copies': 0.02702702702702703,\n",
              " 'correction': 0.02702702702702703,\n",
              " 'correspondant': 0.02702702702702703,\n",
              " 'coup': 0.02702702702702703,\n",
              " 'courant': 0.02702702702702703,\n",
              " 'création': 0.08108108108108109,\n",
              " 'créer': 0.02702702702702703,\n",
              " 'créé': 0.02702702702702703,\n",
              " \"d'afficher\": 0.05405405405405406,\n",
              " \"d'aider\": 0.02702702702702703,\n",
              " \"d'ailleurs\": 0.02702702702702703,\n",
              " \"d'algorithmique\": 0.02702702702702703,\n",
              " \"d'autres\": 0.05405405405405406,\n",
              " \"d'en\": 0.02702702702702703,\n",
              " \"d'entrer\": 0.02702702702702703,\n",
              " \"d'entrée\": 0.05405405405405406,\n",
              " \"d'envoi\": 0.02702702702702703,\n",
              " \"d'erreurs\": 0.02702702702702703,\n",
              " \"d'exécuter\": 0.05405405405405406,\n",
              " \"d'ibm\": 0.05405405405405406,\n",
              " \"d'inférence\": 0.02702702702702703,\n",
              " \"d'opérations\": 0.02702702702702703,\n",
              " \"d'ordinateur\": 0.05405405405405406,\n",
              " \"d'un\": 0.32432432432432434,\n",
              " \"d'une\": 0.08108108108108109,\n",
              " \"d'utiliser\": 0.02702702702702703,\n",
              " \"d'évoluer\": 0.02702702702702703,\n",
              " 'debugger': 0.02702702702702703,\n",
              " 'demande': 0.02702702702702703,\n",
              " 'description': 0.02702702702702703,\n",
              " 'deux': 0.08108108108108109,\n",
              " 'devenant': 0.02702702702702703,\n",
              " 'devenu': 0.02702702702702703,\n",
              " 'deviendrait': 0.02702702702702703,\n",
              " 'devint': 0.02702702702702703,\n",
              " 'devraient': 0.02702702702702703,\n",
              " 'dictionnaire': 0.02702702702702703,\n",
              " 'différemment': 0.02702702702702703,\n",
              " 'différente': 0.02702702702702703,\n",
              " 'différentes': 0.05405405405405406,\n",
              " 'différents': 0.10810810810810811,\n",
              " 'différer': 0.02702702702702703,\n",
              " 'dijkstra': 0.02702702702702703,\n",
              " 'directement': 0.02702702702702703,\n",
              " 'disposer': 0.02702702702702703,\n",
              " 'dit': 0.02702702702702703,\n",
              " 'dite': 0.02702702702702703,\n",
              " 'dits': 0.05405405405405406,\n",
              " 'diverse': 0.02702702702702703,\n",
              " 'division': 0.02702702702702703,\n",
              " 'doit': 0.05405405405405406,\n",
              " 'doivent': 0.05405405405405406,\n",
              " 'domaine': 0.02702702702702703,\n",
              " 'donc': 0.10810810810810811,\n",
              " 'donner': 0.02702702702702703,\n",
              " 'données': 0.21621621621621623,\n",
              " 'dont': 0.10810810810810811,\n",
              " 'dynamique': 0.02702702702702703,\n",
              " 'dysfonctionnements': 0.02702702702702703,\n",
              " 'déclarative': 0.02702702702702703,\n",
              " 'déclare': 0.02702702702702703,\n",
              " 'décrire': 0.02702702702702703,\n",
              " 'dédié': 0.02702702702702703,\n",
              " 'défini': 0.05405405405405406,\n",
              " 'définie': 0.02702702702702703,\n",
              " 'définissant': 0.05405405405405406,\n",
              " 'définit': 0.02702702702702703,\n",
              " 'définition': 0.02702702702702703,\n",
              " 'dénoter': 0.02702702702702703,\n",
              " 'dépend': 0.05405405405405406,\n",
              " 'dépendent': 0.02702702702702703,\n",
              " 'désigne': 0.02702702702702703,\n",
              " 'détermine': 0.02702702702702703,\n",
              " 'déterminer': 0.02702702702702703,\n",
              " 'développement': 0.08108108108108109,\n",
              " 'effectuant': 0.02702702702702703,\n",
              " 'effectue': 0.05405405405405406,\n",
              " 'effectuer': 0.02702702702702703,\n",
              " 'effectuée': 0.02702702702702703,\n",
              " 'effet': 0.10810810810810811,\n",
              " 'elle-même': 0.02702702702702703,\n",
              " 'employée': 0.08108108108108109,\n",
              " 'encore': 0.05405405405405406,\n",
              " 'encyclopédie': 0.02702702702702703,\n",
              " 'enregistre': 0.02702702702702703,\n",
              " 'ensemble': 0.05405405405405406,\n",
              " 'ensuite': 0.02702702702702703,\n",
              " 'entier': 0.10810810810810811,\n",
              " 'entiers': 0.08108108108108109,\n",
              " 'entscheidungsproblem': 0.02702702702702703,\n",
              " 'erreur': 0.02702702702702703,\n",
              " 'erreurs': 0.02702702702702703,\n",
              " 'essentiellement': 0.02702702702702703,\n",
              " 'est-à-dire': 0.02702702702702703,\n",
              " 'etc': 0.02702702702702703,\n",
              " 'exceptions': 0.02702702702702703,\n",
              " 'exemple': 0.10810810810810811,\n",
              " 'exemples': 0.02702702702702703,\n",
              " 'existe': 0.08108108108108109,\n",
              " 'existence': 0.02702702702702703,\n",
              " 'expression': 0.05405405405405406,\n",
              " 'exprimer': 0.02702702702702703,\n",
              " 'exécute': 0.05405405405405406,\n",
              " 'exécuter': 0.02702702702702703,\n",
              " 'exécution': 0.05405405405405406,\n",
              " 'exécuté': 0.05405405405405406,\n",
              " 'exécutées': 0.05405405405405406,\n",
              " 'facilement': 0.02702702702702703,\n",
              " 'faciles': 0.02702702702702703,\n",
              " 'facilité': 0.02702702702702703,\n",
              " 'facteurs': 0.02702702702702703,\n",
              " 'factorisation': 0.02702702702702703,\n",
              " 'faire': 0.08108108108108109,\n",
              " 'faisant': 0.02702702702702703,\n",
              " 'fait': 0.08108108108108109,\n",
              " 'faits': 0.02702702702702703,\n",
              " 'fameuse': 0.02702702702702703,\n",
              " 'faut': 0.05405405405405406,\n",
              " 'façon': 0.05405405405405406,\n",
              " 'fenêtre': 0.02702702702702703,\n",
              " 'fer': 0.02702702702702703,\n",
              " 'finalement': 0.02702702702702703,\n",
              " 'float': 0.02702702702702703,\n",
              " 'flottante': 0.02702702702702703,\n",
              " 'fois': 0.13513513513513514,\n",
              " 'fonction': 0.2972972972972973,\n",
              " 'fonctionnalités': 0.05405405405405406,\n",
              " 'fonctionnelle': 0.13513513513513514,\n",
              " 'fonctionnels': 0.02702702702702703,\n",
              " 'fonctionner': 0.02702702702702703,\n",
              " 'fonctions': 0.02702702702702703,\n",
              " 'fondamental': 0.05405405405405406,\n",
              " 'fondateur': 0.05405405405405406,\n",
              " 'forcément': 0.02702702702702703,\n",
              " 'forme': 0.10810810810810811,\n",
              " 'formulés': 0.05405405405405406,\n",
              " 'fortran': 0.05405405405405406,\n",
              " 'gain': 0.02702702702702703,\n",
              " 'gestion': 0.02702702702702703,\n",
              " 'google': 0.02702702702702703,\n",
              " 'goto': 0.05405405405405406,\n",
              " 'grammaire': 0.05405405405405406,\n",
              " 'grand': 0.02702702702702703,\n",
              " 'graphique': 0.02702702702702703,\n",
              " 'général': 0.02702702702702703,\n",
              " 'généralement': 0.05405405405405406,\n",
              " 'généraliste': 0.02702702702702703,\n",
              " 'généralité': 0.02702702702702703,\n",
              " 'gérer': 0.02702702702702703,\n",
              " 'haut': 0.02702702702702703,\n",
              " 'hello': 0.05405405405405406,\n",
              " 'herman': 0.02702702702702703,\n",
              " 'hollerith': 0.02702702702702703,\n",
              " 'hui': 0.02702702702702703,\n",
              " 'héritage': 0.02702702702702703,\n",
              " 'ici': 0.08108108108108109,\n",
              " 'idée': 0.02702702702702703,\n",
              " 'illustrer': 0.02702702702702703,\n",
              " 'imaginée': 0.02702702702702703,\n",
              " 'immutabilité': 0.02702702702702703,\n",
              " 'implémentation': 0.02702702702702703,\n",
              " 'important': 0.02702702702702703,\n",
              " 'importante': 0.02702702702702703,\n",
              " 'importantes': 0.02702702702702703,\n",
              " 'importe': 0.02702702702702703,\n",
              " 'impossible': 0.02702702702702703,\n",
              " 'impératif': 0.02702702702702703,\n",
              " 'impératifs': 0.02702702702702703,\n",
              " 'impérative': 0.13513513513513514,\n",
              " 'incluse': 0.02702702702702703,\n",
              " 'inclut': 0.02702702702702703,\n",
              " 'indiquaient': 0.02702702702702703,\n",
              " 'indépendant': 0.02702702702702703,\n",
              " 'informatique': 0.13513513513513514,\n",
              " 'informatiques': 0.02702702702702703,\n",
              " 'innovation': 0.02702702702702703,\n",
              " 'instance': 0.02702702702702703,\n",
              " 'instruction': 0.08108108108108109,\n",
              " 'instructions': 0.08108108108108109,\n",
              " 'integer': 0.02702702702702703,\n",
              " 'international': 0.02702702702702703,\n",
              " 'interprète': 0.05405405405405406,\n",
              " 'interpréteur': 0.05405405405405406,\n",
              " 'interprété': 0.02702702702702703,\n",
              " 'interprétés': 0.13513513513513514,\n",
              " 'intrinsèquement': 0.02702702702702703,\n",
              " 'introduit': 0.02702702702702703,\n",
              " 'inutilisable': 0.02702702702702703,\n",
              " 'invente': 0.02702702702702703,\n",
              " 'jacquard': 0.02702702702702703,\n",
              " 'jam': 0.02702702702702703,\n",
              " 'jamais': 0.05405405405405406,\n",
              " 'java': 0.08108108108108109,\n",
              " 'javascript': 0.05405405405405406,\n",
              " \"l'affichage\": 0.02702702702702703,\n",
              " \"l'aide\": 0.02702702702702703,\n",
              " \"l'algorithme\": 0.08108108108108109,\n",
              " \"l'algorithmique\": 0.02702702702702703,\n",
              " \"l'algèbre\": 0.02702702702702703,\n",
              " \"l'allocation\": 0.02702702702702703,\n",
              " \"l'architecture\": 0.02702702702702703,\n",
              " \"l'article\": 0.05405405405405406,\n",
              " \"l'avantage\": 0.02702702702702703,\n",
              " \"l'enregistre\": 0.02702702702702703,\n",
              " \"l'ensemble\": 0.05405405405405406,\n",
              " \"l'exprimer\": 0.02702702702702703,\n",
              " \"l'exécutable\": 0.02702702702702703,\n",
              " \"l'exécution\": 0.05405405405405406,\n",
              " \"l'homme\": 0.02702702702702703,\n",
              " \"l'immense\": 0.02702702702702703,\n",
              " \"l'interaction\": 0.02702702702702703,\n",
              " \"l'interface\": 0.02702702702702703,\n",
              " \"l'interprète\": 0.02702702702702703,\n",
              " \"l'on\": 0.02702702702702703,\n",
              " \"l'opération\": 0.02702702702702703,\n",
              " \"l'ordinateur\": 0.08108108108108109,\n",
              " \"l'une\": 0.02702702702702703,\n",
              " \"l'utilisateur\": 0.08108108108108109,\n",
              " \"l'utilisation\": 0.02702702702702703,\n",
              " \"l'écran\": 0.02702702702702703,\n",
              " \"l'écriture\": 0.10810810810810811,\n",
              " \"l'étape\": 0.02702702702702703,\n",
              " \"l'état\": 0.02702702702702703,\n",
              " 'laborieux': 0.02702702702702703,\n",
              " 'lambda-calcul': 0.02702702702702703,\n",
              " 'lancé': 0.02702702702702703,\n",
              " 'langage': 0.35135135135135137,\n",
              " 'langages': 0.5675675675675675,\n",
              " 'laquelle': 0.02702702702702703,\n",
              " 'lequel': 0.02702702702702703,\n",
              " 'lieu': 0.02702702702702703,\n",
              " 'ligne': 0.02702702702702703,\n",
              " 'lignes': 0.02702702702702703,\n",
              " 'lisp': 0.02702702702702703,\n",
              " 'liste': 0.02702702702702703,\n",
              " 'liées': 0.02702702702702703,\n",
              " 'logiciel': 0.13513513513513514,\n",
              " 'logicielles': 0.02702702702702703,\n",
              " 'logiciels': 0.02702702702702703,\n",
              " 'logique': 0.02702702702702703,\n",
              " 'lua': 0.02702702702702703,\n",
              " 'lui-même': 0.05405405405405406,\n",
              " 'machine': 0.40540540540540543,\n",
              " 'machines': 0.02702702702702703,\n",
              " 'majorité': 0.02702702702702703,\n",
              " 'mal': 0.02702702702702703,\n",
              " 'manière': 0.08108108108108109,\n",
              " 'matériel': 0.05405405405405406,\n",
              " 'message': 0.02702702702702703,\n",
              " 'minimaliste': 0.02702702702702703,\n",
              " 'mobilise': 0.02702702702702703,\n",
              " 'modifie': 0.02702702702702703,\n",
              " 'modifier': 0.02702702702702703,\n",
              " 'moins': 0.05405405405405406,\n",
              " 'moment': 0.02702702702702703,\n",
              " 'morceau': 0.02702702702702703,\n",
              " 'mordus': 0.02702702702702703,\n",
              " 'mot': 0.02702702702702703,\n",
              " 'moteur': 0.02702702702702703,\n",
              " 'motif': 0.02702702702702703,\n",
              " 'mutable': 0.02702702702702703,\n",
              " 'mémoire': 0.02702702702702703,\n",
              " 'méthode': 0.08108108108108109,\n",
              " 'méthodes': 0.02702702702702703,\n",
              " 'métier': 0.08108108108108109,\n",
              " 'mêmes': 0.02702702702702703,\n",
              " \"n'est\": 0.13513513513513514,\n",
              " \"n'importe\": 0.02702702702702703,\n",
              " \"n'ont\": 0.02702702702702703,\n",
              " 'nature': 0.02702702702702703,\n",
              " 'naturellement': 0.02702702702702703,\n",
              " 'nicklaus': 0.02702702702702703,\n",
              " 'niveau': 0.05405405405405406,\n",
              " 'nombre': 0.21621621621621623,\n",
              " 'nombres': 0.13513513513513514,\n",
              " 'nombreux': 0.02702702702702703,\n",
              " 'non': 0.05405405405405406,\n",
              " 'none': 0.02702702702702703,\n",
              " 'norme': 0.02702702702702703,\n",
              " 'noter': 0.08108108108108109,\n",
              " 'notera': 0.02702702702702703,\n",
              " 'notice': 0.02702702702702703,\n",
              " 'notion': 0.05405405405405406,\n",
              " 'nouveaux': 0.02702702702702703,\n",
              " 'numbers': 0.02702702702702703,\n",
              " 'nécessaire': 0.05405405405405406,\n",
              " 'nécessitent': 0.02702702702702703,\n",
              " 'née': 0.02702702702702703,\n",
              " 'objet': 0.21621621621621623,\n",
              " 'objets': 0.05405405405405406,\n",
              " 'obtenu': 0.02702702702702703,\n",
              " 'ocaml': 0.02702702702702703,\n",
              " 'of': 0.02702702702702703,\n",
              " 'offrent': 0.05405405405405406,\n",
              " 'opérateurs': 0.02702702702702703,\n",
              " 'opération': 0.02702702702702703,\n",
              " 'opérations': 0.02702702702702703,\n",
              " 'ordinateurs': 0.05405405405405406,\n",
              " 'organismes': 0.02702702702702703,\n",
              " 'orientée': 0.10810810810810811,\n",
              " 'outils': 0.02702702702702703,\n",
              " 'paradigme': 0.2702702702702703,\n",
              " 'paramètres': 0.05405405405405406,\n",
              " 'parce': 0.02702702702702703,\n",
              " 'parfois': 0.02702702702702703,\n",
              " 'parle': 0.02702702702702703,\n",
              " 'parlera': 0.02702702702702703,\n",
              " 'particulier': 0.05405405405405406,\n",
              " 'partie': 0.02702702702702703,\n",
              " 'partir': 0.08108108108108109,\n",
              " 'passe': 0.02702702702702703,\n",
              " 'passer': 0.02702702702702703,\n",
              " 'perforée': 0.02702702702702703,\n",
              " 'perforées': 0.02702702702702703,\n",
              " 'perforés': 0.02702702702702703,\n",
              " 'perl': 0.02702702702702703,\n",
              " 'permet': 0.05405405405405406,\n",
              " 'permettant': 0.05405405405405406,\n",
              " 'permettent': 0.05405405405405406,\n",
              " 'permettra': 0.02702702702702703,\n",
              " 'personnalisés': 0.02702702702702703,\n",
              " 'peut': 0.24324324324324326,\n",
              " 'peuvent': 0.1891891891891892,\n",
              " 'phase': 0.10810810810810811,\n",
              " 'philosophie': 0.02702702702702703,\n",
              " 'php': 0.02702702702702703,\n",
              " 'physique': 0.02702702702702703,\n",
              " 'plates-formes': 0.02702702702702703,\n",
              " 'plupart': 0.02702702702702703,\n",
              " 'plus': 0.35135135135135137,\n",
              " 'plusieurs': 0.08108108108108109,\n",
              " 'plutôt': 0.05405405405405406,\n",
              " 'poo': 0.02702702702702703,\n",
              " 'portabilité': 0.02702702702702703,\n",
              " 'possibilité': 0.02702702702702703,\n",
              " 'possibilités': 0.02702702702702703,\n",
              " 'possible': 0.08108108108108109,\n",
              " 'pourquoi': 0.02702702702702703,\n",
              " 'premier': 0.05405405405405406,\n",
              " 'premiers': 0.02702702702702703,\n",
              " 'première': 0.02702702702702703,\n",
              " 'presque': 0.05405405405405406,\n",
              " 'principales': 0.02702702702702703,\n",
              " 'principe': 0.02702702702702703,\n",
              " 'principes': 0.02702702702702703,\n",
              " 'prisé': 0.02702702702702703,\n",
              " 'probablement': 0.02702702702702703,\n",
              " 'problème': 0.05405405405405406,\n",
              " 'problèmes': 0.05405405405405406,\n",
              " 'procédurale': 0.05405405405405406,\n",
              " 'procéduraux': 0.02702702702702703,\n",
              " 'procédure': 0.02702702702702703,\n",
              " 'produira': 0.02702702702702703,\n",
              " 'produire': 0.02702702702702703,\n",
              " 'produisait': 0.02702702702702703,\n",
              " 'produits': 0.02702702702702703,\n",
              " 'programmable': 0.08108108108108109,\n",
              " 'programmation': 0.8918918918918919,\n",
              " 'programme': 1.0,\n",
              " 'programmes': 0.35135135135135137,\n",
              " 'programmeur': 0.16216216216216217,\n",
              " 'programmeurs': 0.02702702702702703,\n",
              " 'programmée': 0.02702702702702703,\n",
              " 'progrès': 0.02702702702702703,\n",
              " 'proposent': 0.02702702702702703,\n",
              " 'proprement': 0.02702702702702703,\n",
              " 'propriétés': 0.02702702702702703,\n",
              " 'prototype': 0.08108108108108109,\n",
              " 'prouver': 0.02702702702702703,\n",
              " 'préciser': 0.02702702702702703,\n",
              " 'prédicats': 0.02702702702702703,\n",
              " 'préférant': 0.02702702702702703,\n",
              " 'présent': 0.02702702702702703,\n",
              " 'présente': 0.02702702702702703,\n",
              " 'prêtent': 0.02702702702702703,\n",
              " 'publication': 0.02702702702702703,\n",
              " 'puis': 0.05405405405405406,\n",
              " 'puissance': 0.02702702702702703,\n",
              " 'pures': 0.02702702702702703,\n",
              " 'python': 0.05405405405405406,\n",
              " \"qu'afficher\": 0.02702702702702703,\n",
              " \"qu'il\": 0.13513513513513514,\n",
              " \"qu'ils\": 0.02702702702702703,\n",
              " \"qu'on\": 0.05405405405405406,\n",
              " \"qu'un\": 0.02702702702702703,\n",
              " \"qu'une\": 0.10810810810810811,\n",
              " 'quand': 0.02702702702702703,\n",
              " 'quel': 0.05405405405405406,\n",
              " 'quelle': 0.05405405405405406,\n",
              " 'quotient': 0.02702702702702703,\n",
              " 'rapide': 0.02702702702702703,\n",
              " 'rapidement': 0.02702702702702703,\n",
              " 'rapides': 0.05405405405405406,\n",
              " 'rapport': 0.02702702702702703,\n",
              " 'rares': 0.02702702702702703,\n",
              " 'relationnelle': 0.02702702702702703,\n",
              " 'remarque': 0.02702702702702703,\n",
              " 'rendait': 0.02702702702702703,\n",
              " 'renvoie': 0.05405405405405406,\n",
              " 'représentant': 0.02702702702702703,\n",
              " 'représentation': 0.02702702702702703,\n",
              " 'représente': 0.02702702702702703,\n",
              " 'représentes': 0.02702702702702703,\n",
              " 'requête': 0.05405405405405406,\n",
              " 'ressources': 0.02702702702702703,\n",
              " 'retenus': 0.02702702702702703,\n",
              " 'retrouve': 0.02702702702702703,\n",
              " 'revanche': 0.02702702702702703,\n",
              " 'routine': 0.02702702702702703,\n",
              " 'ruby': 0.02702702702702703,\n",
              " 'règles': 0.02702702702702703,\n",
              " 'réalisation': 0.02702702702702703,\n",
              " 'réaliser': 0.05405405405405406,\n",
              " 'réalisé': 0.02702702702702703,\n",
              " 'réalisés': 0.02702702702702703,\n",
              " 'rédaction': 0.02702702702702703,\n",
              " 'rédiger': 0.02702702702702703,\n",
              " 'réelle': 0.05405405405405406,\n",
              " 'répandu': 0.05405405405405406,\n",
              " 'résoudre': 0.02702702702702703,\n",
              " 'résultat': 0.1891891891891892,\n",
              " 'résultats': 0.02702702702702703,\n",
              " \"s'exécutent\": 0.02702702702702703,\n",
              " \"s'exécuter\": 0.05405405405405406,\n",
              " \"s'y\": 0.02702702702702703,\n",
              " 'sans': 0.05405405405405406,\n",
              " 'scala': 0.02702702702702703,\n",
              " 'science': 0.02702702702702703,\n",
              " 'self': 0.02702702702702703,\n",
              " 'selon': 0.02702702702702703,\n",
              " 'sens': 0.02702702702702703,\n",
              " 'seule': 0.02702702702702703,\n",
              " 'si': 0.08108108108108109,\n",
              " 'signifie': 0.02702702702702703,\n",
              " 'simple': 0.05405405405405406,\n",
              " 'simplement': 0.08108108108108109,\n",
              " 'simples': 0.05405405405405406,\n",
              " 'simplifié': 0.02702702702702703,\n",
              " 'simulant': 0.02702702702702703,\n",
              " 'solution': 0.05405405405405406,\n",
              " 'solutions': 0.02702702702702703,\n",
              " 'sorte': 0.02702702702702703,\n",
              " 'sortie': 0.05405405405405406,\n",
              " 'souder': 0.02702702702702703,\n",
              " 'souhaite': 0.02702702702702703,\n",
              " 'source': 0.2702702702702703,\n",
              " 'sous': 0.10810810810810811,\n",
              " 'sous-ensemble': 0.05405405405405406,\n",
              " 'souvent': 0.02702702702702703,\n",
              " 'spéciale': 0.02702702702702703,\n",
              " 'spécification': 0.02702702702702703,\n",
              " 'spécifique': 0.02702702702702703,\n",
              " 'sql': 0.02702702702702703,\n",
              " 'statique': 0.02702702702702703,\n",
              " 'structurer': 0.02702702702702703,\n",
              " 'structurée': 0.05405405405405406,\n",
              " 'style': 0.05405405405405406,\n",
              " 'suit': 0.02702702702702703,\n",
              " 'suite': 0.13513513513513514,\n",
              " 'suites': 0.02702702702702703,\n",
              " 'suivait': 0.02702702702702703,\n",
              " 'suivant': 0.05405405405405406,\n",
              " 'suivante': 0.02702702702702703,\n",
              " 'sujet': 0.02702702702702703,\n",
              " 'supports': 0.02702702702702703,\n",
              " 'supprimer': 0.05405405405405406,\n",
              " 'surtout': 0.02702702702702703,\n",
              " 'syntaxe': 0.02702702702702703,\n",
              " 'système': 0.02702702702702703,\n",
              " 'systématiquement': 0.02702702702702703,\n",
              " 'sémantique': 0.02702702702702703,\n",
              " 'tableaux': 0.02702702702702703,\n",
              " 'tape': 0.05405405405405406,\n",
              " 'tard': 0.02702702702702703,\n",
              " 'tel': 0.02702702702702703,\n",
              " 'telle': 0.08108108108108109,\n",
              " 'temps': 0.05405405405405406,\n",
              " 'temps-mémoire': 0.02702702702702703,\n",
              " 'terme': 0.02702702702702703,\n",
              " 'termes': 0.02702702702702703,\n",
              " 'test': 0.02702702702702703,\n",
              " 'tester': 0.05405405405405406,\n",
              " 'texte': 0.08108108108108109,\n",
              " 'the': 0.05405405405405406,\n",
              " 'tissage': 0.02702702702702703,\n",
              " 'tissages': 0.02702702702702703,\n",
              " 'tisser': 0.02702702702702703,\n",
              " 'to': 0.02702702702702703,\n",
              " 'toujours': 0.05405405405405406,\n",
              " 'tourner': 0.05405405405405406,\n",
              " 'tous': 0.02702702702702703,\n",
              " 'tout': 0.13513513513513514,\n",
              " 'toute': 0.02702702702702703,\n",
              " 'toutefois': 0.02702702702702703,\n",
              " 'tradition': 0.02702702702702703,\n",
              " 'traditionnellement': 0.02702702702702703,\n",
              " 'traduction': 0.02702702702702703,\n",
              " 'traite': 0.02702702702702703,\n",
              " 'traiter': 0.02702702702702703,\n",
              " 'traitées': 0.02702702702702703,\n",
              " 'transformer': 0.05405405405405406,\n",
              " 'transistors': 0.02702702702702703,\n",
              " 'travaux': 0.02702702702702703,\n",
              " 'trous': 0.02702702702702703,\n",
              " 'trouvera': 0.02702702702702703,\n",
              " 'très': 0.21621621621621623,\n",
              " 'tubes': 0.02702702702702703,\n",
              " 'turing': 0.05405405405405406,\n",
              " 'type': 0.05405405405405406,\n",
              " 'types': 0.08108108108108109,\n",
              " 'typique': 0.02702702702702703,\n",
              " 'tâche': 0.05405405405405406,\n",
              " 'tâches': 0.02702702702702703,\n",
              " 'téléphones': 0.02702702702702703,\n",
              " 'u': 0.05405405405405406,\n",
              " 'unes': 0.02702702702702703,\n",
              " 'unique': 0.02702702702702703,\n",
              " 'universel': 0.02702702702702703,\n",
              " 'utilisa': 0.02702702702702703,\n",
              " 'utilisable': 0.02702702702702703,\n",
              " 'utilisait': 0.02702702702702703,\n",
              " 'utilisant': 0.05405405405405406,\n",
              " 'utilisateurs': 0.02702702702702703,\n",
              " 'utilise': 0.02702702702702703,\n",
              " 'utiliser': 0.05405405405405406,\n",
              " 'utilisé': 0.02702702702702703,\n",
              " 'utilisées': 0.02702702702702703,\n",
              " 'utilisés': 0.02702702702702703,\n",
              " 'v': 0.05405405405405406,\n",
              " 'va': 0.08108108108108109,\n",
              " 'valeur': 0.02702702702702703,\n",
              " 'valeurs': 0.02702702702702703,\n",
              " 'variable': 0.02702702702702703,\n",
              " 'variables': 0.08108108108108109,\n",
              " 'vide': 0.02702702702702703,\n",
              " 'virgule': 0.10810810810810811,\n",
              " 'virgules': 0.02702702702702703,\n",
              " 'virtuelle': 0.05405405405405406,\n",
              " 'visant': 0.02702702702702703,\n",
              " 'voir': 0.02702702702702703,\n",
              " 'voire': 0.02702702702702703,\n",
              " 'vont': 0.02702702702702703,\n",
              " 'vérification': 0.02702702702702703,\n",
              " 'vérifier': 0.05405405405405406,\n",
              " 'w': 0.02702702702702703,\n",
              " 'wirth': 0.02702702702702703,\n",
              " 'with': 0.02702702702702703,\n",
              " 'world': 0.05405405405405406,\n",
              " '«': 0.08108108108108109,\n",
              " '»': 0.08108108108108109,\n",
              " 'écrire': 0.02702702702702703,\n",
              " 'écrit': 0.10810810810810811,\n",
              " 'écrits': 0.05405405405405406,\n",
              " 'également': 0.05405405405405406,\n",
              " 'électroniques': 0.02702702702702703,\n",
              " 'éléments': 0.02702702702702703,\n",
              " 'étape': 0.05405405405405406,\n",
              " 'étapes': 0.02702702702702703,\n",
              " 'état': 0.05405405405405406,\n",
              " 'évaluée': 0.02702702702702703,\n",
              " 'être': 0.32432432432432434,\n",
              " 'ôter': 0.02702702702702703,\n",
              " '’': 0.6216216216216216,\n",
              " '•': 0.10810810810810811}"
            ]
          },
          "metadata": {},
          "execution_count": 35
        }
      ]
    },
    {
      "cell_type": "code",
      "source": [
        "liste_phrase = nltk.sent_tokenize(art_cleaned)\n",
        "liste_phrase"
      ],
      "metadata": {
        "colab": {
          "base_uri": "https://localhost:8080/"
        },
        "id": "ntm46FWuJaof",
        "outputId": "e9ec9736-0634-417b-8b59-ee0c0f601089"
      },
      "execution_count": 34,
      "outputs": [
        {
          "output_type": "execute_result",
          "data": {
            "text/plain": [
              "[\"La programmation, appelée aussi codage dans le domaine informatique[1], désigne l'ensemble des activités qui permettent l'écriture des programmes informatiques.\",\n",
              " \"C'est une étape importante du développement de logiciels (voire de matériel).\",\n",
              " \"L'écriture d'un programme se fait dans un langage de programmation.\",\n",
              " 'Un logiciel est un ensemble de programmes (qui peuvent être écrits dans des langages de programmation différents) dédié à la réalisation de certaines tâches par un (ou plusieurs) utilisateurs du logiciel.',\n",
              " \"La programmation représente donc ici la rédaction du code source d'un logiciel.\",\n",
              " \"On utilise plutôt le terme développement pour dénoter l'ensemble des activités liées à la création d'un logiciel et des programmes qui le composent.\",\n",
              " \"Cela inclut la spécification du logiciel, sa conception, puis son implémentation proprement dite au sens de l'écriture des programmes dans un langage de programmation bien défini, ainsi que la vérification de sa correction, etc.\",\n",
              " 'La première machine programmable (c’est-à-dire machine dont les possibilités changent quand on modifie son programme) est probablement le métier à tisser de Jacquard, qui a été réalisé en 1801.',\n",
              " 'La machine utilisait une suite de cartons perforés.',\n",
              " 'Les trous indiquaient le motif que le métier suivait pour réaliser un tissage ; avec des cartes différentes le métier produisait des tissages différents[2].',\n",
              " \"Cette innovation a été ensuite améliorée par Herman Hollerith d'IBM pour le développement de la fameuse carte perforée d'IBM[3].\",\n",
              " \"En 1936, la publication de l'article fondateur de la science informatique On Computable Numbers with an Application to the Entscheidungsproblem[4] par Alan Turing allait donner le coup d'envoi à la création de l'ordinateur programmable.\",\n",
              " 'Il y présente sa machine de Turing, le premier calculateur universel programmable, et invente les concepts et les termes de programmation et de programme.',\n",
              " \"Les premiers programmes d'ordinateur étaient réalisés avec un fer à souder et un grand nombre de tubes à vide (plus tard, des transistors).\",\n",
              " \"Les programmes devenant plus complexes, cela est devenu presque impossible, parce qu'une seule erreur rendait le programme entier inutilisable.\",\n",
              " \"Avec les progrès des supports de données, il devint possible de charger le programme à partir de cartes perforées, contenant la liste des instructions en code binaire spécifique à un type d'ordinateur particulier.\",\n",
              " \"La puissance des ordinateurs augmentant, on les utilisa pour faire les programmes, les programmeurs préférant naturellement rédiger du texte plutôt que des suites de 0 et de 1, à charge pour l'ordinateur d'en faire la traduction lui-même.\",\n",
              " 'Avec le temps, de nouveaux langages de programmation sont apparus, faisant de plus en plus abstraction du matériel sur lequel devraient tourner les programmes.',\n",
              " 'Ceci apporte plusieurs facteurs de gain : ces langages sont plus faciles à apprendre, un programmeur peut produire du code plus rapidement, et les programmes produits peuvent tourner sur différents types de machines.',\n",
              " \"• C#, C ou C++\\n\\nL'immense majorité des programmes qui s'exécutent sur nos ordinateurs, téléphones et autres outils électroniques sont écrits dans des langages de programmation dits impératifs : les lignes du programme sont exécutées les unes après les autres.\",\n",
              " \"Chaque ligne du programme effectue soit une opération simple, soit exécute une fonction qui est elle-même une suite d'opérations simples.\",\n",
              " 'Le programme « Hello World!',\n",
              " '» est par tradition le premier programme écrit par tout programmeur, censé illustrer la syntaxe du langage de programmation.',\n",
              " 'Le programme a pour unique fonction d\\'afficher le texte \"Hello World!\"',\n",
              " \"dans la console ou dans une fenêtre de l'interface graphique.\",\n",
              " \"Le programme suivant écrit en langage simplifié et avec des commentaires, demande simplement à l'utilisateur d'entrer au clavier deux nombres entiers, et affiche leur quotient.\",\n",
              " \"// fonction 'main' : c'est toujours ici qu'un programme commence // 'int' signifie integer : nombre entier en anglais // on déclare deux variables A et B qui sont des nombres entiers // on attend que l'utilisateur tape un entier au clavier, // et on l'enregistre dans A // puis on fait la même chose pour B // on exécute la fonction 'CalculerDivision' // que l'on a programmée ci-dessous, // et on enregistre le résultat dans C qui est un 'float' : un nombre à virgule // U et V sont les paramètres de notre fonction 'CalculerDivision' : ce sont des nombres à virgules (float).\",\n",
              " \"// et celle-ci renvoie un 'float' : un nombre à virgule flottante // dans la fonction 'main', A et B étaient des nombres entiers, // U et V sont des copies des valeurs de A et B, // et qui ont été converties en nombres à virgule (22 deviendrait simplement 22.0000000) // on effectue la division /// on renvoie le résultat\\n\\nDans ce programme, les principales fonctionnalités de la programmation impérative sont utilisées : des variables de type nombre entier, nombre à virgule, chaîne de caractère, fonction calculant un résultat à partir de paramètres, fonction effectuant une tâche telle qu'afficher un message à l'écran, instruction permettant d'exécuter un code ou un autre en fonction de la valeur de telle ou telle variable.\",\n",
              " \"Dans un programme informatique typique, on trouvera suivant les langages des boucles ou qui permettent d'exécuter un morceau de code en boucle ou simplement un certain nombre de fois, des pour l'allocation dynamique de données (par exemple des tableaux), et très souvent des éléments de programmation objet permettant de structurer différemment le code et de créer des types de données personnalisés, ou encore des exceptions pour gérer certains cas d'erreurs plus facilement.\",\n",
              " \"On remarque que pour effectuer une tâche très simple, le code informatique peut être très laborieux, et encore ici on ne traite pas les erreurs (si l'utilisateur tape un mot au lieu d'un nombre), et l'affichage est minimaliste.\",\n",
              " \"C'est pourquoi les langages de programmation n'ont jamais cessé d'évoluer, dans le but d'aider le programmeur qui souhaite réaliser des programmes rapides à s'exécuter, sans dysfonctionnements, et surtout simples à écrire, du moins le plus possible.\",\n",
              " 'La phase de conception définit le but du programme.',\n",
              " \"Si on fait une rapide analyse fonctionnelle d'un programme, on détermine essentiellement les données qu'il va traiter (données d'entrée), la méthode employée (appelée l'algorithme), et le résultat (données de sortie).\",\n",
              " \"Les données d'entrée et de sortie peuvent être de nature très diverse.\",\n",
              " \"On peut décrire la méthode employée pour accomplir le but d'un programme à l'aide d'un algorithme.\",\n",
              " \"La programmation procédurale et fonctionnelle est basée sur l'algorithmique.\",\n",
              " 'On retrouve en général les mêmes fonctionnalités de base.',\n",
              " \"Une fois l'algorithme défini, l'étape suivante est de coder le programme.\",\n",
              " \"Le codage dépend de l'architecture sur laquelle va s'exécuter le programme, de compromis temps-mémoire, et d'autres contraintes.\",\n",
              " \"Ces contraintes vont déterminer quel langage de programmation utiliser pour « convertir » l'algorithme en code source.\",\n",
              " \"Le code source n'est (presque) jamais utilisable tel quel.\",\n",
              " 'Il est généralement écrit dans un langage \"de haut niveau\", compréhensible pour l\\'homme, mais pas pour la machine.',\n",
              " \"Certains langages sont ce qu'on appelle des langages compilés.\",\n",
              " \"En toute généralité, la compilation est l'opération qui consiste à transformer un langage source en un langage cible.\",\n",
              " \"Dans le cas d'un programme, le compilateur va transformer tout le texte représentant le code source du programme, en code compréhensible pour la machine, appelé code machine.\",\n",
              " 'Dans le cas de langages dits compilés, ce qui est exécuté est le résultat de la compilation.',\n",
              " \"Une fois effectuée, l'exécutable obtenu peut être utilisé sans le code source.\",\n",
              " \"Il faut également noter que le résultat de la compilation n'est pas forcément du code machine correspondant à la machine réelle, mais peut être du code compris par une machine virtuelle (c'est-à-dire un programme simulant une machine), auquel cas on parlera de bytecode.\",\n",
              " \"C'est par exemple le cas en Java.\",\n",
              " \"L'avantage est que, de cette façon, un programme peut fonctionner sur n'importe quelle machine réelle, du moment que la machine virtuelle existe pour celle-ci.\",\n",
              " \"Dans le cas d'une requête SQL, la requête est compilée en une expression utilisant les opérateurs de l'algèbre relationnelle.\",\n",
              " \"C'est cette expression qui est évaluée par le système de gestion de bases de données.\",\n",
              " \"D'autres langages ne nécessitent pas de phase spéciale de compilation.\",\n",
              " 'La méthode employée pour exécuter le programme est alors différente.',\n",
              " 'La phase de compilation est la plupart du temps incluse dans celle d’exécution.',\n",
              " \"On dit de ce programme qu'il interprète le code source.\",\n",
              " 'Par exemple, Python ou Perl sont des langages interprétés.',\n",
              " \"Les avantages généralement retenus pour l'utilisation de langages « compilés », est qu'ils sont plus rapides à l'exécution que des langages interprétés, car l'interprète doit être lancé à chaque exécution du programme, ce qui mobilise systématiquement les ressources.\",\n",
              " \"Traditionnellement, les langages interprétés offrent en revanche une certaine portabilité (la capacité à utiliser le code source sur différentes plates-formes), ainsi qu'une facilité pour l'écriture du code.\",\n",
              " \"En effet, il n'est pas nécessaire de passer par la phase de compilation pour tester le code source.\",\n",
              " \"Il n'est pas non plus nécessaire de disposer d'un autre programme (debugger) afin d’ôter les bugs du programme, c'est l’interpréteur qui permet d'afficher directement le contenu des variables du programme.\",\n",
              " \"Il faut noter qu'on parle abusivement de langages compilés ou interprétés.\",\n",
              " \"En effet, le caractère compilé ou interprété ne dépend pas du langage, qui n'est finalement qu'une grammaire et une certaine sémantique.\",\n",
              " \"D'ailleurs, certains langages peuvent être utilisés interprétés ou compilés.\",\n",
              " \"Par exemple, il est très courant d'utiliser Ruby avec un interprète, mais il existe également des compilateurs pour ce langage[5].\",\n",
              " \"On notera toutefois, qu'il peut être important de préciser comment le code source est exécuté.\",\n",
              " \"En effet, rares sont les organismes qui proposent à la fois un compilateur et un interpréteur, les résultats du programme peuvent différer à l'exécution, même si la norme du langage est clairement définie.\",\n",
              " \"C'est l'une des étapes les plus importantes de la création d'un programme.\",\n",
              " \"En principe, tout programmeur se doit de vérifier chaque partie d'un programme, de le tester.\",\n",
              " 'Il existe différents types de test.',\n",
              " \"On peut citer en particulier :\\n\\nIl convient de noter qu'il est parfois possible de vérifier un programme informatique, c'est-à-dire prouver, de manière plus ou moins automatique, qu'il assure certaines propriétés.\",\n",
              " 'Un paradigme est un style fondamental de programmation, définissant la manière dont les programmes doivent être formulés.',\n",
              " 'Un paradigme est la façon dont sont traitées les solutions aux problèmes et un style fondamental de programmation, définissant la manière dont les programmes doivent être formulés.',\n",
              " \"Chaque paradigme amène sa philosophie de la programmation ; une fois qu'une solution a été imaginée par un programmeur selon un certain paradigme, un langage de programmation qui suit ce paradigme permettra de l'exprimer.\",\n",
              " \"Le paradigme impératif est le plus répandu, les opérations sont une suite d’instructions exécutées par l'ordinateur pour modifier l'état du programme.\",\n",
              " 'La programmation procédurale est un sous-ensemble de la programmation impérative.',\n",
              " 'Elle introduit la notion de routine ou fonction qui est une sorte de factorisation de code, chaque procédure peut être appelée à n’importe quelle étape du programme.',\n",
              " 'Ce paradigme permet aussi de supprimer les instructions goto[6],[7],[8]\\n\\nCe paradigme est très répandu, il est présent dans des langages comme le C, le COBOL ou le FORTRAN.',\n",
              " 'Apparu dans les années 70, la programmation structurée est un sous-ensemble de la programmation impérative.',\n",
              " \"Elle née avec les travaux de Nicklaus Wirth pour son Algol W et l'article fondateur de Dijkstra dans Communications of the ACM, visant à supprimer l’instruction goto.\",\n",
              " \"Tous les langages procéduraux peuvent faire de la programmation structurée, mais certains comme le FORTRAN s'y prêtent très mal.\",\n",
              " 'En programmation déclarative, le programme est indépendant de l’état de la machine, il s’affranchit donc de tout effet de bord et un appel à une même fonction produira toujours le même résultat.',\n",
              " 'Le programme s’écrit non pas comme une suite d’instruction pour résoudre un problème mais (contrairement à la programmation impérative) comme la solution au problème.',\n",
              " 'La programmation fonctionnelle se base sur plusieurs principes comme : l’immutabilité, les fonctions pures (qui ne dépendent pas de l’état de la machine) et les lambda-calcul.',\n",
              " 'Aujourd’hui, nombreux sont les langages qui offrent une approche fonctionnelle au programmeur.',\n",
              " 'Certains comme LISP ou Scala sont intrinsèquement fonctionnels.',\n",
              " 'D’autres comme JavaScript, Java ou PHP ont ajouté cette possibilité par la suite.',\n",
              " \"La programmation logique consiste à exprimer les problèmes et les algorithmes sous forme de prédicats à l’aide d'une base de faits, d'une base de règles et d'un moteur d'inférence.\",\n",
              " \"La programmation orientée objet (abrégé POO) consiste en la définition et l'interaction de briques logicielles appelées objets ; ces objets représentes un concept, une idée.\",\n",
              " 'Chaque objet contient des attributs et des méthodes en rapport avec un sujet.',\n",
              " 'La programmation orientée prototype est un sous ensemble de la programmation orientée objet.',\n",
              " 'Dans ce paradigme, chaque objet est créé à partir d’un prototype qui est lui-même un objet.',\n",
              " 'Le prototype a donc une existence physique en mémoire et est mutable contrairement aux classes.',\n",
              " 'Le JavaScript, le Lua ou le Self sont des exemples de langages utilisant ce paradigme.',\n",
              " 'La programmation orientée classe est basée sur la notion de classes.',\n",
              " 'Une classe est statique, c’est la représentation abstraite de l’objet, c’est à ce niveau que se passe l’héritage.',\n",
              " 'Tout objet est donc l’instance d’une classe.',\n",
              " 'Les langages à classes peuvent être sous forme fonctionnelle (CLOS) comme sous forme impérative (C++, Java), voir les deux (Python, OCaml).',\n",
              " \"• Forme de Backus-Naur (BNF), une grammaire de description de langage\\n• Google Code Jam, un concours international annuel de programmation très prisé des mordus d'algorithmique et de programmation\\n• None Notice dans un dictionnaire ou une encyclopédie généraliste :\"]"
            ]
          },
          "metadata": {},
          "execution_count": 34
        }
      ]
    },
    {
      "cell_type": "code",
      "source": [
        "def noter_les_phrases(liste_phrase, freq_prop_mots):\n",
        "  nota_sentencas = {}\n",
        "  for sentenca in liste_phrase:\n",
        "    #print(sentenca)\n",
        "    for palavra in nltk.word_tokenize(sentenca.lower()):\n",
        "      #print(palavra)\n",
        "      if palavra in freq_prop_mots.keys():\n",
        "        if sentenca not in nota_sentencas.keys():\n",
        "          nota_sentencas[sentenca] = freq_prop_mots[palavra]\n",
        "        else:\n",
        "          nota_sentencas[sentenca] += freq_prop_mots[palavra]\n",
        "\n",
        "  return nota_sentencas"
      ],
      "metadata": {
        "id": "jR_zWnTcILpD"
      },
      "execution_count": 33,
      "outputs": []
    },
    {
      "cell_type": "code",
      "source": [
        "nota_sentencas = noter_les_phrases(liste_phrase, freq_prop_mots)\n",
        "nota_sentencas"
      ],
      "metadata": {
        "colab": {
          "base_uri": "https://localhost:8080/"
        },
        "id": "3u7PNTchI5dM",
        "outputId": "86278bcc-8ba2-423c-8200-0bbf1a57a87e"
      },
      "execution_count": 37,
      "outputs": [
        {
          "output_type": "execute_result",
          "data": {
            "text/plain": [
              "{\"// et celle-ci renvoie un 'float' : un nombre à virgule flottante // dans la fonction 'main', A et B étaient des nombres entiers, // U et V sont des copies des valeurs de A et B, // et qui ont été converties en nombres à virgule (22 deviendrait simplement 22.0000000) // on effectue la division /// on renvoie le résultat\\n\\nDans ce programme, les principales fonctionnalités de la programmation impérative sont utilisées : des variables de type nombre entier, nombre à virgule, chaîne de caractère, fonction calculant un résultat à partir de paramètres, fonction effectuant une tâche telle qu'afficher un message à l'écran, instruction permettant d'exécuter un code ou un autre en fonction de la valeur de telle ou telle variable.\": 10.351351351351347,\n",
              " \"// fonction 'main' : c'est toujours ici qu'un programme commence // 'int' signifie integer : nombre entier en anglais // on déclare deux variables A et B qui sont des nombres entiers // on attend que l'utilisateur tape un entier au clavier, // et on l'enregistre dans A // puis on fait la même chose pour B // on exécute la fonction 'CalculerDivision' // que l'on a programmée ci-dessous, // et on enregistre le résultat dans C qui est un 'float' : un nombre à virgule // U et V sont les paramètres de notre fonction 'CalculerDivision' : ce sont des nombres à virgules (float).\": 9.945945945945946,\n",
              " 'Apparu dans les années 70, la programmation structurée est un sous-ensemble de la programmation impérative.': 2.1081081081081083,\n",
              " 'Aujourd’hui, nombreux sont les langages qui offrent une approche fonctionnelle au programmeur.': 1.6486486486486482,\n",
              " 'Avec le temps, de nouveaux langages de programmation sont apparus, faisant de plus en plus abstraction du matériel sur lequel devraient tourner les programmes.': 2.837837837837838,\n",
              " \"Avec les progrès des supports de données, il devint possible de charger le programme à partir de cartes perforées, contenant la liste des instructions en code binaire spécifique à un type d'ordinateur particulier.\": 2.5135135135135136,\n",
              " \"C'est cette expression qui est évaluée par le système de gestion de bases de données.\": 0.6756756756756757,\n",
              " \"C'est l'une des étapes les plus importantes de la création d'un programme.\": 2.027027027027027,\n",
              " \"C'est par exemple le cas en Java.\": 0.5405405405405406,\n",
              " \"C'est pourquoi les langages de programmation n'ont jamais cessé d'évoluer, dans le but d'aider le programmeur qui souhaite réaliser des programmes rapides à s'exécuter, sans dysfonctionnements, et surtout simples à écrire, du moins le plus possible.\": 3.297297297297297,\n",
              " \"C'est une étape importante du développement de logiciels (voire de matériel).\": 0.4594594594594595,\n",
              " 'Ce paradigme permet aussi de supprimer les instructions goto[6],[7],[8]\\n\\nCe paradigme est très répandu, il est présent dans des langages comme le C, le COBOL ou le FORTRAN.': 2.0810810810810807,\n",
              " 'Ceci apporte plusieurs facteurs de gain : ces langages sont plus faciles à apprendre, un programmeur peut produire du code plus rapidement, et les programmes produits peuvent tourner sur différents types de machines.': 3.4054054054054057,\n",
              " \"Cela inclut la spécification du logiciel, sa conception, puis son implémentation proprement dite au sens de l'écriture des programmes dans un langage de programmation bien défini, ainsi que la vérification de sa correction, etc.\": 2.378378378378379,\n",
              " 'Certains comme LISP ou Scala sont intrinsèquement fonctionnels.': 0.4594594594594595,\n",
              " \"Certains langages sont ce qu'on appelle des langages compilés.\": 1.4864864864864864,\n",
              " \"Ces contraintes vont déterminer quel langage de programmation utiliser pour « convertir » l'algorithme en code source.\": 2.5945945945945947,\n",
              " \"Cette innovation a été ensuite améliorée par Herman Hollerith d'IBM pour le développement de la fameuse carte perforée d'IBM[3].\": 0.8108108108108107,\n",
              " \"Chaque ligne du programme effectue soit une opération simple, soit exécute une fonction qui est elle-même une suite d'opérations simples.\": 1.9459459459459456,\n",
              " 'Chaque objet contient des attributs et des méthodes en rapport avec un sujet.': 0.5405405405405406,\n",
              " \"Chaque paradigme amène sa philosophie de la programmation ; une fois qu'une solution a été imaginée par un programmeur selon un certain paradigme, un langage de programmation qui suit ce paradigme permettra de l'exprimer.\": 4.108108108108108,\n",
              " \"D'ailleurs, certains langages peuvent être utilisés interprétés ou compilés.\": 1.5405405405405403,\n",
              " \"D'autres langages ne nécessitent pas de phase spéciale de compilation.\": 0.9459459459459459,\n",
              " 'Dans ce paradigme, chaque objet est créé à partir d’un prototype qui est lui-même un objet.': 1.7567567567567566,\n",
              " \"Dans le cas d'un programme, le compilateur va transformer tout le texte représentant le code source du programme, en code compréhensible pour la machine, appelé code machine.\": 5.864864864864865,\n",
              " \"Dans le cas d'une requête SQL, la requête est compilée en une expression utilisant les opérateurs de l'algèbre relationnelle.\": 0.5945945945945945,\n",
              " 'Dans le cas de langages dits compilés, ce qui est exécuté est le résultat de la compilation.': 1.3243243243243241,\n",
              " \"Dans un programme informatique typique, on trouvera suivant les langages des boucles ou qui permettent d'exécuter un morceau de code en boucle ou simplement un certain nombre de fois, des pour l'allocation dynamique de données (par exemple des tableaux), et très souvent des éléments de programmation objet permettant de structurer différemment le code et de créer des types de données personnalisés, ou encore des exceptions pour gérer certains cas d'erreurs plus facilement.\": 6.7297297297297325,\n",
              " 'D’autres comme JavaScript, Java ou PHP ont ajouté cette possibilité par la suite.': 1.378378378378378,\n",
              " 'Elle introduit la notion de routine ou fonction qui est une sorte de factorisation de code, chaque procédure peut être appelée à n’importe quelle étape du programme.': 3.675675675675676,\n",
              " \"Elle née avec les travaux de Nicklaus Wirth pour son Algol W et l'article fondateur de Dijkstra dans Communications of the ACM, visant à supprimer l’instruction goto.\": 1.2702702702702702,\n",
              " \"En 1936, la publication de l'article fondateur de la science informatique On Computable Numbers with an Application to the Entscheidungsproblem[4] par Alan Turing allait donner le coup d'envoi à la création de l'ordinateur programmable.\": 1.027027027027027,\n",
              " \"En effet, il n'est pas nécessaire de passer par la phase de compilation pour tester le code source.\": 1.5135135135135136,\n",
              " \"En effet, le caractère compilé ou interprété ne dépend pas du langage, qui n'est finalement qu'une grammaire et une certaine sémantique.\": 1.027027027027027,\n",
              " \"En effet, rares sont les organismes qui proposent à la fois un compilateur et un interpréteur, les résultats du programme peuvent différer à l'exécution, même si la norme du langage est clairement définie.\": 2.243243243243244,\n",
              " \"En principe, tout programmeur se doit de vérifier chaque partie d'un programme, de le tester.\": 2.027027027027027,\n",
              " 'En programmation déclarative, le programme est indépendant de l’état de la machine, il s’affranchit donc de tout effet de bord et un appel à une même fonction produira toujours le même résultat.': 4.648648648648649,\n",
              " \"En toute généralité, la compilation est l'opération qui consiste à transformer un langage source en un langage cible.\": 1.3783783783783783,\n",
              " 'Il est généralement écrit dans un langage \"de haut niveau\", compréhensible pour l\\'homme, mais pas pour la machine.': 1.1891891891891895,\n",
              " 'Il existe différents types de test.': 0.2972972972972973,\n",
              " \"Il faut noter qu'on parle abusivement de langages compilés ou interprétés.\": 1.081081081081081,\n",
              " \"Il faut également noter que le résultat de la compilation n'est pas forcément du code machine correspondant à la machine réelle, mais peut être du code compris par une machine virtuelle (c'est-à-dire un programme simulant une machine), auquel cas on parlera de bytecode.\": 5.567567567567568,\n",
              " \"Il n'est pas non plus nécessaire de disposer d'un autre programme (debugger) afin d’ôter les bugs du programme, c'est l’interpréteur qui permet d'afficher directement le contenu des variables du programme.\": 5.8378378378378395,\n",
              " 'Il y présente sa machine de Turing, le premier calculateur universel programmable, et invente les concepts et les termes de programmation et de programme.': 2.6486486486486482,\n",
              " \"L'avantage est que, de cette façon, un programme peut fonctionner sur n'importe quelle machine réelle, du moment que la machine virtuelle existe pour celle-ci.\": 2.6216216216216215,\n",
              " \"L'écriture d'un programme se fait dans un langage de programmation.\": 2.756756756756757,\n",
              " 'La machine utilisait une suite de cartons perforés.': 0.6216216216216215,\n",
              " 'La méthode employée pour exécuter le programme est alors différente.': 1.2432432432432432,\n",
              " 'La phase de compilation est la plupart du temps incluse dans celle d’exécution.': 1.0810810810810811,\n",
              " 'La phase de conception définit le but du programme.': 1.2702702702702702,\n",
              " 'La première machine programmable (c’est-à-dire machine dont les possibilités changent quand on modifie son programme) est probablement le métier à tisser de Jacquard, qui a été réalisé en 1801.': 3.2432432432432434,\n",
              " 'La programmation fonctionnelle se base sur plusieurs principes comme : l’immutabilité, les fonctions pures (qui ne dépendent pas de l’état de la machine) et les lambda-calcul.': 3.297297297297298,\n",
              " \"La programmation logique consiste à exprimer les problèmes et les algorithmes sous forme de prédicats à l’aide d'une base de faits, d'une base de règles et d'un moteur d'inférence.\": 2.8108108108108114,\n",
              " 'La programmation orientée classe est basée sur la notion de classes.': 1.2702702702702702,\n",
              " \"La programmation orientée objet (abrégé POO) consiste en la définition et l'interaction de briques logicielles appelées objets ; ces objets représentes un concept, une idée.\": 1.6756756756756752,\n",
              " 'La programmation orientée prototype est un sous ensemble de la programmation orientée objet.': 2.459459459459459,\n",
              " 'La programmation procédurale est un sous-ensemble de la programmation impérative.': 2.027027027027027,\n",
              " \"La programmation procédurale et fonctionnelle est basée sur l'algorithmique.\": 1.162162162162162,\n",
              " \"La programmation représente donc ici la rédaction du code source d'un logiciel.\": 2.4594594594594597,\n",
              " \"La programmation, appelée aussi codage dans le domaine informatique[1], désigne l'ensemble des activités qui permettent l'écriture des programmes informatiques.\": 1.9729729729729728,\n",
              " \"La puissance des ordinateurs augmentant, on les utilisa pour faire les programmes, les programmeurs préférant naturellement rédiger du texte plutôt que des suites de 0 et de 1, à charge pour l'ordinateur d'en faire la traduction lui-même.\": 1.2162162162162162,\n",
              " 'Le JavaScript, le Lua ou le Self sont des exemples de langages utilisant ce paradigme.': 1.027027027027027,\n",
              " \"Le codage dépend de l'architecture sur laquelle va s'exécuter le programme, de compromis temps-mémoire, et d'autres contraintes.\": 1.4594594594594592,\n",
              " \"Le code source n'est (presque) jamais utilisable tel quel.\": 1.2162162162162158,\n",
              " \"Le paradigme impératif est le plus répandu, les opérations sont une suite d’instructions exécutées par l'ordinateur pour modifier l'état du programme.\": 2.7567567567567566,\n",
              " 'Le programme a pour unique fonction d\\'afficher le texte \"Hello World!\"': 1.9459459459459456,\n",
              " \"Le programme suivant écrit en langage simplifié et avec des commentaires, demande simplement à l'utilisateur d'entrer au clavier deux nombres entiers, et affiche leur quotient.\": 2.1891891891891895,\n",
              " 'Le programme s’écrit non pas comme une suite d’instruction pour résoudre un problème mais (contrairement à la programmation impérative) comme la solution au problème.': 4.324324324324325,\n",
              " 'Le programme « Hello World!': 1.189189189189189,\n",
              " 'Le prototype a donc une existence physique en mémoire et est mutable contrairement aux classes.': 0.7027027027027026,\n",
              " \"Les avantages généralement retenus pour l'utilisation de langages « compilés », est qu'ils sont plus rapides à l'exécution que des langages interprétés, car l'interprète doit être lancé à chaque exécution du programme, ce qui mobilise systématiquement les ressources.\": 3.9729729729729737,\n",
              " \"Les données d'entrée et de sortie peuvent être de nature très diverse.\": 1.1081081081081081,\n",
              " 'Les langages à classes peuvent être sous forme fonctionnelle (CLOS) comme sous forme impérative (C++, Java), voir les deux (Python, OCaml).': 2.432432432432433,\n",
              " \"Les premiers programmes d'ordinateur étaient réalisés avec un fer à souder et un grand nombre de tubes à vide (plus tard, des transistors).\": 1.216216216216216,\n",
              " \"Les programmes devenant plus complexes, cela est devenu presque impossible, parce qu'une seule erreur rendait le programme entier inutilisable.\": 2.27027027027027,\n",
              " 'Les trous indiquaient le motif que le métier suivait pour réaliser un tissage ; avec des cartes différentes le métier produisait des tissages différents[2].': 0.6486486486486487,\n",
              " \"On dit de ce programme qu'il interprète le code source.\": 2.081081081081081,\n",
              " \"On notera toutefois, qu'il peut être important de préciser comment le code source est exécuté.\": 1.7567567567567566,\n",
              " \"On peut citer en particulier :\\n\\nIl convient de noter qu'il est parfois possible de vérifier un programme informatique, c'est-à-dire prouver, de manière plus ou moins automatique, qu'il assure certaines propriétés.\": 2.7027027027027026,\n",
              " \"On peut décrire la méthode employée pour accomplir le but d'un programme à l'aide d'un algorithme.\": 2.2432432432432434,\n",
              " \"On remarque que pour effectuer une tâche très simple, le code informatique peut être très laborieux, et encore ici on ne traite pas les erreurs (si l'utilisateur tape un mot au lieu d'un nombre), et l'affichage est minimaliste.\": 2.972972972972974,\n",
              " 'On retrouve en général les mêmes fonctionnalités de base.': 0.24324324324324326,\n",
              " \"On utilise plutôt le terme développement pour dénoter l'ensemble des activités liées à la création d'un logiciel et des programmes qui le composent.\": 1.2702702702702702,\n",
              " 'Par exemple, Python ou Perl sont des langages interprétés.': 0.8918918918918919,\n",
              " \"Par exemple, il est très courant d'utiliser Ruby avec un interprète, mais il existe également des compilateurs pour ce langage[5].\": 1.0,\n",
              " \"Si on fait une rapide analyse fonctionnelle d'un programme, on détermine essentiellement les données qu'il va traiter (données d'entrée), la méthode employée (appelée l'algorithme), et le résultat (données de sortie).\": 3.2432432432432434,\n",
              " \"Tous les langages procéduraux peuvent faire de la programmation structurée, mais certains comme le FORTRAN s'y prêtent très mal.\": 2.540540540540541,\n",
              " 'Tout objet est donc l’instance d’une classe.': 1.810810810810811,\n",
              " \"Traditionnellement, les langages interprétés offrent en revanche une certaine portabilité (la capacité à utiliser le code source sur différentes plates-formes), ainsi qu'une facilité pour l'écriture du code.\": 2.8108108108108105,\n",
              " 'Un logiciel est un ensemble de programmes (qui peuvent être écrits dans des langages de programmation différents) dédié à la réalisation de certaines tâches par un (ou plusieurs) utilisateurs du logiciel.': 3.0540540540540544,\n",
              " 'Un paradigme est la façon dont sont traitées les solutions aux problèmes et un style fondamental de programmation, définissant la manière dont les programmes doivent être formulés.': 2.567567567567568,\n",
              " 'Un paradigme est un style fondamental de programmation, définissant la manière dont les programmes doivent être formulés.': 2.297297297297297,\n",
              " 'Une classe est statique, c’est la représentation abstraite de l’objet, c’est à ce niveau que se passe l’héritage.': 2.972972972972973,\n",
              " \"Une fois effectuée, l'exécutable obtenu peut être utilisé sans le code source.\": 1.7297297297297298,\n",
              " \"Une fois l'algorithme défini, l'étape suivante est de coder le programme.\": 1.3513513513513513,\n",
              " \"dans la console ou dans une fenêtre de l'interface graphique.\": 0.10810810810810811,\n",
              " '» est par tradition le premier programme écrit par tout programmeur, censé illustrer la syntaxe du langage de programmation.': 2.8918918918918917,\n",
              " \"• C#, C ou C++\\n\\nL'immense majorité des programmes qui s'exécutent sur nos ordinateurs, téléphones et autres outils électroniques sont écrits dans des langages de programmation dits impératifs : les lignes du programme sont exécutées les unes après les autres.\": 3.6216216216216224,\n",
              " \"• Forme de Backus-Naur (BNF), une grammaire de description de langage\\n• Google Code Jam, un concours international annuel de programmation très prisé des mordus d'algorithmique et de programmation\\n• None Notice dans un dictionnaire ou une encyclopédie généraliste :\": 3.864864864864866}"
            ]
          },
          "metadata": {},
          "execution_count": 37
        }
      ]
    },
    {
      "cell_type": "code",
      "source": [
        "import heapq\n",
        "melhores_sentencas = heapq.nlargest(5, nota_sentencas, key=nota_sentencas.get)"
      ],
      "metadata": {
        "id": "LuFI7bkbKbQ5"
      },
      "execution_count": 38,
      "outputs": []
    },
    {
      "cell_type": "code",
      "source": [
        "melhores_sentencas"
      ],
      "metadata": {
        "colab": {
          "base_uri": "https://localhost:8080/"
        },
        "outputId": "2346a3be-0757-4bc7-b23a-ede21f8adc26",
        "id": "81dJjrAaKbQ6"
      },
      "execution_count": 39,
      "outputs": [
        {
          "output_type": "execute_result",
          "data": {
            "text/plain": [
              "[\"// et celle-ci renvoie un 'float' : un nombre à virgule flottante // dans la fonction 'main', A et B étaient des nombres entiers, // U et V sont des copies des valeurs de A et B, // et qui ont été converties en nombres à virgule (22 deviendrait simplement 22.0000000) // on effectue la division /// on renvoie le résultat\\n\\nDans ce programme, les principales fonctionnalités de la programmation impérative sont utilisées : des variables de type nombre entier, nombre à virgule, chaîne de caractère, fonction calculant un résultat à partir de paramètres, fonction effectuant une tâche telle qu'afficher un message à l'écran, instruction permettant d'exécuter un code ou un autre en fonction de la valeur de telle ou telle variable.\",\n",
              " \"// fonction 'main' : c'est toujours ici qu'un programme commence // 'int' signifie integer : nombre entier en anglais // on déclare deux variables A et B qui sont des nombres entiers // on attend que l'utilisateur tape un entier au clavier, // et on l'enregistre dans A // puis on fait la même chose pour B // on exécute la fonction 'CalculerDivision' // que l'on a programmée ci-dessous, // et on enregistre le résultat dans C qui est un 'float' : un nombre à virgule // U et V sont les paramètres de notre fonction 'CalculerDivision' : ce sont des nombres à virgules (float).\",\n",
              " \"Dans un programme informatique typique, on trouvera suivant les langages des boucles ou qui permettent d'exécuter un morceau de code en boucle ou simplement un certain nombre de fois, des pour l'allocation dynamique de données (par exemple des tableaux), et très souvent des éléments de programmation objet permettant de structurer différemment le code et de créer des types de données personnalisés, ou encore des exceptions pour gérer certains cas d'erreurs plus facilement.\",\n",
              " \"Dans le cas d'un programme, le compilateur va transformer tout le texte représentant le code source du programme, en code compréhensible pour la machine, appelé code machine.\",\n",
              " \"Il n'est pas non plus nécessaire de disposer d'un autre programme (debugger) afin d’ôter les bugs du programme, c'est l’interpréteur qui permet d'afficher directement le contenu des variables du programme.\"]"
            ]
          },
          "metadata": {},
          "execution_count": 39
        }
      ]
    },
    {
      "cell_type": "code",
      "source": [
        "resumo = ' '.join(melhores_sentencas)\n",
        "resumo"
      ],
      "metadata": {
        "colab": {
          "base_uri": "https://localhost:8080/",
          "height": 140
        },
        "id": "5_qvAPMAK1oZ",
        "outputId": "12ab3cee-3084-4c6b-83ad-1b47dad4e4f9"
      },
      "execution_count": 41,
      "outputs": [
        {
          "output_type": "execute_result",
          "data": {
            "text/plain": [
              "\"// celle-ci renvoie 'float nombre virgule flottante // fonction 'main a b nombres entiers // u v copies valeurs a b // converties nombres virgule 22 deviendrait simplement 22.0000000 // effectue division /// renvoie résultat programme principales fonctionnalités programmation impérative utilisées variables type nombre entier nombre virgule chaîne caractère fonction calculant résultat partir paramètres fonction effectuant tâche telle qu'afficher message l'écran instruction permettant d'exécuter code autre fonction valeur telle telle variable // fonction 'main c'est toujours ici qu'un programme commence // 'int signifie integer nombre entier anglais // déclare deux variables a b nombres entiers // attend l'utilisateur tape entier clavier // l'enregistre a // puis fait chose b // exécute fonction 'calculerdivision // l'on a programmée ci-dessous // enregistre résultat 'float nombre virgule // u v paramètres fonction 'calculerdivision nombres virgules float programme informatique typique trouvera suivant langages boucles permettent d'exécuter morceau code boucle simplement certain nombre fois l'allocation dynamique données exemple tableaux très souvent éléments programmation objet permettant structurer différemment code créer types données personnalisés encore exceptions gérer certains cas d'erreurs plus facilement cas d'un programme compilateur va transformer tout texte représentant code source programme code compréhensible machine appelé code machine n'est non plus nécessaire disposer d'un autre programme debugger afin ’ ôter bugs programme c'est ’ interpréteur permet d'afficher directement contenu variables programme\""
            ],
            "application/vnd.google.colaboratory.intrinsic+json": {
              "type": "string"
            }
          },
          "metadata": {},
          "execution_count": 41
        }
      ]
    },
    {
      "cell_type": "code",
      "source": [
        "from IPython.core.display import HTML\n",
        "texto = ''\n",
        "\n",
        "display(HTML(f'<h1>Resumo do texto</h1>'))\n",
        "for sentenca in liste_phrase:\n",
        "  #texto += sentenca\n",
        "  if sentenca in melhores_sentencas:\n",
        "    texto += str(sentenca).replace(sentenca, f\"<mark>{sentenca}</mark>\")  #Donc ici on met en destque tout texte ou phrase contenue dans melhores_sentencas e liste_phrase\n",
        "  else:\n",
        "    texto += sentenca\n",
        "display(HTML(f\"\"\"{texto}\"\"\"))"
      ],
      "metadata": {
        "colab": {
          "base_uri": "https://localhost:8080/",
          "height": 1000
        },
        "id": "4WEhirgzLNvw",
        "outputId": "57c40629-f9d1-4e91-f961-0ca058a63dea"
      },
      "execution_count": 42,
      "outputs": [
        {
          "output_type": "display_data",
          "data": {
            "text/plain": [
              "<IPython.core.display.HTML object>"
            ],
            "text/html": [
              "<h1>Resumo do texto</h1>"
            ]
          },
          "metadata": {}
        },
        {
          "output_type": "display_data",
          "data": {
            "text/plain": [
              "<IPython.core.display.HTML object>"
            ],
            "text/html": [
              "La programmation, appelée aussi codage dans le domaine informatique[1], désigne l'ensemble des activités qui permettent l'écriture des programmes informatiques.C'est une étape importante du développement de logiciels (voire de matériel).L'écriture d'un programme se fait dans un langage de programmation.Un logiciel est un ensemble de programmes (qui peuvent être écrits dans des langages de programmation différents) dédié à la réalisation de certaines tâches par un (ou plusieurs) utilisateurs du logiciel.La programmation représente donc ici la rédaction du code source d'un logiciel.On utilise plutôt le terme développement pour dénoter l'ensemble des activités liées à la création d'un logiciel et des programmes qui le composent.Cela inclut la spécification du logiciel, sa conception, puis son implémentation proprement dite au sens de l'écriture des programmes dans un langage de programmation bien défini, ainsi que la vérification de sa correction, etc.La première machine programmable (c’est-à-dire machine dont les possibilités changent quand on modifie son programme) est probablement le métier à tisser de Jacquard, qui a été réalisé en 1801.La machine utilisait une suite de cartons perforés.Les trous indiquaient le motif que le métier suivait pour réaliser un tissage ; avec des cartes différentes le métier produisait des tissages différents[2].Cette innovation a été ensuite améliorée par Herman Hollerith d'IBM pour le développement de la fameuse carte perforée d'IBM[3].En 1936, la publication de l'article fondateur de la science informatique On Computable Numbers with an Application to the Entscheidungsproblem[4] par Alan Turing allait donner le coup d'envoi à la création de l'ordinateur programmable.Il y présente sa machine de Turing, le premier calculateur universel programmable, et invente les concepts et les termes de programmation et de programme.Les premiers programmes d'ordinateur étaient réalisés avec un fer à souder et un grand nombre de tubes à vide (plus tard, des transistors).Les programmes devenant plus complexes, cela est devenu presque impossible, parce qu'une seule erreur rendait le programme entier inutilisable.Avec les progrès des supports de données, il devint possible de charger le programme à partir de cartes perforées, contenant la liste des instructions en code binaire spécifique à un type d'ordinateur particulier.La puissance des ordinateurs augmentant, on les utilisa pour faire les programmes, les programmeurs préférant naturellement rédiger du texte plutôt que des suites de 0 et de 1, à charge pour l'ordinateur d'en faire la traduction lui-même.Avec le temps, de nouveaux langages de programmation sont apparus, faisant de plus en plus abstraction du matériel sur lequel devraient tourner les programmes.Ceci apporte plusieurs facteurs de gain : ces langages sont plus faciles à apprendre, un programmeur peut produire du code plus rapidement, et les programmes produits peuvent tourner sur différents types de machines.• C#, C ou C++\n",
              "\n",
              "L'immense majorité des programmes qui s'exécutent sur nos ordinateurs, téléphones et autres outils électroniques sont écrits dans des langages de programmation dits impératifs : les lignes du programme sont exécutées les unes après les autres.Chaque ligne du programme effectue soit une opération simple, soit exécute une fonction qui est elle-même une suite d'opérations simples.Le programme « Hello World!» est par tradition le premier programme écrit par tout programmeur, censé illustrer la syntaxe du langage de programmation.Le programme a pour unique fonction d'afficher le texte \"Hello World!\"dans la console ou dans une fenêtre de l'interface graphique.Le programme suivant écrit en langage simplifié et avec des commentaires, demande simplement à l'utilisateur d'entrer au clavier deux nombres entiers, et affiche leur quotient.<mark>// fonction 'main' : c'est toujours ici qu'un programme commence // 'int' signifie integer : nombre entier en anglais // on déclare deux variables A et B qui sont des nombres entiers // on attend que l'utilisateur tape un entier au clavier, // et on l'enregistre dans A // puis on fait la même chose pour B // on exécute la fonction 'CalculerDivision' // que l'on a programmée ci-dessous, // et on enregistre le résultat dans C qui est un 'float' : un nombre à virgule // U et V sont les paramètres de notre fonction 'CalculerDivision' : ce sont des nombres à virgules (float).</mark><mark>// et celle-ci renvoie un 'float' : un nombre à virgule flottante // dans la fonction 'main', A et B étaient des nombres entiers, // U et V sont des copies des valeurs de A et B, // et qui ont été converties en nombres à virgule (22 deviendrait simplement 22.0000000) // on effectue la division /// on renvoie le résultat\n",
              "\n",
              "Dans ce programme, les principales fonctionnalités de la programmation impérative sont utilisées : des variables de type nombre entier, nombre à virgule, chaîne de caractère, fonction calculant un résultat à partir de paramètres, fonction effectuant une tâche telle qu'afficher un message à l'écran, instruction permettant d'exécuter un code ou un autre en fonction de la valeur de telle ou telle variable.</mark><mark>Dans un programme informatique typique, on trouvera suivant les langages des boucles ou qui permettent d'exécuter un morceau de code en boucle ou simplement un certain nombre de fois, des pour l'allocation dynamique de données (par exemple des tableaux), et très souvent des éléments de programmation objet permettant de structurer différemment le code et de créer des types de données personnalisés, ou encore des exceptions pour gérer certains cas d'erreurs plus facilement.</mark>On remarque que pour effectuer une tâche très simple, le code informatique peut être très laborieux, et encore ici on ne traite pas les erreurs (si l'utilisateur tape un mot au lieu d'un nombre), et l'affichage est minimaliste.C'est pourquoi les langages de programmation n'ont jamais cessé d'évoluer, dans le but d'aider le programmeur qui souhaite réaliser des programmes rapides à s'exécuter, sans dysfonctionnements, et surtout simples à écrire, du moins le plus possible.La phase de conception définit le but du programme.Si on fait une rapide analyse fonctionnelle d'un programme, on détermine essentiellement les données qu'il va traiter (données d'entrée), la méthode employée (appelée l'algorithme), et le résultat (données de sortie).Les données d'entrée et de sortie peuvent être de nature très diverse.On peut décrire la méthode employée pour accomplir le but d'un programme à l'aide d'un algorithme.La programmation procédurale et fonctionnelle est basée sur l'algorithmique.On retrouve en général les mêmes fonctionnalités de base.Une fois l'algorithme défini, l'étape suivante est de coder le programme.Le codage dépend de l'architecture sur laquelle va s'exécuter le programme, de compromis temps-mémoire, et d'autres contraintes.Ces contraintes vont déterminer quel langage de programmation utiliser pour « convertir » l'algorithme en code source.Le code source n'est (presque) jamais utilisable tel quel.Il est généralement écrit dans un langage \"de haut niveau\", compréhensible pour l'homme, mais pas pour la machine.Certains langages sont ce qu'on appelle des langages compilés.En toute généralité, la compilation est l'opération qui consiste à transformer un langage source en un langage cible.<mark>Dans le cas d'un programme, le compilateur va transformer tout le texte représentant le code source du programme, en code compréhensible pour la machine, appelé code machine.</mark>Dans le cas de langages dits compilés, ce qui est exécuté est le résultat de la compilation.Une fois effectuée, l'exécutable obtenu peut être utilisé sans le code source.Il faut également noter que le résultat de la compilation n'est pas forcément du code machine correspondant à la machine réelle, mais peut être du code compris par une machine virtuelle (c'est-à-dire un programme simulant une machine), auquel cas on parlera de bytecode.C'est par exemple le cas en Java.L'avantage est que, de cette façon, un programme peut fonctionner sur n'importe quelle machine réelle, du moment que la machine virtuelle existe pour celle-ci.Dans le cas d'une requête SQL, la requête est compilée en une expression utilisant les opérateurs de l'algèbre relationnelle.C'est cette expression qui est évaluée par le système de gestion de bases de données.D'autres langages ne nécessitent pas de phase spéciale de compilation.La méthode employée pour exécuter le programme est alors différente.La phase de compilation est la plupart du temps incluse dans celle d’exécution.On dit de ce programme qu'il interprète le code source.Par exemple, Python ou Perl sont des langages interprétés.Les avantages généralement retenus pour l'utilisation de langages « compilés », est qu'ils sont plus rapides à l'exécution que des langages interprétés, car l'interprète doit être lancé à chaque exécution du programme, ce qui mobilise systématiquement les ressources.Traditionnellement, les langages interprétés offrent en revanche une certaine portabilité (la capacité à utiliser le code source sur différentes plates-formes), ainsi qu'une facilité pour l'écriture du code.En effet, il n'est pas nécessaire de passer par la phase de compilation pour tester le code source.<mark>Il n'est pas non plus nécessaire de disposer d'un autre programme (debugger) afin d’ôter les bugs du programme, c'est l’interpréteur qui permet d'afficher directement le contenu des variables du programme.</mark>Il faut noter qu'on parle abusivement de langages compilés ou interprétés.En effet, le caractère compilé ou interprété ne dépend pas du langage, qui n'est finalement qu'une grammaire et une certaine sémantique.D'ailleurs, certains langages peuvent être utilisés interprétés ou compilés.Par exemple, il est très courant d'utiliser Ruby avec un interprète, mais il existe également des compilateurs pour ce langage[5].On notera toutefois, qu'il peut être important de préciser comment le code source est exécuté.En effet, rares sont les organismes qui proposent à la fois un compilateur et un interpréteur, les résultats du programme peuvent différer à l'exécution, même si la norme du langage est clairement définie.C'est l'une des étapes les plus importantes de la création d'un programme.En principe, tout programmeur se doit de vérifier chaque partie d'un programme, de le tester.Il existe différents types de test.On peut citer en particulier :\n",
              "\n",
              "Il convient de noter qu'il est parfois possible de vérifier un programme informatique, c'est-à-dire prouver, de manière plus ou moins automatique, qu'il assure certaines propriétés.Un paradigme est un style fondamental de programmation, définissant la manière dont les programmes doivent être formulés.Un paradigme est la façon dont sont traitées les solutions aux problèmes et un style fondamental de programmation, définissant la manière dont les programmes doivent être formulés.Chaque paradigme amène sa philosophie de la programmation ; une fois qu'une solution a été imaginée par un programmeur selon un certain paradigme, un langage de programmation qui suit ce paradigme permettra de l'exprimer.Le paradigme impératif est le plus répandu, les opérations sont une suite d’instructions exécutées par l'ordinateur pour modifier l'état du programme.La programmation procédurale est un sous-ensemble de la programmation impérative.Elle introduit la notion de routine ou fonction qui est une sorte de factorisation de code, chaque procédure peut être appelée à n’importe quelle étape du programme.Ce paradigme permet aussi de supprimer les instructions goto[6],[7],[8]\n",
              "\n",
              "Ce paradigme est très répandu, il est présent dans des langages comme le C, le COBOL ou le FORTRAN.Apparu dans les années 70, la programmation structurée est un sous-ensemble de la programmation impérative.Elle née avec les travaux de Nicklaus Wirth pour son Algol W et l'article fondateur de Dijkstra dans Communications of the ACM, visant à supprimer l’instruction goto.Tous les langages procéduraux peuvent faire de la programmation structurée, mais certains comme le FORTRAN s'y prêtent très mal.En programmation déclarative, le programme est indépendant de l’état de la machine, il s’affranchit donc de tout effet de bord et un appel à une même fonction produira toujours le même résultat.Le programme s’écrit non pas comme une suite d’instruction pour résoudre un problème mais (contrairement à la programmation impérative) comme la solution au problème.La programmation fonctionnelle se base sur plusieurs principes comme : l’immutabilité, les fonctions pures (qui ne dépendent pas de l’état de la machine) et les lambda-calcul.Aujourd’hui, nombreux sont les langages qui offrent une approche fonctionnelle au programmeur.Certains comme LISP ou Scala sont intrinsèquement fonctionnels.D’autres comme JavaScript, Java ou PHP ont ajouté cette possibilité par la suite.La programmation logique consiste à exprimer les problèmes et les algorithmes sous forme de prédicats à l’aide d'une base de faits, d'une base de règles et d'un moteur d'inférence.La programmation orientée objet (abrégé POO) consiste en la définition et l'interaction de briques logicielles appelées objets ; ces objets représentes un concept, une idée.Chaque objet contient des attributs et des méthodes en rapport avec un sujet.La programmation orientée prototype est un sous ensemble de la programmation orientée objet.Dans ce paradigme, chaque objet est créé à partir d’un prototype qui est lui-même un objet.Le prototype a donc une existence physique en mémoire et est mutable contrairement aux classes.Le JavaScript, le Lua ou le Self sont des exemples de langages utilisant ce paradigme.La programmation orientée classe est basée sur la notion de classes.Une classe est statique, c’est la représentation abstraite de l’objet, c’est à ce niveau que se passe l’héritage.Tout objet est donc l’instance d’une classe.Les langages à classes peuvent être sous forme fonctionnelle (CLOS) comme sous forme impérative (C++, Java), voir les deux (Python, OCaml).• Forme de Backus-Naur (BNF), une grammaire de description de langage\n",
              "• Google Code Jam, un concours international annuel de programmation très prisé des mordus d'algorithmique et de programmation\n",
              "• None Notice dans un dictionnaire ou une encyclopédie généraliste :"
            ]
          },
          "metadata": {}
        }
      ]
    },
    {
      "cell_type": "code",
      "source": [
        "#UNE FONCTION IMPORTANTE QUI RETOURNE PLUSIEURS VARIABLES\n",
        "#L OBJECTIf ici est de créer une seule fonction qui puisse tout englober\n",
        "\n",
        "A cette fonction on passe que le texte origina, et la qte de meilleurs phrases, et il nous ressort:\n",
        " la liste de phrases,\n",
        " meilleurs phrases\n",
        " frequence de mots\n",
        " notes des phrases "
      ],
      "metadata": {
        "id": "dJvAkgqLOrvv"
      },
      "execution_count": null,
      "outputs": []
    },
    {
      "cell_type": "code",
      "source": [
        "def sumarizar(texto, quantidade_sentencas):\n",
        "  texto_original = texto\n",
        "  texto_formatado = pre_traitement(texto_original)\n",
        "\n",
        "  frequencia_palavras = nltk.FreqDist(nltk.word_tokenize(texto_formatado))\n",
        "  frequencia_maxima = max(frequencia_palavras.values())\n",
        "  for palavra in frequencia_palavras.keys():\n",
        "    frequencia_palavras[palavra] = (frequencia_palavras[palavra] / frequencia_maxima)\n",
        "  lista_sentencas = nltk.sent_tokenize(texto_original)\n",
        "  \n",
        "  nota_sentencas = {}\n",
        "  for sentenca in lista_sentencas:\n",
        "    for palavra in nltk.word_tokenize(sentenca):\n",
        "      if palavra in frequencia_palavras.keys():\n",
        "        if sentenca not in nota_sentencas.keys():\n",
        "          nota_sentencas[sentenca] = frequencia_palavras[palavra]\n",
        "        else:\n",
        "          nota_sentencas[sentenca] += frequencia_palavras[palavra]\n",
        "\n",
        "  import heapq\n",
        "  melhores_sentencas = heapq.nlargest(quantidade_sentencas, nota_sentencas, key=nota_sentencas.get)\n",
        "\n",
        "  return lista_sentencas, melhores_sentencas, frequencia_palavras, nota_sentencas"
      ],
      "metadata": {
        "id": "XCeJu_VZPDoB"
      },
      "execution_count": 43,
      "outputs": []
    },
    {
      "cell_type": "code",
      "source": [
        "lista_sentencas, melhores_sentencas, frequencia_palavras, nota_sentencas = sumarizar(art_cleaned, 5)"
      ],
      "metadata": {
        "id": "KeBh1-mdRQjn"
      },
      "execution_count": 44,
      "outputs": []
    },
    {
      "cell_type": "code",
      "source": [
        "lista_sentencas[0:5]"
      ],
      "metadata": {
        "colab": {
          "base_uri": "https://localhost:8080/"
        },
        "id": "SChJ_QZuRazH",
        "outputId": "286cf51c-0eec-4dcc-c515-8457474dc9a5"
      },
      "execution_count": 46,
      "outputs": [
        {
          "output_type": "execute_result",
          "data": {
            "text/plain": [
              "[\"La programmation, appelée aussi codage dans le domaine informatique[1], désigne l'ensemble des activités qui permettent l'écriture des programmes informatiques.\",\n",
              " \"C'est une étape importante du développement de logiciels (voire de matériel).\",\n",
              " \"L'écriture d'un programme se fait dans un langage de programmation.\",\n",
              " 'Un logiciel est un ensemble de programmes (qui peuvent être écrits dans des langages de programmation différents) dédié à la réalisation de certaines tâches par un (ou plusieurs) utilisateurs du logiciel.',\n",
              " \"La programmation représente donc ici la rédaction du code source d'un logiciel.\"]"
            ]
          },
          "metadata": {},
          "execution_count": 46
        }
      ]
    },
    {
      "cell_type": "code",
      "source": [
        "melhores_sentencas[0:5]"
      ],
      "metadata": {
        "colab": {
          "base_uri": "https://localhost:8080/"
        },
        "id": "Lqm6qpPmRi5-",
        "outputId": "38921098-8d15-4c7d-8d3b-295ee50b096a"
      },
      "execution_count": 47,
      "outputs": [
        {
          "output_type": "execute_result",
          "data": {
            "text/plain": [
              "[\"// et celle-ci renvoie un 'float' : un nombre à virgule flottante // dans la fonction 'main', A et B étaient des nombres entiers, // U et V sont des copies des valeurs de A et B, // et qui ont été converties en nombres à virgule (22 deviendrait simplement 22.0000000) // on effectue la division /// on renvoie le résultat\\n\\nDans ce programme, les principales fonctionnalités de la programmation impérative sont utilisées : des variables de type nombre entier, nombre à virgule, chaîne de caractère, fonction calculant un résultat à partir de paramètres, fonction effectuant une tâche telle qu'afficher un message à l'écran, instruction permettant d'exécuter un code ou un autre en fonction de la valeur de telle ou telle variable.\",\n",
              " \"// fonction 'main' : c'est toujours ici qu'un programme commence // 'int' signifie integer : nombre entier en anglais // on déclare deux variables A et B qui sont des nombres entiers // on attend que l'utilisateur tape un entier au clavier, // et on l'enregistre dans A // puis on fait la même chose pour B // on exécute la fonction 'CalculerDivision' // que l'on a programmée ci-dessous, // et on enregistre le résultat dans C qui est un 'float' : un nombre à virgule // U et V sont les paramètres de notre fonction 'CalculerDivision' : ce sont des nombres à virgules (float).\",\n",
              " \"Dans un programme informatique typique, on trouvera suivant les langages des boucles ou qui permettent d'exécuter un morceau de code en boucle ou simplement un certain nombre de fois, des pour l'allocation dynamique de données (par exemple des tableaux), et très souvent des éléments de programmation objet permettant de structurer différemment le code et de créer des types de données personnalisés, ou encore des exceptions pour gérer certains cas d'erreurs plus facilement.\",\n",
              " \"Dans le cas d'un programme, le compilateur va transformer tout le texte représentant le code source du programme, en code compréhensible pour la machine, appelé code machine.\",\n",
              " \"Il n'est pas non plus nécessaire de disposer d'un autre programme (debugger) afin d’ôter les bugs du programme, c'est l’interpréteur qui permet d'afficher directement le contenu des variables du programme.\"]"
            ]
          },
          "metadata": {},
          "execution_count": 47
        }
      ]
    },
    {
      "cell_type": "code",
      "source": [
        "nota_sentencas"
      ],
      "metadata": {
        "id": "pDfkz6V2RsTG"
      },
      "execution_count": null,
      "outputs": []
    },
    {
      "cell_type": "code",
      "source": [
        "#on fait pareil pour une fonction de visualisation\n"
      ],
      "metadata": {
        "id": "tWEw2CQ4TNug"
      },
      "execution_count": null,
      "outputs": []
    },
    {
      "cell_type": "code",
      "metadata": {
        "id": "XEHelL-tc3Nh"
      },
      "source": [
        "def visualiza_resumo(titulo, lista_sentencas, melhores_sentencas):\n",
        "  from IPython.core.display import HTML\n",
        "  texto = ''\n",
        "\n",
        "  display(HTML(f'<h1>Resumo do texto - {titulo}</h1>'))\n",
        "  for i in lista_sentencas:\n",
        "    if i in melhores_sentencas:\n",
        "      texto += str(i).replace(i, f\"<mark>{i}</mark>\")\n",
        "    else:\n",
        "      texto += i\n",
        "  display(HTML(f\"\"\" {texto} \"\"\"))"
      ],
      "execution_count": 56,
      "outputs": []
    },
    {
      "cell_type": "code",
      "metadata": {
        "colab": {
          "base_uri": "https://localhost:8080/",
          "height": 1000
        },
        "id": "6WteYBEhdIqV",
        "outputId": "513534cf-4b75-4964-a2f9-f61341544006"
      },
      "source": [
        "visualiza_resumo('Programmation', lista_sentencas, melhores_sentencas)"
      ],
      "execution_count": 57,
      "outputs": [
        {
          "output_type": "display_data",
          "data": {
            "text/plain": [
              "<IPython.core.display.HTML object>"
            ],
            "text/html": [
              "<h1>Resumo do texto - Programmation</h1>"
            ]
          },
          "metadata": {}
        },
        {
          "output_type": "display_data",
          "data": {
            "text/plain": [
              "<IPython.core.display.HTML object>"
            ],
            "text/html": [
              " La programmation, appelée aussi codage dans le domaine informatique[1], désigne l'ensemble des activités qui permettent l'écriture des programmes informatiques.C'est une étape importante du développement de logiciels (voire de matériel).L'écriture d'un programme se fait dans un langage de programmation.Un logiciel est un ensemble de programmes (qui peuvent être écrits dans des langages de programmation différents) dédié à la réalisation de certaines tâches par un (ou plusieurs) utilisateurs du logiciel.La programmation représente donc ici la rédaction du code source d'un logiciel.On utilise plutôt le terme développement pour dénoter l'ensemble des activités liées à la création d'un logiciel et des programmes qui le composent.Cela inclut la spécification du logiciel, sa conception, puis son implémentation proprement dite au sens de l'écriture des programmes dans un langage de programmation bien défini, ainsi que la vérification de sa correction, etc.La première machine programmable (c’est-à-dire machine dont les possibilités changent quand on modifie son programme) est probablement le métier à tisser de Jacquard, qui a été réalisé en 1801.La machine utilisait une suite de cartons perforés.Les trous indiquaient le motif que le métier suivait pour réaliser un tissage ; avec des cartes différentes le métier produisait des tissages différents[2].Cette innovation a été ensuite améliorée par Herman Hollerith d'IBM pour le développement de la fameuse carte perforée d'IBM[3].En 1936, la publication de l'article fondateur de la science informatique On Computable Numbers with an Application to the Entscheidungsproblem[4] par Alan Turing allait donner le coup d'envoi à la création de l'ordinateur programmable.Il y présente sa machine de Turing, le premier calculateur universel programmable, et invente les concepts et les termes de programmation et de programme.Les premiers programmes d'ordinateur étaient réalisés avec un fer à souder et un grand nombre de tubes à vide (plus tard, des transistors).Les programmes devenant plus complexes, cela est devenu presque impossible, parce qu'une seule erreur rendait le programme entier inutilisable.Avec les progrès des supports de données, il devint possible de charger le programme à partir de cartes perforées, contenant la liste des instructions en code binaire spécifique à un type d'ordinateur particulier.La puissance des ordinateurs augmentant, on les utilisa pour faire les programmes, les programmeurs préférant naturellement rédiger du texte plutôt que des suites de 0 et de 1, à charge pour l'ordinateur d'en faire la traduction lui-même.Avec le temps, de nouveaux langages de programmation sont apparus, faisant de plus en plus abstraction du matériel sur lequel devraient tourner les programmes.Ceci apporte plusieurs facteurs de gain : ces langages sont plus faciles à apprendre, un programmeur peut produire du code plus rapidement, et les programmes produits peuvent tourner sur différents types de machines.• C#, C ou C++\n",
              "\n",
              "L'immense majorité des programmes qui s'exécutent sur nos ordinateurs, téléphones et autres outils électroniques sont écrits dans des langages de programmation dits impératifs : les lignes du programme sont exécutées les unes après les autres.Chaque ligne du programme effectue soit une opération simple, soit exécute une fonction qui est elle-même une suite d'opérations simples.Le programme « Hello World!» est par tradition le premier programme écrit par tout programmeur, censé illustrer la syntaxe du langage de programmation.Le programme a pour unique fonction d'afficher le texte \"Hello World!\"dans la console ou dans une fenêtre de l'interface graphique.Le programme suivant écrit en langage simplifié et avec des commentaires, demande simplement à l'utilisateur d'entrer au clavier deux nombres entiers, et affiche leur quotient.<mark>// fonction 'main' : c'est toujours ici qu'un programme commence // 'int' signifie integer : nombre entier en anglais // on déclare deux variables A et B qui sont des nombres entiers // on attend que l'utilisateur tape un entier au clavier, // et on l'enregistre dans A // puis on fait la même chose pour B // on exécute la fonction 'CalculerDivision' // que l'on a programmée ci-dessous, // et on enregistre le résultat dans C qui est un 'float' : un nombre à virgule // U et V sont les paramètres de notre fonction 'CalculerDivision' : ce sont des nombres à virgules (float).</mark><mark>// et celle-ci renvoie un 'float' : un nombre à virgule flottante // dans la fonction 'main', A et B étaient des nombres entiers, // U et V sont des copies des valeurs de A et B, // et qui ont été converties en nombres à virgule (22 deviendrait simplement 22.0000000) // on effectue la division /// on renvoie le résultat\n",
              "\n",
              "Dans ce programme, les principales fonctionnalités de la programmation impérative sont utilisées : des variables de type nombre entier, nombre à virgule, chaîne de caractère, fonction calculant un résultat à partir de paramètres, fonction effectuant une tâche telle qu'afficher un message à l'écran, instruction permettant d'exécuter un code ou un autre en fonction de la valeur de telle ou telle variable.</mark><mark>Dans un programme informatique typique, on trouvera suivant les langages des boucles ou qui permettent d'exécuter un morceau de code en boucle ou simplement un certain nombre de fois, des pour l'allocation dynamique de données (par exemple des tableaux), et très souvent des éléments de programmation objet permettant de structurer différemment le code et de créer des types de données personnalisés, ou encore des exceptions pour gérer certains cas d'erreurs plus facilement.</mark>On remarque que pour effectuer une tâche très simple, le code informatique peut être très laborieux, et encore ici on ne traite pas les erreurs (si l'utilisateur tape un mot au lieu d'un nombre), et l'affichage est minimaliste.C'est pourquoi les langages de programmation n'ont jamais cessé d'évoluer, dans le but d'aider le programmeur qui souhaite réaliser des programmes rapides à s'exécuter, sans dysfonctionnements, et surtout simples à écrire, du moins le plus possible.La phase de conception définit le but du programme.Si on fait une rapide analyse fonctionnelle d'un programme, on détermine essentiellement les données qu'il va traiter (données d'entrée), la méthode employée (appelée l'algorithme), et le résultat (données de sortie).Les données d'entrée et de sortie peuvent être de nature très diverse.On peut décrire la méthode employée pour accomplir le but d'un programme à l'aide d'un algorithme.La programmation procédurale et fonctionnelle est basée sur l'algorithmique.On retrouve en général les mêmes fonctionnalités de base.Une fois l'algorithme défini, l'étape suivante est de coder le programme.Le codage dépend de l'architecture sur laquelle va s'exécuter le programme, de compromis temps-mémoire, et d'autres contraintes.Ces contraintes vont déterminer quel langage de programmation utiliser pour « convertir » l'algorithme en code source.Le code source n'est (presque) jamais utilisable tel quel.Il est généralement écrit dans un langage \"de haut niveau\", compréhensible pour l'homme, mais pas pour la machine.Certains langages sont ce qu'on appelle des langages compilés.En toute généralité, la compilation est l'opération qui consiste à transformer un langage source en un langage cible.<mark>Dans le cas d'un programme, le compilateur va transformer tout le texte représentant le code source du programme, en code compréhensible pour la machine, appelé code machine.</mark>Dans le cas de langages dits compilés, ce qui est exécuté est le résultat de la compilation.Une fois effectuée, l'exécutable obtenu peut être utilisé sans le code source.Il faut également noter que le résultat de la compilation n'est pas forcément du code machine correspondant à la machine réelle, mais peut être du code compris par une machine virtuelle (c'est-à-dire un programme simulant une machine), auquel cas on parlera de bytecode.C'est par exemple le cas en Java.L'avantage est que, de cette façon, un programme peut fonctionner sur n'importe quelle machine réelle, du moment que la machine virtuelle existe pour celle-ci.Dans le cas d'une requête SQL, la requête est compilée en une expression utilisant les opérateurs de l'algèbre relationnelle.C'est cette expression qui est évaluée par le système de gestion de bases de données.D'autres langages ne nécessitent pas de phase spéciale de compilation.La méthode employée pour exécuter le programme est alors différente.La phase de compilation est la plupart du temps incluse dans celle d’exécution.On dit de ce programme qu'il interprète le code source.Par exemple, Python ou Perl sont des langages interprétés.Les avantages généralement retenus pour l'utilisation de langages « compilés », est qu'ils sont plus rapides à l'exécution que des langages interprétés, car l'interprète doit être lancé à chaque exécution du programme, ce qui mobilise systématiquement les ressources.Traditionnellement, les langages interprétés offrent en revanche une certaine portabilité (la capacité à utiliser le code source sur différentes plates-formes), ainsi qu'une facilité pour l'écriture du code.En effet, il n'est pas nécessaire de passer par la phase de compilation pour tester le code source.<mark>Il n'est pas non plus nécessaire de disposer d'un autre programme (debugger) afin d’ôter les bugs du programme, c'est l’interpréteur qui permet d'afficher directement le contenu des variables du programme.</mark>Il faut noter qu'on parle abusivement de langages compilés ou interprétés.En effet, le caractère compilé ou interprété ne dépend pas du langage, qui n'est finalement qu'une grammaire et une certaine sémantique.D'ailleurs, certains langages peuvent être utilisés interprétés ou compilés.Par exemple, il est très courant d'utiliser Ruby avec un interprète, mais il existe également des compilateurs pour ce langage[5].On notera toutefois, qu'il peut être important de préciser comment le code source est exécuté.En effet, rares sont les organismes qui proposent à la fois un compilateur et un interpréteur, les résultats du programme peuvent différer à l'exécution, même si la norme du langage est clairement définie.C'est l'une des étapes les plus importantes de la création d'un programme.En principe, tout programmeur se doit de vérifier chaque partie d'un programme, de le tester.Il existe différents types de test.On peut citer en particulier :\n",
              "\n",
              "Il convient de noter qu'il est parfois possible de vérifier un programme informatique, c'est-à-dire prouver, de manière plus ou moins automatique, qu'il assure certaines propriétés.Un paradigme est un style fondamental de programmation, définissant la manière dont les programmes doivent être formulés.Un paradigme est la façon dont sont traitées les solutions aux problèmes et un style fondamental de programmation, définissant la manière dont les programmes doivent être formulés.Chaque paradigme amène sa philosophie de la programmation ; une fois qu'une solution a été imaginée par un programmeur selon un certain paradigme, un langage de programmation qui suit ce paradigme permettra de l'exprimer.Le paradigme impératif est le plus répandu, les opérations sont une suite d’instructions exécutées par l'ordinateur pour modifier l'état du programme.La programmation procédurale est un sous-ensemble de la programmation impérative.Elle introduit la notion de routine ou fonction qui est une sorte de factorisation de code, chaque procédure peut être appelée à n’importe quelle étape du programme.Ce paradigme permet aussi de supprimer les instructions goto[6],[7],[8]\n",
              "\n",
              "Ce paradigme est très répandu, il est présent dans des langages comme le C, le COBOL ou le FORTRAN.Apparu dans les années 70, la programmation structurée est un sous-ensemble de la programmation impérative.Elle née avec les travaux de Nicklaus Wirth pour son Algol W et l'article fondateur de Dijkstra dans Communications of the ACM, visant à supprimer l’instruction goto.Tous les langages procéduraux peuvent faire de la programmation structurée, mais certains comme le FORTRAN s'y prêtent très mal.En programmation déclarative, le programme est indépendant de l’état de la machine, il s’affranchit donc de tout effet de bord et un appel à une même fonction produira toujours le même résultat.Le programme s’écrit non pas comme une suite d’instruction pour résoudre un problème mais (contrairement à la programmation impérative) comme la solution au problème.La programmation fonctionnelle se base sur plusieurs principes comme : l’immutabilité, les fonctions pures (qui ne dépendent pas de l’état de la machine) et les lambda-calcul.Aujourd’hui, nombreux sont les langages qui offrent une approche fonctionnelle au programmeur.Certains comme LISP ou Scala sont intrinsèquement fonctionnels.D’autres comme JavaScript, Java ou PHP ont ajouté cette possibilité par la suite.La programmation logique consiste à exprimer les problèmes et les algorithmes sous forme de prédicats à l’aide d'une base de faits, d'une base de règles et d'un moteur d'inférence.La programmation orientée objet (abrégé POO) consiste en la définition et l'interaction de briques logicielles appelées objets ; ces objets représentes un concept, une idée.Chaque objet contient des attributs et des méthodes en rapport avec un sujet.La programmation orientée prototype est un sous ensemble de la programmation orientée objet.Dans ce paradigme, chaque objet est créé à partir d’un prototype qui est lui-même un objet.Le prototype a donc une existence physique en mémoire et est mutable contrairement aux classes.Le JavaScript, le Lua ou le Self sont des exemples de langages utilisant ce paradigme.La programmation orientée classe est basée sur la notion de classes.Une classe est statique, c’est la représentation abstraite de l’objet, c’est à ce niveau que se passe l’héritage.Tout objet est donc l’instance d’une classe.Les langages à classes peuvent être sous forme fonctionnelle (CLOS) comme sous forme impérative (C++, Java), voir les deux (Python, OCaml).• Forme de Backus-Naur (BNF), une grammaire de description de langage\n",
              "• Google Code Jam, un concours international annuel de programmation très prisé des mordus d'algorithmique et de programmation\n",
              "• None Notice dans un dictionnaire ou une encyclopédie généraliste : "
            ]
          },
          "metadata": {}
        }
      ]
    },
    {
      "cell_type": "markdown",
      "source": [
        "#RESUME DE PLUSIEURS LINKS"
      ],
      "metadata": {
        "id": "6Qv5gjcrUJLB"
      }
    },
    {
      "cell_type": "code",
      "source": [
        "lista_artigos = ['https://iaexpert.academy/2020/11/06/ia-detecta-deep-fakes-produzidos-com-tecnicas-recentes/',\n",
        "                 'https://iaexpert.academy/2020/11/13/facebook-apresenta-novo-algoritmo-deteccao-fake-news/',\n",
        "                 'https://iaexpert.academy/2020/11/16/automl-aspectos-aplicacoes/']"
      ],
      "metadata": {
        "id": "X6BGRM4fUOd7"
      },
      "execution_count": 58,
      "outputs": []
    },
    {
      "cell_type": "code",
      "source": [
        "for url in lista_artigos:\n",
        "  #print(url)\n",
        "  g = Goose()\n",
        "  artigo = g.extract(url)\n",
        "  lista_sentencas, melhores_sentencas, _, _ = sumarizar(artigo.cleaned_text, 5)\n",
        "  visualiza_resumo(artigo.title, lista_sentencas, melhores_sentencas)"
      ],
      "metadata": {
        "colab": {
          "base_uri": "https://localhost:8080/",
          "height": 1000
        },
        "id": "y4cmSWgtUd2e",
        "outputId": "8bb794fb-e8b0-43a0-8a18-fbd87fcec430"
      },
      "execution_count": 59,
      "outputs": [
        {
          "output_type": "display_data",
          "data": {
            "text/plain": [
              "<IPython.core.display.HTML object>"
            ],
            "text/html": [
              "<h1>Resumo do texto - IA detecta deep fakes produzidos com as técnicas mais recentes – IA Expert Academy</h1>"
            ]
          },
          "metadata": {}
        },
        {
          "output_type": "display_data",
          "data": {
            "text/plain": [
              "<IPython.core.display.HTML object>"
            ],
            "text/html": [
              " <mark>No ano passado, pesquisadores da Universidade de Stanford publicaram um trabalho descrevendo uma tecnologia para sincronização de lábios que permitia que editores de vídeo pudessem alterar as palavras de quem está falando de forma quase imperceptível, o que permitia inserir ou remover palavras mesmo no meio de frases.</mark><mark>A tecnologia tem aplicações benéficas, como durante a edição de filmes, onde não seria necessário refilmar sequências ou fazer malabarismos de montagem para que o resultado final ficasse de acordo com a vontade do diretor.</mark>Entretanto, ela também poderia ser utilizada com más intenções, como para produzir deep fakes com conteúdo desinformativo.Este ano, os mesmos pesquisadores apresentaram um novo trabalho capaz de detectar as alterações realizadas.<mark>Ele se baseia nas mesmas ideias desenvolvidas no trabalho anterior, que buscavam parear fonemas com o que eles chamaram de “visemas”, correspondentes à posição dos lábios durante a produção do fonema.</mark><mark>Apesar de as edições produzidas terem passado despercebidas por avaliadores humanos, ainda assim alguns artefatos são inseridos, sobretudo em fonemas com visemas bem característicos, como aqueles das letras M, B e P. Nestes casos, os lábios devem se fechar de forma firme.</mark>Pequenas diferenças entre as representações reais e criadas destes visemas foram utilizadas para detectar as sessões editadas dos vídeos com o uso de uma rede neural convolucional.No trabalho, os cientistas avaliaram vários vídeos adulterados do ex-presidente Barack Obama.O algoritmo, treinado com instâncias deste dataset, conseguiu identificar os casos de deep fake com precisão superior a 90%.Quando avaliado em um dataset mais amplo contendo outras pessoas, a precisão foi de 81%.<mark>Os autores comentam que detecções de deep fake com manipulação espacial e temporal limitada, como as edições feitas para alterar sutilmente um discurso de forma a mudar sua interpretação, são particularmente difíceis de detectar.</mark>Em casos de alto risco, a avaliação pode ser feita por uma pessoa qualificada, mas num ambiente mais amplo, técnicas automáticas são necessárias.Neste sentido, seu trabalho é um avanço importante no combate às más práticas associadas a esta tecnologia, já que apresenta resultados promissores avaliando deep fakes criados com as técnicas mais recentes. "
            ]
          },
          "metadata": {}
        },
        {
          "output_type": "display_data",
          "data": {
            "text/plain": [
              "<IPython.core.display.HTML object>"
            ],
            "text/html": [
              "<h1>Resumo do texto - Facebook apresenta novo algoritmo para detecção de fake news – IA Expert Academy</h1>"
            ]
          },
          "metadata": {}
        },
        {
          "output_type": "display_data",
          "data": {
            "text/plain": [
              "<IPython.core.display.HTML object>"
            ],
            "text/html": [
              " Já é de amplo reconhecimento que as redes sociais afetaram o panorama político nos países com eleições.<mark>Se por um lado, as plataformas permitem a disseminação de ideias e programas políticos, permitindo uma maior divulgação de candidatos menos populares, por outro, agentes mal-intencionados têm usado as redes para disseminar fake news e assim manipular as eleições em seu favor.</mark>Em função de todo este poder, nos últimos anos tem aumentado a pressão para que empresas como Facebook e Twitter tomem medidas de forma a amenizar os efeitos nocivos que suas plataformas podem ter.<mark>Em agosto deste ano, o Facebook apresentou na Conferência de Data Mining e Descoberta de Conhecimento ( ) um trabalho detalhando um modelo implementado pela empresa para, como diz o título do artigo, “melhorar a integridade da rede social”.</mark>O modelo faz uso de uma nova abstração chamada de ( ), que foi desenvolvida com o objetivo de reconhecer interações sociais “rebeldes” para que elas possam ser encaminhadas para tratamento individualizado.O modelo tem a estrutura de uma rede neural, treinado de forma supervisionada, e incorpora características estáticas e dinâmicas das chamadas entidades sociais.<mark>Isso quer dizer que, ao contrários dos métodos anteriores que focavam em apenas um desses aspectos – por exemplo, o histórico de postagem ou a lista de amigos das contas -, o novo algoritmo leva ambos em consideração, “desmontando” as interações em partes como quem esteve envolvido, e o que e onde aconteceu.</mark><mark>Isso foi possível graças à evolução recente nos domínios de embeddings de grafos, usados para representar interações em uma rede, e de aprendizagem de comportamento sequencial profunda, capaz de classificar a intenção de um agente através da consistência de seu comportamento.</mark>O resultado é uma compreensão mais detalhada sobre a natureza da conta e das postagens, que permite um controle mais fino dos moderadores.No artigo, o Facebook demonstrou o uso da ferramenta na prevenção da disseminação de fake news e na detecção de contas falsas.A abordagem certamente tem suas limitações.Em primeiro lugar, por se tratar de um problema supervisionado, instâncias devem ser rotuladas por pessoal técnico antes do treinamento, e nem sempre é fácil classificar um comportamento como malicioso.Em segundo, a ferramenta apenas identifica situações suspeitas, mas o plano de ação continua sendo delegado a um moderador, dependendo de avaliações de natureza bastante subjetiva.Mas há de se reconhecer os esforços da empresa em assumir responsabilidade pelo uso indevido da sua plataforma.<mark>Além de controlar o fluxo de informações falsas, as empresas pretendem manter a confiança em suas plataformas, para garantir que o ambiente mantenha sua percepção como saudável, construtivo e convidativo aos usuários.</mark> "
            ]
          },
          "metadata": {}
        },
        {
          "output_type": "display_data",
          "data": {
            "text/plain": [
              "<IPython.core.display.HTML object>"
            ],
            "text/html": [
              "<h1>Resumo do texto - AutoML: aspectos e aplicações – IA Expert Academy</h1>"
            ]
          },
          "metadata": {}
        },
        {
          "output_type": "display_data",
          "data": {
            "text/plain": [
              "<IPython.core.display.HTML object>"
            ],
            "text/html": [
              " Os algoritmos de machine learning são métodos numéricos implementados na forma de linguagem de programação, para que sejam processados por computadores.<mark>Estes métodos são formulados de forma que o algoritmo resolva um problema não através da sua modelagem matemática, que exigiria o conhecimento de uma equação específica que descreve o problema, mas sim através de um modelo mais genérico, capaz de aproximar a equação desconhecida, e que por um processo iterativo tende a convergir para uma solução.</mark>Seu grande sucesso se deve ao fato de que os computadores são ideais para implementar estas iterações, já que elas são blocos de operações matemáticas mais simples que se repetem até que a solução seja alcançada.Através das iterações, os algoritmos ajustam seus parâmetros internos de forma que o modelo seja capaz de reproduzir as respostas do problema a partir dos dados de entrada.É assim que os modelos de machine learning ganham a capacidade de fazer predições em novos dados.Apesar de o processo descrito acima ser automatizado, existem alguns parâmetros que, via de regra, não podem ser ajustados de maneira automática.Isto se deve principalmente ao fato de que não existe uma relação matemática precisa entre estes parâmetros e o desempenho do modelo, para que eles possam ser ajustados computacionalmente na direção da melhor solução.Além disso, eles costumam ser independentes entre si, de forma que diferentes combinações de valores de hiperparâmetros produzem resultados sem relação entre si, e pode ser que a solução ideal resida num espaço bastante distante de outras soluções adequadas.Os hiperparâmetros, que incluem a escolha do modelo e seus ajustes específicos, costumam ser configurados manualmente pelo desenvolvedor, que só vai saber sua qualidade ao final do processo de treinamento, avaliando as métricas de desempenho.O sucesso em sua escolha vai depender do conhecimento que o desenvolvedor tem sobre os dados com que está trabalhando, sua experiência em utilizar e ajustar os diferentes algoritmos disponíveis, e ainda uma boa dose de sorte.Mais recentemente, surgiram algumas bibliotecas buscando automatizar esta etapa inerentemente exploratória do processo de desenvolvimento de algoritmos de machine learning.Elas funcionam basicamente testando diferentes valores de hiperparâmetros e suas combinações, orientados por alguma heurística que estabelece uma direção para esta busca, retornando o desempenho do modelo nestas diferentes situações.Se por um lado esta abordagem ignora a intuição do desenvolvedor na escolha dos hiperparâmetros a serem testados, por outro ela poupa tempo que o desenvolvedor gastaria escrevendo código, e agora pode dispender em outras tarefas.A bem da verdade, há vantagens e desvantagens na sua utilização, além de fases específicas de um projeto onde elas podem ser de grande utilidade.Quando um cientista de dados inicia um novo projeto, é essencial desenvolver rapidamente uma ideia sobre sua viabilidade, já que, em uma empresa, o principal objetivo deste profissional é entregar valor.Como a natureza dos dados começa geralmente desconhecida, usar ferramentas de machine learning automático nesta fase inicial ajuda a estabelecer uma ideia mínima sobre o custo de oportunidade do projeto.<mark>Os modelos gerados desta forma podem servir como baseline, estabelecendo o desempenho mínimo possível a partir do qual a empresa pode decidir se a ideia toda vale a pena, se é sensato investir mais tempo e recursos para tentar melhorar este panorama inicial.</mark>O AutoML nesta fase inicial também ajuda a definir um cenário geral a ser explorado.Digamos que a abordagem revele que os melhores modelos são de uma determinada família de métodos numéricos.Então, é possível que os processos de otimização seguintes sejam melhor sucedidos se continuarem a exploração neste sentido.Assim, o cientista de dados já pula uma fase longa do desenvolvimento, podendo focar sua atenção na compreensão das tarefas mais específicas que o método de AutoML não é capaz de realizar.Outra grande vantagem de recorrer a métodos de AutoML é quando a empresa está em transição para ser um negócio orientado por dados.Nesta fase, ela ainda pode estar reticente sobre desenvolver toda uma nova área, estabelecer toda uma nova cultura, e o AutoML fornece uma indicação para responder se é hora de tomar essa decisão.Em muitas situações, faz mais sentido reciclar um desenvolvedor interno da empresa para fazer este estudo inicial do que contratar um profissional específico, com conhecimento técnico suficiente, para obter a mesma resposta.Diante da possibilidade de otimizar modelos usando ferramentas automáticas, muitos se perguntam se ainda há espaço para os cientistas de dados que faziam este trabalho manualmente.Mas certamente há.<mark>O AutoML ainda é incapaz de incorporar conhecimento que não seja facilmente expresso em operações matemáticas simples; ele não faz, por exemplo, as etapas de e análise causal, não resolve situações de , não considera como a escolha do modelo impacta a fase de produção do projeto, e não incorpora aspectos relacionados ao negócio.</mark>Pode ser que o AutoML encontre uma solução inviável em termos práticos.É papel do cientista de dados refinar seus resultados.<mark>De fato, a menor parte do tempo de um cientista de dados é gasta escrevendo código e desenvolvendo modelos; sua expertise está muito mais relacionada em como conectar o conhecimento oriundo dos dados com suas aplicações no mundo real.</mark>Ao invés de um concorrente, o AutoML é mais uma ferramenta que o cientista de dados dispõe, que automatiza uma parte mais braçal de seu trabalho para que ele possa se concentrar nas tarefas mais complexas.Alguns de seus pontos fortes disponíveis ao cientista de dados são: geração de baselines confiáveis e consistentes, aumento da reprodutibilidade e da robustez metodológica, disponibilidade de várias heurísticas de treinamento, e maior possibilidade de experimentação.A seguir apresentamos algumas das bibliotecas mais citadas atualmente.Fazendo uso da extensa coleção de métodos do Scikit-Learn, temos a e a , que fazem uma busca no espaço de soluções usando otimização bayesiana.A se baseia em um pipeline que busca valores de hiperparâmetros usando uma abordagem baseada em árvore de decisão.A permite a otimização de redes neurais construídas usando o Keras.A pesquisa os melhores parâmetros para modelos baseados em árvores de decisão e redes neurais.Via de regra, estas bibliotecas são extremamente fáceis de implementar.A ideia geral é fornecer os dados e alguns limitantes como o tempo disponível para rodar a otimização.Muito prático, não?Assim como várias tarefas de outras profissões vão sendo substituídas por métodos automatizados, algumas atribuições do cientista de dados também são passíveis de passar por esta transformação.Mas a ciência de dados tem muito a ganhar com o uso das ferramentas de AutoML, explorando seus pontos fortes e deixando os profissionais livres para trabalharem em seus pontos fracos.<mark>No final do dia, o AutoML é uma ferramenta poderosa disponível no arsenal do cientista de dados, mas ainda assim apenas uma ferramenta, que precisa de um operador para coordenar como esta pequena parte do trabalho vai integrar com o todo.</mark> "
            ]
          },
          "metadata": {}
        }
      ]
    },
    {
      "cell_type": "code",
      "source": [
        "#Pour améliorer le resultat de nos résumés, ca serait necessaire d incluire la LEMMATIZATION ds notre fonction de pretraitement car on a remarqué qu il a \n",
        "#pas mal de mots ayant le meme radical alors qu ils sont considérés différement "
      ],
      "metadata": {
        "id": "nmraEHm-U81d"
      },
      "execution_count": null,
      "outputs": []
    },
    {
      "cell_type": "code",
      "source": [
        "#PRE TRAITEMENT AVEC LEMMATIZATION"
      ],
      "metadata": {
        "id": "H0-4jZhNWyND"
      },
      "execution_count": null,
      "outputs": []
    },
    {
      "cell_type": "code",
      "source": [
        "!pip install spacy==2.2.3 #Atualizado 18/05/2021 - Utilizar essa versão"
      ],
      "metadata": {
        "id": "Ua33vfE9W3VD"
      },
      "execution_count": null,
      "outputs": []
    },
    {
      "cell_type": "code",
      "source": [
        "import spacy"
      ],
      "metadata": {
        "id": "IfIGsF0oW9fv"
      },
      "execution_count": 61,
      "outputs": []
    },
    {
      "cell_type": "code",
      "source": [
        "!python -m spacy download fr"
      ],
      "metadata": {
        "id": "olSwpgTvXAqZ"
      },
      "execution_count": null,
      "outputs": []
    },
    {
      "cell_type": "code",
      "source": [
        "pln = spacy.load('fr')\n",
        "pln"
      ],
      "metadata": {
        "colab": {
          "base_uri": "https://localhost:8080/"
        },
        "id": "VNhcDBrlXJFD",
        "outputId": "6f1b6d8c-722d-4eb2-f84a-4ff833782889"
      },
      "execution_count": 63,
      "outputs": [
        {
          "output_type": "execute_result",
          "data": {
            "text/plain": [
              "<spacy.lang.fr.French at 0x7f679db4a8d0>"
            ]
          },
          "metadata": {},
          "execution_count": 63
        }
      ]
    },
    {
      "cell_type": "code",
      "source": [
        "documento = pln('inteligentes inteligente inteligence courru courrir course courrant')\n",
        "for token in documento:\n",
        "  print(token.text, token.lemma_)"
      ],
      "metadata": {
        "colab": {
          "base_uri": "https://localhost:8080/"
        },
        "id": "toxeKwBRXR2Z",
        "outputId": "596db8f7-67d8-4f47-dc32-564fdb8e42ef"
      },
      "execution_count": 64,
      "outputs": [
        {
          "output_type": "stream",
          "name": "stdout",
          "text": [
            "inteligentes inteligente\n",
            "inteligente inteligent\n",
            "inteligence inteligence\n",
            "courru courru\n",
            "courrir courrir\n",
            "course course\n",
            "courrant courrer\n"
          ]
        }
      ]
    },
    {
      "cell_type": "code",
      "source": [
        "def preprocessamento_lematizacao(texto):\n",
        "  texto = texto.lower()\n",
        "  texto = re.sub(r\" +\", ' ', texto)\n",
        "\n",
        "  documento = pln(texto)\n",
        "  tokens = []\n",
        "  for token in documento:\n",
        "    tokens.append(token.lemma_)\n",
        "  \n",
        "  tokens = [palavra for palavra in tokens if palavra not in stopwords and palavra not in string.punctuation]\n",
        "  texto_formatado = ' '.join([str(elemento) for elemento in tokens if not elemento.isdigit()])\n",
        "  \n",
        "  return texto_formatado"
      ],
      "metadata": {
        "id": "JbxB5dlQX9eJ"
      },
      "execution_count": 65,
      "outputs": []
    },
    {
      "cell_type": "markdown",
      "source": [
        "#CHAP2: ALGO de Luhn"
      ],
      "metadata": {
        "id": "XZ210v8yZDcF"
      }
    },
    {
      "cell_type": "markdown",
      "source": [
        "1. Pre-traitement de texte"
      ],
      "metadata": {
        "id": "eQoHDq2Ekhmk"
      }
    },
    {
      "cell_type": "code",
      "source": [
        "#Les premieres etapes sont identiques à celles du premier algo"
      ],
      "metadata": {
        "id": "c2DZ2zM8ZSaQ"
      },
      "execution_count": null,
      "outputs": []
    },
    {
      "cell_type": "code",
      "source": [
        "import re\n",
        "import nltk\n",
        "import string"
      ],
      "metadata": {
        "id": "eE7mE_7mkI9f"
      },
      "execution_count": 66,
      "outputs": []
    },
    {
      "cell_type": "code",
      "execution_count": 67,
      "metadata": {
        "id": "vNHpnLNlkI9g"
      },
      "outputs": [],
      "source": [
        "texto1 = \"\"\"L ' intelligence artificielle est une intelligence de type humain. \n",
        "                    Ils la définissent comme l'étude d'un agent artificiel doté d ' intelligence. \n",
        "                    Science et ingénierie de la production de machines dotées d ' intelligence. \n",
        "                    Résoudre des problèmes et faire preuve d ' intelligence. \n",
        "                    En rapport avec le comportement intelligent. \n",
        "                    Construire des machines pour raisonner. \n",
        "                    Apprendre des erreurs et des réussites. \n",
        "                    L ' intelligence artificielle consiste à raisonner dans des situations #####de la vie quotidienne.\"\"\"\n"
      ]
    },
    {
      "cell_type": "code",
      "source": [
        "texto1"
      ],
      "metadata": {
        "colab": {
          "base_uri": "https://localhost:8080/",
          "height": 105
        },
        "outputId": "7841a8aa-a8c9-44c2-d231-39963405c9d9",
        "id": "sEN7UuxzkI9g"
      },
      "execution_count": 68,
      "outputs": [
        {
          "output_type": "execute_result",
          "data": {
            "text/plain": [
              "\"L ' intelligence artificielle est une intelligence de type humain. \\n                    Ils la définissent comme l'étude d'un agent artificiel doté d ' intelligence. \\n                    Science et ingénierie de la production de machines dotées d ' intelligence. \\n                    Résoudre des problèmes et faire preuve d ' intelligence. \\n                    En rapport avec le comportement intelligent. \\n                    Construire des machines pour raisonner. \\n                    Apprendre des erreurs et des réussites. \\n                    L ' intelligence artificielle consiste à raisonner dans des situations #####de la vie quotidienne.\""
            ],
            "application/vnd.google.colaboratory.intrinsic+json": {
              "type": "string"
            }
          },
          "metadata": {},
          "execution_count": 68
        }
      ]
    },
    {
      "cell_type": "code",
      "source": [
        "nltk.download('punkt')"
      ],
      "metadata": {
        "colab": {
          "base_uri": "https://localhost:8080/"
        },
        "outputId": "bd763d6a-25c0-46fa-8e81-34f2ea5cc6ad",
        "id": "qOHyhXZakI9i"
      },
      "execution_count": 69,
      "outputs": [
        {
          "output_type": "stream",
          "name": "stdout",
          "text": [
            "[nltk_data] Downloading package punkt to /root/nltk_data...\n",
            "[nltk_data]   Package punkt is already up-to-date!\n"
          ]
        },
        {
          "output_type": "execute_result",
          "data": {
            "text/plain": [
              "True"
            ]
          },
          "metadata": {},
          "execution_count": 69
        }
      ]
    },
    {
      "cell_type": "code",
      "source": [
        "nltk.download('stopwords')"
      ],
      "metadata": {
        "colab": {
          "base_uri": "https://localhost:8080/"
        },
        "outputId": "13fb93ee-61f6-4a6b-f658-e9e9254c3f0d",
        "id": "DuYDIO2PkI9i"
      },
      "execution_count": 70,
      "outputs": [
        {
          "output_type": "stream",
          "name": "stdout",
          "text": [
            "[nltk_data] Downloading package stopwords to /root/nltk_data...\n",
            "[nltk_data]   Package stopwords is already up-to-date!\n"
          ]
        },
        {
          "output_type": "execute_result",
          "data": {
            "text/plain": [
              "True"
            ]
          },
          "metadata": {},
          "execution_count": 70
        }
      ]
    },
    {
      "cell_type": "code",
      "source": [
        "stopwords = nltk.corpus.stopwords.words('french')\n",
        "print(stopwords)"
      ],
      "metadata": {
        "colab": {
          "base_uri": "https://localhost:8080/"
        },
        "outputId": "598a0ebe-46a6-419f-bcd8-23111cb9e3d2",
        "id": "FRIdAwoIkI9j"
      },
      "execution_count": 71,
      "outputs": [
        {
          "output_type": "stream",
          "name": "stdout",
          "text": [
            "['au', 'aux', 'avec', 'ce', 'ces', 'dans', 'de', 'des', 'du', 'elle', 'en', 'et', 'eux', 'il', 'ils', 'je', 'la', 'le', 'les', 'leur', 'lui', 'ma', 'mais', 'me', 'même', 'mes', 'moi', 'mon', 'ne', 'nos', 'notre', 'nous', 'on', 'ou', 'par', 'pas', 'pour', 'qu', 'que', 'qui', 'sa', 'se', 'ses', 'son', 'sur', 'ta', 'te', 'tes', 'toi', 'ton', 'tu', 'un', 'une', 'vos', 'votre', 'vous', 'c', 'd', 'j', 'l', 'à', 'm', 'n', 's', 't', 'y', 'été', 'étée', 'étées', 'étés', 'étant', 'étante', 'étants', 'étantes', 'suis', 'es', 'est', 'sommes', 'êtes', 'sont', 'serai', 'seras', 'sera', 'serons', 'serez', 'seront', 'serais', 'serait', 'serions', 'seriez', 'seraient', 'étais', 'était', 'étions', 'étiez', 'étaient', 'fus', 'fut', 'fûmes', 'fûtes', 'furent', 'sois', 'soit', 'soyons', 'soyez', 'soient', 'fusse', 'fusses', 'fût', 'fussions', 'fussiez', 'fussent', 'ayant', 'ayante', 'ayantes', 'ayants', 'eu', 'eue', 'eues', 'eus', 'ai', 'as', 'avons', 'avez', 'ont', 'aurai', 'auras', 'aura', 'aurons', 'aurez', 'auront', 'aurais', 'aurait', 'aurions', 'auriez', 'auraient', 'avais', 'avait', 'avions', 'aviez', 'avaient', 'eut', 'eûmes', 'eûtes', 'eurent', 'aie', 'aies', 'ait', 'ayons', 'ayez', 'aient', 'eusse', 'eusses', 'eût', 'eussions', 'eussiez', 'eussent']\n"
          ]
        }
      ]
    },
    {
      "cell_type": "code",
      "source": [
        "def preprocessamento(texto):\n",
        "  texto_formatado = texto.lower()\n",
        "  tokens = []\n",
        "  for token in nltk.word_tokenize(texto_formatado):\n",
        "    tokens.append(token)\n",
        "\n",
        "  tokens = [palavra for palavra in tokens if palavra not in stopwords and palavra not in string.punctuation]\n",
        "  texto_formatado = ' '.join([str(elemento) for elemento in tokens if not elemento.isdigit()])\n",
        "\n",
        "  return texto_formatado"
      ],
      "metadata": {
        "id": "WxFnbEcjkI9l"
      },
      "execution_count": 72,
      "outputs": []
    },
    {
      "cell_type": "code",
      "source": [
        "preprocessamento(texto1)"
      ],
      "metadata": {
        "colab": {
          "base_uri": "https://localhost:8080/",
          "height": 70
        },
        "outputId": "b227352b-01b7-409d-bc55-6ae0baf10a4a",
        "id": "9ih8OiY3kI9m"
      },
      "execution_count": 73,
      "outputs": [
        {
          "output_type": "execute_result",
          "data": {
            "text/plain": [
              "\"intelligence artificielle intelligence type humain définissent comme l'étude d'un agent artificiel doté intelligence science ingénierie production machines dotées intelligence résoudre problèmes faire preuve intelligence rapport comportement intelligent construire machines raisonner apprendre erreurs réussites intelligence artificielle consiste raisonner situations vie quotidienne\""
            ],
            "application/vnd.google.colaboratory.intrinsic+json": {
              "type": "string"
            }
          },
          "metadata": {},
          "execution_count": 73
        }
      ]
    }
  ]
}